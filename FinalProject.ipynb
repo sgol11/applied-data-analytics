{
  "cells": [
    {
      "cell_type": "markdown",
      "metadata": {
        "id": "5CzxSttzKC4C"
      },
      "source": [
        "Задание: <br><br>\n",
        "В рамках этого проекта вы будете работать над пониманием результатов A/B-теста, проведенного веб-сайтом электронной коммерции. Компания разработала новую веб-страницу с целью увеличения **количества пользователей, которые \"конвертируют\"**, то есть пользователей, которые решают заплатить за продукт компании. Ваша цель - поработать с этим блокнотом, чтобы помочь компании понять, следует ли им внедрить новую страницу, сохранить старую или, возможно, продлить эксперимент, чтобы принять решение."
      ]
    },
    {
      "cell_type": "markdown",
      "metadata": {
        "id": "dTOb6v_llEJl"
      },
      "source": [
        "#0. Загрузка необходимых библиотек"
      ]
    },
    {
      "cell_type": "code",
      "execution_count": null,
      "metadata": {
        "id": "NPySkLZ_NQxB"
      },
      "outputs": [],
      "source": [
        "!pip install bootstrapped"
      ]
    },
    {
      "cell_type": "code",
      "execution_count": null,
      "metadata": {
        "id": "Xx4fhjkkMCI8"
      },
      "outputs": [],
      "source": [
        "import warnings\n",
        "warnings.filterwarnings('ignore')"
      ]
    },
    {
      "cell_type": "code",
      "execution_count": null,
      "metadata": {
        "id": "6FN2Um-RJ9k0"
      },
      "outputs": [],
      "source": [
        "import numpy as np\n",
        "import pandas as pd\n",
        "import matplotlib.pyplot as plt \n",
        "import seaborn as sns\n",
        "\n",
        "from bootstrapped import bootstrap as bs\n",
        "from bootstrapped import compare_functions as bs_compare\n",
        "from bootstrapped import stats_functions as bs_stats"
      ]
    },
    {
      "cell_type": "markdown",
      "metadata": {
        "id": "Gp9b1yLTloDU"
      },
      "source": [
        "#1. Изучение общей информации о данных"
      ]
    },
    {
      "cell_type": "markdown",
      "metadata": {
        "id": "2GolanGKnhz8"
      },
      "source": [
        "Загружаем данные:"
      ]
    },
    {
      "cell_type": "code",
      "execution_count": null,
      "metadata": {
        "colab": {
          "base_uri": "https://localhost:8080/"
        },
        "id": "P5Ch4WOZMLzT",
        "outputId": "fab6a42e-8e00-4390-cdf8-1ce8aaf06430"
      },
      "outputs": [
        {
          "output_type": "stream",
          "name": "stdout",
          "text": [
            "Mounted at /content/gdrive\n"
          ]
        }
      ],
      "source": [
        "from google.colab import drive\n",
        "drive.mount('/content/gdrive')\n",
        "\n",
        "data = pd.read_csv('gdrive/MyDrive/Colab Notebooks/e_commerce_data/ab_test.csv')\n",
        "countries = pd.read_csv('gdrive/MyDrive/Colab Notebooks/e_commerce_data/countries_ab.csv')"
      ]
    },
    {
      "cell_type": "markdown",
      "metadata": {
        "id": "_dB2vVEjnsZj"
      },
      "source": [
        "Выводим общую информацию о таблице data:"
      ]
    },
    {
      "cell_type": "code",
      "execution_count": null,
      "metadata": {
        "colab": {
          "base_uri": "https://localhost:8080/",
          "height": 414
        },
        "id": "UdacIFGCNRK_",
        "outputId": "7efd3e0b-1740-49b0-e461-8bb8a562df92"
      },
      "outputs": [
        {
          "output_type": "stream",
          "name": "stdout",
          "text": [
            "<class 'pandas.core.frame.DataFrame'>\n",
            "RangeIndex: 294478 entries, 0 to 294477\n",
            "Data columns (total 5 columns):\n",
            " #   Column     Non-Null Count   Dtype \n",
            "---  ------     --------------   ----- \n",
            " 0   id         294478 non-null  int64 \n",
            " 1   time       294478 non-null  object\n",
            " 2   con_treat  294478 non-null  object\n",
            " 3   page       294478 non-null  object\n",
            " 4   converted  294478 non-null  int64 \n",
            "dtypes: int64(2), object(3)\n",
            "memory usage: 11.2+ MB\n"
          ]
        },
        {
          "output_type": "execute_result",
          "data": {
            "text/html": [
              "\n",
              "  <div id=\"df-0a87c402-488b-47ee-ae40-fabe65115adc\">\n",
              "    <div class=\"colab-df-container\">\n",
              "      <div>\n",
              "<style scoped>\n",
              "    .dataframe tbody tr th:only-of-type {\n",
              "        vertical-align: middle;\n",
              "    }\n",
              "\n",
              "    .dataframe tbody tr th {\n",
              "        vertical-align: top;\n",
              "    }\n",
              "\n",
              "    .dataframe thead th {\n",
              "        text-align: right;\n",
              "    }\n",
              "</style>\n",
              "<table border=\"1\" class=\"dataframe\">\n",
              "  <thead>\n",
              "    <tr style=\"text-align: right;\">\n",
              "      <th></th>\n",
              "      <th>id</th>\n",
              "      <th>time</th>\n",
              "      <th>con_treat</th>\n",
              "      <th>page</th>\n",
              "      <th>converted</th>\n",
              "    </tr>\n",
              "  </thead>\n",
              "  <tbody>\n",
              "    <tr>\n",
              "      <th>0</th>\n",
              "      <td>851104</td>\n",
              "      <td>11:48.6</td>\n",
              "      <td>control</td>\n",
              "      <td>old_page</td>\n",
              "      <td>0</td>\n",
              "    </tr>\n",
              "    <tr>\n",
              "      <th>1</th>\n",
              "      <td>804228</td>\n",
              "      <td>01:45.2</td>\n",
              "      <td>control</td>\n",
              "      <td>old_page</td>\n",
              "      <td>0</td>\n",
              "    </tr>\n",
              "    <tr>\n",
              "      <th>2</th>\n",
              "      <td>661590</td>\n",
              "      <td>55:06.2</td>\n",
              "      <td>treatment</td>\n",
              "      <td>new_page</td>\n",
              "      <td>0</td>\n",
              "    </tr>\n",
              "    <tr>\n",
              "      <th>3</th>\n",
              "      <td>853541</td>\n",
              "      <td>28:03.1</td>\n",
              "      <td>treatment</td>\n",
              "      <td>new_page</td>\n",
              "      <td>0</td>\n",
              "    </tr>\n",
              "    <tr>\n",
              "      <th>4</th>\n",
              "      <td>864975</td>\n",
              "      <td>52:26.2</td>\n",
              "      <td>control</td>\n",
              "      <td>old_page</td>\n",
              "      <td>1</td>\n",
              "    </tr>\n",
              "  </tbody>\n",
              "</table>\n",
              "</div>\n",
              "      <button class=\"colab-df-convert\" onclick=\"convertToInteractive('df-0a87c402-488b-47ee-ae40-fabe65115adc')\"\n",
              "              title=\"Convert this dataframe to an interactive table.\"\n",
              "              style=\"display:none;\">\n",
              "        \n",
              "  <svg xmlns=\"http://www.w3.org/2000/svg\" height=\"24px\"viewBox=\"0 0 24 24\"\n",
              "       width=\"24px\">\n",
              "    <path d=\"M0 0h24v24H0V0z\" fill=\"none\"/>\n",
              "    <path d=\"M18.56 5.44l.94 2.06.94-2.06 2.06-.94-2.06-.94-.94-2.06-.94 2.06-2.06.94zm-11 1L8.5 8.5l.94-2.06 2.06-.94-2.06-.94L8.5 2.5l-.94 2.06-2.06.94zm10 10l.94 2.06.94-2.06 2.06-.94-2.06-.94-.94-2.06-.94 2.06-2.06.94z\"/><path d=\"M17.41 7.96l-1.37-1.37c-.4-.4-.92-.59-1.43-.59-.52 0-1.04.2-1.43.59L10.3 9.45l-7.72 7.72c-.78.78-.78 2.05 0 2.83L4 21.41c.39.39.9.59 1.41.59.51 0 1.02-.2 1.41-.59l7.78-7.78 2.81-2.81c.8-.78.8-2.07 0-2.86zM5.41 20L4 18.59l7.72-7.72 1.47 1.35L5.41 20z\"/>\n",
              "  </svg>\n",
              "      </button>\n",
              "      \n",
              "  <style>\n",
              "    .colab-df-container {\n",
              "      display:flex;\n",
              "      flex-wrap:wrap;\n",
              "      gap: 12px;\n",
              "    }\n",
              "\n",
              "    .colab-df-convert {\n",
              "      background-color: #E8F0FE;\n",
              "      border: none;\n",
              "      border-radius: 50%;\n",
              "      cursor: pointer;\n",
              "      display: none;\n",
              "      fill: #1967D2;\n",
              "      height: 32px;\n",
              "      padding: 0 0 0 0;\n",
              "      width: 32px;\n",
              "    }\n",
              "\n",
              "    .colab-df-convert:hover {\n",
              "      background-color: #E2EBFA;\n",
              "      box-shadow: 0px 1px 2px rgba(60, 64, 67, 0.3), 0px 1px 3px 1px rgba(60, 64, 67, 0.15);\n",
              "      fill: #174EA6;\n",
              "    }\n",
              "\n",
              "    [theme=dark] .colab-df-convert {\n",
              "      background-color: #3B4455;\n",
              "      fill: #D2E3FC;\n",
              "    }\n",
              "\n",
              "    [theme=dark] .colab-df-convert:hover {\n",
              "      background-color: #434B5C;\n",
              "      box-shadow: 0px 1px 3px 1px rgba(0, 0, 0, 0.15);\n",
              "      filter: drop-shadow(0px 1px 2px rgba(0, 0, 0, 0.3));\n",
              "      fill: #FFFFFF;\n",
              "    }\n",
              "  </style>\n",
              "\n",
              "      <script>\n",
              "        const buttonEl =\n",
              "          document.querySelector('#df-0a87c402-488b-47ee-ae40-fabe65115adc button.colab-df-convert');\n",
              "        buttonEl.style.display =\n",
              "          google.colab.kernel.accessAllowed ? 'block' : 'none';\n",
              "\n",
              "        async function convertToInteractive(key) {\n",
              "          const element = document.querySelector('#df-0a87c402-488b-47ee-ae40-fabe65115adc');\n",
              "          const dataTable =\n",
              "            await google.colab.kernel.invokeFunction('convertToInteractive',\n",
              "                                                     [key], {});\n",
              "          if (!dataTable) return;\n",
              "\n",
              "          const docLinkHtml = 'Like what you see? Visit the ' +\n",
              "            '<a target=\"_blank\" href=https://colab.research.google.com/notebooks/data_table.ipynb>data table notebook</a>'\n",
              "            + ' to learn more about interactive tables.';\n",
              "          element.innerHTML = '';\n",
              "          dataTable['output_type'] = 'display_data';\n",
              "          await google.colab.output.renderOutput(dataTable, element);\n",
              "          const docLink = document.createElement('div');\n",
              "          docLink.innerHTML = docLinkHtml;\n",
              "          element.appendChild(docLink);\n",
              "        }\n",
              "      </script>\n",
              "    </div>\n",
              "  </div>\n",
              "  "
            ],
            "text/plain": [
              "       id     time  con_treat      page  converted\n",
              "0  851104  11:48.6    control  old_page          0\n",
              "1  804228  01:45.2    control  old_page          0\n",
              "2  661590  55:06.2  treatment  new_page          0\n",
              "3  853541  28:03.1  treatment  new_page          0\n",
              "4  864975  52:26.2    control  old_page          1"
            ]
          },
          "metadata": {},
          "execution_count": 5
        }
      ],
      "source": [
        "data.info()\n",
        "data.head(5)"
      ]
    },
    {
      "cell_type": "markdown",
      "metadata": {
        "id": "dJ4nNyttw3g6"
      },
      "source": [
        "Мы сразу можем заметить, что в таблице нет пропусков (null)"
      ]
    },
    {
      "cell_type": "markdown",
      "metadata": {
        "id": "9D75mYC2nWqW"
      },
      "source": [
        "Изменяем название столбца con_treat для лучшей читабельности информации о данных:"
      ]
    },
    {
      "cell_type": "code",
      "execution_count": null,
      "metadata": {
        "colab": {
          "base_uri": "https://localhost:8080/",
          "height": 206
        },
        "id": "8IafmtjgOYvC",
        "outputId": "cd2dc0c1-411c-466a-c6f7-ae426991da1e"
      },
      "outputs": [
        {
          "output_type": "execute_result",
          "data": {
            "text/html": [
              "\n",
              "  <div id=\"df-e3c20a6b-09da-419d-acb1-d0de79f83e8a\">\n",
              "    <div class=\"colab-df-container\">\n",
              "      <div>\n",
              "<style scoped>\n",
              "    .dataframe tbody tr th:only-of-type {\n",
              "        vertical-align: middle;\n",
              "    }\n",
              "\n",
              "    .dataframe tbody tr th {\n",
              "        vertical-align: top;\n",
              "    }\n",
              "\n",
              "    .dataframe thead th {\n",
              "        text-align: right;\n",
              "    }\n",
              "</style>\n",
              "<table border=\"1\" class=\"dataframe\">\n",
              "  <thead>\n",
              "    <tr style=\"text-align: right;\">\n",
              "      <th></th>\n",
              "      <th>id</th>\n",
              "      <th>time</th>\n",
              "      <th>group</th>\n",
              "      <th>page</th>\n",
              "      <th>converted</th>\n",
              "    </tr>\n",
              "  </thead>\n",
              "  <tbody>\n",
              "    <tr>\n",
              "      <th>0</th>\n",
              "      <td>851104</td>\n",
              "      <td>11:48.6</td>\n",
              "      <td>control</td>\n",
              "      <td>old_page</td>\n",
              "      <td>0</td>\n",
              "    </tr>\n",
              "    <tr>\n",
              "      <th>1</th>\n",
              "      <td>804228</td>\n",
              "      <td>01:45.2</td>\n",
              "      <td>control</td>\n",
              "      <td>old_page</td>\n",
              "      <td>0</td>\n",
              "    </tr>\n",
              "    <tr>\n",
              "      <th>2</th>\n",
              "      <td>661590</td>\n",
              "      <td>55:06.2</td>\n",
              "      <td>treatment</td>\n",
              "      <td>new_page</td>\n",
              "      <td>0</td>\n",
              "    </tr>\n",
              "    <tr>\n",
              "      <th>3</th>\n",
              "      <td>853541</td>\n",
              "      <td>28:03.1</td>\n",
              "      <td>treatment</td>\n",
              "      <td>new_page</td>\n",
              "      <td>0</td>\n",
              "    </tr>\n",
              "    <tr>\n",
              "      <th>4</th>\n",
              "      <td>864975</td>\n",
              "      <td>52:26.2</td>\n",
              "      <td>control</td>\n",
              "      <td>old_page</td>\n",
              "      <td>1</td>\n",
              "    </tr>\n",
              "  </tbody>\n",
              "</table>\n",
              "</div>\n",
              "      <button class=\"colab-df-convert\" onclick=\"convertToInteractive('df-e3c20a6b-09da-419d-acb1-d0de79f83e8a')\"\n",
              "              title=\"Convert this dataframe to an interactive table.\"\n",
              "              style=\"display:none;\">\n",
              "        \n",
              "  <svg xmlns=\"http://www.w3.org/2000/svg\" height=\"24px\"viewBox=\"0 0 24 24\"\n",
              "       width=\"24px\">\n",
              "    <path d=\"M0 0h24v24H0V0z\" fill=\"none\"/>\n",
              "    <path d=\"M18.56 5.44l.94 2.06.94-2.06 2.06-.94-2.06-.94-.94-2.06-.94 2.06-2.06.94zm-11 1L8.5 8.5l.94-2.06 2.06-.94-2.06-.94L8.5 2.5l-.94 2.06-2.06.94zm10 10l.94 2.06.94-2.06 2.06-.94-2.06-.94-.94-2.06-.94 2.06-2.06.94z\"/><path d=\"M17.41 7.96l-1.37-1.37c-.4-.4-.92-.59-1.43-.59-.52 0-1.04.2-1.43.59L10.3 9.45l-7.72 7.72c-.78.78-.78 2.05 0 2.83L4 21.41c.39.39.9.59 1.41.59.51 0 1.02-.2 1.41-.59l7.78-7.78 2.81-2.81c.8-.78.8-2.07 0-2.86zM5.41 20L4 18.59l7.72-7.72 1.47 1.35L5.41 20z\"/>\n",
              "  </svg>\n",
              "      </button>\n",
              "      \n",
              "  <style>\n",
              "    .colab-df-container {\n",
              "      display:flex;\n",
              "      flex-wrap:wrap;\n",
              "      gap: 12px;\n",
              "    }\n",
              "\n",
              "    .colab-df-convert {\n",
              "      background-color: #E8F0FE;\n",
              "      border: none;\n",
              "      border-radius: 50%;\n",
              "      cursor: pointer;\n",
              "      display: none;\n",
              "      fill: #1967D2;\n",
              "      height: 32px;\n",
              "      padding: 0 0 0 0;\n",
              "      width: 32px;\n",
              "    }\n",
              "\n",
              "    .colab-df-convert:hover {\n",
              "      background-color: #E2EBFA;\n",
              "      box-shadow: 0px 1px 2px rgba(60, 64, 67, 0.3), 0px 1px 3px 1px rgba(60, 64, 67, 0.15);\n",
              "      fill: #174EA6;\n",
              "    }\n",
              "\n",
              "    [theme=dark] .colab-df-convert {\n",
              "      background-color: #3B4455;\n",
              "      fill: #D2E3FC;\n",
              "    }\n",
              "\n",
              "    [theme=dark] .colab-df-convert:hover {\n",
              "      background-color: #434B5C;\n",
              "      box-shadow: 0px 1px 3px 1px rgba(0, 0, 0, 0.15);\n",
              "      filter: drop-shadow(0px 1px 2px rgba(0, 0, 0, 0.3));\n",
              "      fill: #FFFFFF;\n",
              "    }\n",
              "  </style>\n",
              "\n",
              "      <script>\n",
              "        const buttonEl =\n",
              "          document.querySelector('#df-e3c20a6b-09da-419d-acb1-d0de79f83e8a button.colab-df-convert');\n",
              "        buttonEl.style.display =\n",
              "          google.colab.kernel.accessAllowed ? 'block' : 'none';\n",
              "\n",
              "        async function convertToInteractive(key) {\n",
              "          const element = document.querySelector('#df-e3c20a6b-09da-419d-acb1-d0de79f83e8a');\n",
              "          const dataTable =\n",
              "            await google.colab.kernel.invokeFunction('convertToInteractive',\n",
              "                                                     [key], {});\n",
              "          if (!dataTable) return;\n",
              "\n",
              "          const docLinkHtml = 'Like what you see? Visit the ' +\n",
              "            '<a target=\"_blank\" href=https://colab.research.google.com/notebooks/data_table.ipynb>data table notebook</a>'\n",
              "            + ' to learn more about interactive tables.';\n",
              "          element.innerHTML = '';\n",
              "          dataTable['output_type'] = 'display_data';\n",
              "          await google.colab.output.renderOutput(dataTable, element);\n",
              "          const docLink = document.createElement('div');\n",
              "          docLink.innerHTML = docLinkHtml;\n",
              "          element.appendChild(docLink);\n",
              "        }\n",
              "      </script>\n",
              "    </div>\n",
              "  </div>\n",
              "  "
            ],
            "text/plain": [
              "       id     time      group      page  converted\n",
              "0  851104  11:48.6    control  old_page          0\n",
              "1  804228  01:45.2    control  old_page          0\n",
              "2  661590  55:06.2  treatment  new_page          0\n",
              "3  853541  28:03.1  treatment  new_page          0\n",
              "4  864975  52:26.2    control  old_page          1"
            ]
          },
          "metadata": {},
          "execution_count": 6
        }
      ],
      "source": [
        "data = data.rename(columns={'con_treat':'group'})\n",
        "data.head()"
      ]
    },
    {
      "cell_type": "markdown",
      "metadata": {
        "id": "qQ9oeeXxobjd"
      },
      "source": [
        "Выводим общую информацию о таблице countries:"
      ]
    },
    {
      "cell_type": "code",
      "execution_count": null,
      "metadata": {
        "colab": {
          "base_uri": "https://localhost:8080/",
          "height": 362
        },
        "id": "3HEdzbQrOSR_",
        "outputId": "6a817669-5fc8-4b27-a823-23047a57461e"
      },
      "outputs": [
        {
          "output_type": "stream",
          "name": "stdout",
          "text": [
            "<class 'pandas.core.frame.DataFrame'>\n",
            "RangeIndex: 290584 entries, 0 to 290583\n",
            "Data columns (total 2 columns):\n",
            " #   Column   Non-Null Count   Dtype \n",
            "---  ------   --------------   ----- \n",
            " 0   id       290584 non-null  int64 \n",
            " 1   country  290584 non-null  object\n",
            "dtypes: int64(1), object(1)\n",
            "memory usage: 4.4+ MB\n"
          ]
        },
        {
          "output_type": "execute_result",
          "data": {
            "text/html": [
              "\n",
              "  <div id=\"df-b2764b18-7b97-40c3-b9e8-f711f2e5e96c\">\n",
              "    <div class=\"colab-df-container\">\n",
              "      <div>\n",
              "<style scoped>\n",
              "    .dataframe tbody tr th:only-of-type {\n",
              "        vertical-align: middle;\n",
              "    }\n",
              "\n",
              "    .dataframe tbody tr th {\n",
              "        vertical-align: top;\n",
              "    }\n",
              "\n",
              "    .dataframe thead th {\n",
              "        text-align: right;\n",
              "    }\n",
              "</style>\n",
              "<table border=\"1\" class=\"dataframe\">\n",
              "  <thead>\n",
              "    <tr style=\"text-align: right;\">\n",
              "      <th></th>\n",
              "      <th>id</th>\n",
              "      <th>country</th>\n",
              "    </tr>\n",
              "  </thead>\n",
              "  <tbody>\n",
              "    <tr>\n",
              "      <th>0</th>\n",
              "      <td>834778</td>\n",
              "      <td>UK</td>\n",
              "    </tr>\n",
              "    <tr>\n",
              "      <th>1</th>\n",
              "      <td>928468</td>\n",
              "      <td>US</td>\n",
              "    </tr>\n",
              "    <tr>\n",
              "      <th>2</th>\n",
              "      <td>822059</td>\n",
              "      <td>UK</td>\n",
              "    </tr>\n",
              "    <tr>\n",
              "      <th>3</th>\n",
              "      <td>711597</td>\n",
              "      <td>UK</td>\n",
              "    </tr>\n",
              "    <tr>\n",
              "      <th>4</th>\n",
              "      <td>710616</td>\n",
              "      <td>UK</td>\n",
              "    </tr>\n",
              "  </tbody>\n",
              "</table>\n",
              "</div>\n",
              "      <button class=\"colab-df-convert\" onclick=\"convertToInteractive('df-b2764b18-7b97-40c3-b9e8-f711f2e5e96c')\"\n",
              "              title=\"Convert this dataframe to an interactive table.\"\n",
              "              style=\"display:none;\">\n",
              "        \n",
              "  <svg xmlns=\"http://www.w3.org/2000/svg\" height=\"24px\"viewBox=\"0 0 24 24\"\n",
              "       width=\"24px\">\n",
              "    <path d=\"M0 0h24v24H0V0z\" fill=\"none\"/>\n",
              "    <path d=\"M18.56 5.44l.94 2.06.94-2.06 2.06-.94-2.06-.94-.94-2.06-.94 2.06-2.06.94zm-11 1L8.5 8.5l.94-2.06 2.06-.94-2.06-.94L8.5 2.5l-.94 2.06-2.06.94zm10 10l.94 2.06.94-2.06 2.06-.94-2.06-.94-.94-2.06-.94 2.06-2.06.94z\"/><path d=\"M17.41 7.96l-1.37-1.37c-.4-.4-.92-.59-1.43-.59-.52 0-1.04.2-1.43.59L10.3 9.45l-7.72 7.72c-.78.78-.78 2.05 0 2.83L4 21.41c.39.39.9.59 1.41.59.51 0 1.02-.2 1.41-.59l7.78-7.78 2.81-2.81c.8-.78.8-2.07 0-2.86zM5.41 20L4 18.59l7.72-7.72 1.47 1.35L5.41 20z\"/>\n",
              "  </svg>\n",
              "      </button>\n",
              "      \n",
              "  <style>\n",
              "    .colab-df-container {\n",
              "      display:flex;\n",
              "      flex-wrap:wrap;\n",
              "      gap: 12px;\n",
              "    }\n",
              "\n",
              "    .colab-df-convert {\n",
              "      background-color: #E8F0FE;\n",
              "      border: none;\n",
              "      border-radius: 50%;\n",
              "      cursor: pointer;\n",
              "      display: none;\n",
              "      fill: #1967D2;\n",
              "      height: 32px;\n",
              "      padding: 0 0 0 0;\n",
              "      width: 32px;\n",
              "    }\n",
              "\n",
              "    .colab-df-convert:hover {\n",
              "      background-color: #E2EBFA;\n",
              "      box-shadow: 0px 1px 2px rgba(60, 64, 67, 0.3), 0px 1px 3px 1px rgba(60, 64, 67, 0.15);\n",
              "      fill: #174EA6;\n",
              "    }\n",
              "\n",
              "    [theme=dark] .colab-df-convert {\n",
              "      background-color: #3B4455;\n",
              "      fill: #D2E3FC;\n",
              "    }\n",
              "\n",
              "    [theme=dark] .colab-df-convert:hover {\n",
              "      background-color: #434B5C;\n",
              "      box-shadow: 0px 1px 3px 1px rgba(0, 0, 0, 0.15);\n",
              "      filter: drop-shadow(0px 1px 2px rgba(0, 0, 0, 0.3));\n",
              "      fill: #FFFFFF;\n",
              "    }\n",
              "  </style>\n",
              "\n",
              "      <script>\n",
              "        const buttonEl =\n",
              "          document.querySelector('#df-b2764b18-7b97-40c3-b9e8-f711f2e5e96c button.colab-df-convert');\n",
              "        buttonEl.style.display =\n",
              "          google.colab.kernel.accessAllowed ? 'block' : 'none';\n",
              "\n",
              "        async function convertToInteractive(key) {\n",
              "          const element = document.querySelector('#df-b2764b18-7b97-40c3-b9e8-f711f2e5e96c');\n",
              "          const dataTable =\n",
              "            await google.colab.kernel.invokeFunction('convertToInteractive',\n",
              "                                                     [key], {});\n",
              "          if (!dataTable) return;\n",
              "\n",
              "          const docLinkHtml = 'Like what you see? Visit the ' +\n",
              "            '<a target=\"_blank\" href=https://colab.research.google.com/notebooks/data_table.ipynb>data table notebook</a>'\n",
              "            + ' to learn more about interactive tables.';\n",
              "          element.innerHTML = '';\n",
              "          dataTable['output_type'] = 'display_data';\n",
              "          await google.colab.output.renderOutput(dataTable, element);\n",
              "          const docLink = document.createElement('div');\n",
              "          docLink.innerHTML = docLinkHtml;\n",
              "          element.appendChild(docLink);\n",
              "        }\n",
              "      </script>\n",
              "    </div>\n",
              "  </div>\n",
              "  "
            ],
            "text/plain": [
              "       id country\n",
              "0  834778      UK\n",
              "1  928468      US\n",
              "2  822059      UK\n",
              "3  711597      UK\n",
              "4  710616      UK"
            ]
          },
          "metadata": {},
          "execution_count": 7
        }
      ],
      "source": [
        "countries.info()\n",
        "countries.head(5)"
      ]
    },
    {
      "cell_type": "markdown",
      "metadata": {
        "id": "H5U9u20dxCZp"
      },
      "source": [
        "Мы сразу можем заметить, что в таблице нет пропусков (null)"
      ]
    },
    {
      "cell_type": "markdown",
      "source": [
        "В таблице представлены данные о пользователях из трех стран: США (US), Великобритании (UK) и Канады (UK)"
      ],
      "metadata": {
        "id": "AIdz-S_2geUR"
      }
    },
    {
      "cell_type": "code",
      "source": [
        "countries['country'].unique()"
      ],
      "metadata": {
        "colab": {
          "base_uri": "https://localhost:8080/"
        },
        "id": "bNDYQ0TKgaof",
        "outputId": "2ccc5e0d-bec3-4bd2-9f5c-330d0c4dad5c"
      },
      "execution_count": null,
      "outputs": [
        {
          "output_type": "execute_result",
          "data": {
            "text/plain": [
              "array(['UK', 'US', 'CA'], dtype=object)"
            ]
          },
          "metadata": {},
          "execution_count": 8
        }
      ]
    },
    {
      "cell_type": "markdown",
      "metadata": {
        "id": "tQXshKECsw2x"
      },
      "source": [
        "**Информация о данных:** <br>\n",
        "Количество записей в таблице data - 294478, в таблице countries - 290584. <br>\n",
        "Поля: <br>\n",
        "- id - уникальный идентификатор пользователя\n",
        "- time - общее время, проведенное на странице\n",
        "- group - группа, к которой был отнесен пользователь (тестовая или контрольная)\n",
        "- page - вариант страницы, показываемый пользователю (старый или новый)\n",
        "- converted - решение пользователя заплатить за продукт (да или нет)\n",
        "- country - страна (UK, US, CA)\n"
      ]
    },
    {
      "cell_type": "markdown",
      "metadata": {
        "id": "b7TZ7U4uuy_7"
      },
      "source": [
        "#2. Предобработка данных"
      ]
    },
    {
      "cell_type": "markdown",
      "metadata": {
        "id": "QmVrsVRp2vEP"
      },
      "source": [
        "Пропусков (null) в данных нет, что мы заметили в предыдущем пункте"
      ]
    },
    {
      "cell_type": "markdown",
      "metadata": {
        "id": "5Nl70t4-ouVh"
      },
      "source": [
        "Количества записей в таблицах data и users различаются, хотя таблицы и связаны полем 'id'. Посмотрим, сколько уникальных id в каждой таблице:"
      ]
    },
    {
      "cell_type": "code",
      "execution_count": null,
      "metadata": {
        "colab": {
          "base_uri": "https://localhost:8080/"
        },
        "id": "-GDtH_wFkT-p",
        "outputId": "02543c12-f760-41be-8bac-6903b571de29"
      },
      "outputs": [
        {
          "output_type": "stream",
          "name": "stdout",
          "text": [
            "Number of unique IDs in the 'data' table: 290584\n",
            "Number of unique IDs in the 'countries' table: 290584\n"
          ]
        }
      ],
      "source": [
        "print('Number of unique IDs in the \\'data\\' table:', data['id'].nunique())\n",
        "print('Number of unique IDs in the \\'countries\\' table:', countries['id'].nunique())"
      ]
    },
    {
      "cell_type": "markdown",
      "metadata": {
        "id": "BBYFuy30srzc"
      },
      "source": [
        "Количества уникальных id в таблицах совпадают. <br>\n",
        "Стоит разобраться с дубликатами id в таблице data, т.к. вся информация о конкретном пользователе хранится в записи с его идентификатором (в том числе, если пользователь несколько раз заходил на сайт, время, проведенное им на сайте, суммируется, а converted становится равным 1, если пользователь хотя бы в одном посещении решил заплатить за продукт)"
      ]
    },
    {
      "cell_type": "code",
      "execution_count": null,
      "metadata": {
        "id": "oT6xFkYSGMlu"
      },
      "outputs": [],
      "source": [
        "counts = data.groupby('id').size()\n",
        "duplicates = pd.DataFrame(counts, columns = ['size'])\n",
        "duplicates = duplicates.loc[duplicates['size'] > 1]"
      ]
    },
    {
      "cell_type": "code",
      "execution_count": null,
      "metadata": {
        "colab": {
          "base_uri": "https://localhost:8080/",
          "height": 363
        },
        "id": "GGB-rYNTG5aD",
        "outputId": "574619ba-c9a4-471e-e417-8a231d8e36ee"
      },
      "outputs": [
        {
          "output_type": "execute_result",
          "data": {
            "text/html": [
              "\n",
              "  <div id=\"df-687e0eee-3db9-4cf7-84a7-c4ea9e4ef871\">\n",
              "    <div class=\"colab-df-container\">\n",
              "      <div>\n",
              "<style scoped>\n",
              "    .dataframe tbody tr th:only-of-type {\n",
              "        vertical-align: middle;\n",
              "    }\n",
              "\n",
              "    .dataframe tbody tr th {\n",
              "        vertical-align: top;\n",
              "    }\n",
              "\n",
              "    .dataframe thead th {\n",
              "        text-align: right;\n",
              "    }\n",
              "</style>\n",
              "<table border=\"1\" class=\"dataframe\">\n",
              "  <thead>\n",
              "    <tr style=\"text-align: right;\">\n",
              "      <th></th>\n",
              "      <th>id</th>\n",
              "      <th>time</th>\n",
              "      <th>group</th>\n",
              "      <th>page</th>\n",
              "      <th>converted</th>\n",
              "    </tr>\n",
              "  </thead>\n",
              "  <tbody>\n",
              "    <tr>\n",
              "      <th>230259</th>\n",
              "      <td>630052</td>\n",
              "      <td>16:05.2</td>\n",
              "      <td>treatment</td>\n",
              "      <td>new_page</td>\n",
              "      <td>0</td>\n",
              "    </tr>\n",
              "    <tr>\n",
              "      <th>213114</th>\n",
              "      <td>630052</td>\n",
              "      <td>25:54.1</td>\n",
              "      <td>treatment</td>\n",
              "      <td>old_page</td>\n",
              "      <td>1</td>\n",
              "    </tr>\n",
              "    <tr>\n",
              "      <th>22513</th>\n",
              "      <td>630126</td>\n",
              "      <td>35:54.8</td>\n",
              "      <td>treatment</td>\n",
              "      <td>old_page</td>\n",
              "      <td>0</td>\n",
              "    </tr>\n",
              "    <tr>\n",
              "      <th>251762</th>\n",
              "      <td>630126</td>\n",
              "      <td>16:00.3</td>\n",
              "      <td>treatment</td>\n",
              "      <td>new_page</td>\n",
              "      <td>0</td>\n",
              "    </tr>\n",
              "    <tr>\n",
              "      <th>183371</th>\n",
              "      <td>630137</td>\n",
              "      <td>08:49.9</td>\n",
              "      <td>control</td>\n",
              "      <td>old_page</td>\n",
              "      <td>0</td>\n",
              "    </tr>\n",
              "    <tr>\n",
              "      <th>11792</th>\n",
              "      <td>630137</td>\n",
              "      <td>59:22.1</td>\n",
              "      <td>control</td>\n",
              "      <td>new_page</td>\n",
              "      <td>0</td>\n",
              "    </tr>\n",
              "    <tr>\n",
              "      <th>207211</th>\n",
              "      <td>630320</td>\n",
              "      <td>02:43.6</td>\n",
              "      <td>control</td>\n",
              "      <td>old_page</td>\n",
              "      <td>0</td>\n",
              "    </tr>\n",
              "    <tr>\n",
              "      <th>255753</th>\n",
              "      <td>630320</td>\n",
              "      <td>27:37.2</td>\n",
              "      <td>treatment</td>\n",
              "      <td>old_page</td>\n",
              "      <td>0</td>\n",
              "    </tr>\n",
              "    <tr>\n",
              "      <th>96929</th>\n",
              "      <td>630471</td>\n",
              "      <td>14:17.4</td>\n",
              "      <td>control</td>\n",
              "      <td>new_page</td>\n",
              "      <td>0</td>\n",
              "    </tr>\n",
              "    <tr>\n",
              "      <th>110634</th>\n",
              "      <td>630471</td>\n",
              "      <td>42:51.5</td>\n",
              "      <td>control</td>\n",
              "      <td>old_page</td>\n",
              "      <td>0</td>\n",
              "    </tr>\n",
              "  </tbody>\n",
              "</table>\n",
              "</div>\n",
              "      <button class=\"colab-df-convert\" onclick=\"convertToInteractive('df-687e0eee-3db9-4cf7-84a7-c4ea9e4ef871')\"\n",
              "              title=\"Convert this dataframe to an interactive table.\"\n",
              "              style=\"display:none;\">\n",
              "        \n",
              "  <svg xmlns=\"http://www.w3.org/2000/svg\" height=\"24px\"viewBox=\"0 0 24 24\"\n",
              "       width=\"24px\">\n",
              "    <path d=\"M0 0h24v24H0V0z\" fill=\"none\"/>\n",
              "    <path d=\"M18.56 5.44l.94 2.06.94-2.06 2.06-.94-2.06-.94-.94-2.06-.94 2.06-2.06.94zm-11 1L8.5 8.5l.94-2.06 2.06-.94-2.06-.94L8.5 2.5l-.94 2.06-2.06.94zm10 10l.94 2.06.94-2.06 2.06-.94-2.06-.94-.94-2.06-.94 2.06-2.06.94z\"/><path d=\"M17.41 7.96l-1.37-1.37c-.4-.4-.92-.59-1.43-.59-.52 0-1.04.2-1.43.59L10.3 9.45l-7.72 7.72c-.78.78-.78 2.05 0 2.83L4 21.41c.39.39.9.59 1.41.59.51 0 1.02-.2 1.41-.59l7.78-7.78 2.81-2.81c.8-.78.8-2.07 0-2.86zM5.41 20L4 18.59l7.72-7.72 1.47 1.35L5.41 20z\"/>\n",
              "  </svg>\n",
              "      </button>\n",
              "      \n",
              "  <style>\n",
              "    .colab-df-container {\n",
              "      display:flex;\n",
              "      flex-wrap:wrap;\n",
              "      gap: 12px;\n",
              "    }\n",
              "\n",
              "    .colab-df-convert {\n",
              "      background-color: #E8F0FE;\n",
              "      border: none;\n",
              "      border-radius: 50%;\n",
              "      cursor: pointer;\n",
              "      display: none;\n",
              "      fill: #1967D2;\n",
              "      height: 32px;\n",
              "      padding: 0 0 0 0;\n",
              "      width: 32px;\n",
              "    }\n",
              "\n",
              "    .colab-df-convert:hover {\n",
              "      background-color: #E2EBFA;\n",
              "      box-shadow: 0px 1px 2px rgba(60, 64, 67, 0.3), 0px 1px 3px 1px rgba(60, 64, 67, 0.15);\n",
              "      fill: #174EA6;\n",
              "    }\n",
              "\n",
              "    [theme=dark] .colab-df-convert {\n",
              "      background-color: #3B4455;\n",
              "      fill: #D2E3FC;\n",
              "    }\n",
              "\n",
              "    [theme=dark] .colab-df-convert:hover {\n",
              "      background-color: #434B5C;\n",
              "      box-shadow: 0px 1px 3px 1px rgba(0, 0, 0, 0.15);\n",
              "      filter: drop-shadow(0px 1px 2px rgba(0, 0, 0, 0.3));\n",
              "      fill: #FFFFFF;\n",
              "    }\n",
              "  </style>\n",
              "\n",
              "      <script>\n",
              "        const buttonEl =\n",
              "          document.querySelector('#df-687e0eee-3db9-4cf7-84a7-c4ea9e4ef871 button.colab-df-convert');\n",
              "        buttonEl.style.display =\n",
              "          google.colab.kernel.accessAllowed ? 'block' : 'none';\n",
              "\n",
              "        async function convertToInteractive(key) {\n",
              "          const element = document.querySelector('#df-687e0eee-3db9-4cf7-84a7-c4ea9e4ef871');\n",
              "          const dataTable =\n",
              "            await google.colab.kernel.invokeFunction('convertToInteractive',\n",
              "                                                     [key], {});\n",
              "          if (!dataTable) return;\n",
              "\n",
              "          const docLinkHtml = 'Like what you see? Visit the ' +\n",
              "            '<a target=\"_blank\" href=https://colab.research.google.com/notebooks/data_table.ipynb>data table notebook</a>'\n",
              "            + ' to learn more about interactive tables.';\n",
              "          element.innerHTML = '';\n",
              "          dataTable['output_type'] = 'display_data';\n",
              "          await google.colab.output.renderOutput(dataTable, element);\n",
              "          const docLink = document.createElement('div');\n",
              "          docLink.innerHTML = docLinkHtml;\n",
              "          element.appendChild(docLink);\n",
              "        }\n",
              "      </script>\n",
              "    </div>\n",
              "  </div>\n",
              "  "
            ],
            "text/plain": [
              "            id     time      group      page  converted\n",
              "230259  630052  16:05.2  treatment  new_page          0\n",
              "213114  630052  25:54.1  treatment  old_page          1\n",
              "22513   630126  35:54.8  treatment  old_page          0\n",
              "251762  630126  16:00.3  treatment  new_page          0\n",
              "183371  630137  08:49.9    control  old_page          0\n",
              "11792   630137  59:22.1    control  new_page          0\n",
              "207211  630320  02:43.6    control  old_page          0\n",
              "255753  630320  27:37.2  treatment  old_page          0\n",
              "96929   630471  14:17.4    control  new_page          0\n",
              "110634  630471  42:51.5    control  old_page          0"
            ]
          },
          "metadata": {},
          "execution_count": 11
        }
      ],
      "source": [
        "duplicates_df = data.loc[data['id'].isin(duplicates.index)].sort_values('id')\n",
        "duplicates_df.head(10)"
      ]
    },
    {
      "cell_type": "markdown",
      "metadata": {
        "id": "WJTKxGO2HzuP"
      },
      "source": [
        "В таблице дубликатов заметна странная ситуация: для одного и того же id различаются ['group', 'page'], т.е. при одной и той же группе могут быть разные страницы, и наоборот. <br>\n",
        "Согласно сути эксперимента, между столбцами 'group' и 'page' должно быть однозначное соответствие: пользователям, отнесенным к контрольной выборке, показывается старый вариант страницы, пользователям, отнесенным к тестовой - новый. <br>\n",
        "Вероятно, записи с ('group' = 'control', 'page' = 'new_page') или ('group' = 'treatment', 'page' = 'old_page') были занесены в таблицу ошибочно, либо произошла ошибка при сплитовании пользователей."
      ]
    },
    {
      "cell_type": "markdown",
      "metadata": {
        "id": "CJAhocfXNHRP"
      },
      "source": [
        "Так как затруднительно сказать, в какую сторону произошла ошибка (например, какое поле корректно при ситуации 'group' = 'control', 'page' = 'new_page'), мы не будем работать с ошибочными полями и удалим их из таблицы."
      ]
    },
    {
      "cell_type": "code",
      "execution_count": null,
      "metadata": {
        "colab": {
          "base_uri": "https://localhost:8080/",
          "height": 423
        },
        "id": "EBvRrA99zvUK",
        "outputId": "26d74edc-0070-4097-fa57-a326ac65fd9d"
      },
      "outputs": [
        {
          "output_type": "execute_result",
          "data": {
            "text/html": [
              "\n",
              "  <div id=\"df-27ad35a4-e404-45e8-a3f6-8646ca7a1940\">\n",
              "    <div class=\"colab-df-container\">\n",
              "      <div>\n",
              "<style scoped>\n",
              "    .dataframe tbody tr th:only-of-type {\n",
              "        vertical-align: middle;\n",
              "    }\n",
              "\n",
              "    .dataframe tbody tr th {\n",
              "        vertical-align: top;\n",
              "    }\n",
              "\n",
              "    .dataframe thead th {\n",
              "        text-align: right;\n",
              "    }\n",
              "</style>\n",
              "<table border=\"1\" class=\"dataframe\">\n",
              "  <thead>\n",
              "    <tr style=\"text-align: right;\">\n",
              "      <th></th>\n",
              "      <th>id</th>\n",
              "      <th>time</th>\n",
              "      <th>group</th>\n",
              "      <th>page</th>\n",
              "      <th>converted</th>\n",
              "    </tr>\n",
              "  </thead>\n",
              "  <tbody>\n",
              "    <tr>\n",
              "      <th>0</th>\n",
              "      <td>851104</td>\n",
              "      <td>11:48.6</td>\n",
              "      <td>control</td>\n",
              "      <td>old_page</td>\n",
              "      <td>0</td>\n",
              "    </tr>\n",
              "    <tr>\n",
              "      <th>1</th>\n",
              "      <td>804228</td>\n",
              "      <td>01:45.2</td>\n",
              "      <td>control</td>\n",
              "      <td>old_page</td>\n",
              "      <td>0</td>\n",
              "    </tr>\n",
              "    <tr>\n",
              "      <th>2</th>\n",
              "      <td>661590</td>\n",
              "      <td>55:06.2</td>\n",
              "      <td>treatment</td>\n",
              "      <td>new_page</td>\n",
              "      <td>0</td>\n",
              "    </tr>\n",
              "    <tr>\n",
              "      <th>3</th>\n",
              "      <td>853541</td>\n",
              "      <td>28:03.1</td>\n",
              "      <td>treatment</td>\n",
              "      <td>new_page</td>\n",
              "      <td>0</td>\n",
              "    </tr>\n",
              "    <tr>\n",
              "      <th>4</th>\n",
              "      <td>864975</td>\n",
              "      <td>52:26.2</td>\n",
              "      <td>control</td>\n",
              "      <td>old_page</td>\n",
              "      <td>1</td>\n",
              "    </tr>\n",
              "    <tr>\n",
              "      <th>...</th>\n",
              "      <td>...</td>\n",
              "      <td>...</td>\n",
              "      <td>...</td>\n",
              "      <td>...</td>\n",
              "      <td>...</td>\n",
              "    </tr>\n",
              "    <tr>\n",
              "      <th>294473</th>\n",
              "      <td>751197</td>\n",
              "      <td>28:38.6</td>\n",
              "      <td>control</td>\n",
              "      <td>old_page</td>\n",
              "      <td>0</td>\n",
              "    </tr>\n",
              "    <tr>\n",
              "      <th>294474</th>\n",
              "      <td>945152</td>\n",
              "      <td>51:57.1</td>\n",
              "      <td>control</td>\n",
              "      <td>old_page</td>\n",
              "      <td>0</td>\n",
              "    </tr>\n",
              "    <tr>\n",
              "      <th>294475</th>\n",
              "      <td>734608</td>\n",
              "      <td>45:03.4</td>\n",
              "      <td>control</td>\n",
              "      <td>old_page</td>\n",
              "      <td>0</td>\n",
              "    </tr>\n",
              "    <tr>\n",
              "      <th>294476</th>\n",
              "      <td>697314</td>\n",
              "      <td>20:29.0</td>\n",
              "      <td>control</td>\n",
              "      <td>old_page</td>\n",
              "      <td>0</td>\n",
              "    </tr>\n",
              "    <tr>\n",
              "      <th>294477</th>\n",
              "      <td>715931</td>\n",
              "      <td>40:24.5</td>\n",
              "      <td>treatment</td>\n",
              "      <td>new_page</td>\n",
              "      <td>0</td>\n",
              "    </tr>\n",
              "  </tbody>\n",
              "</table>\n",
              "<p>290585 rows × 5 columns</p>\n",
              "</div>\n",
              "      <button class=\"colab-df-convert\" onclick=\"convertToInteractive('df-27ad35a4-e404-45e8-a3f6-8646ca7a1940')\"\n",
              "              title=\"Convert this dataframe to an interactive table.\"\n",
              "              style=\"display:none;\">\n",
              "        \n",
              "  <svg xmlns=\"http://www.w3.org/2000/svg\" height=\"24px\"viewBox=\"0 0 24 24\"\n",
              "       width=\"24px\">\n",
              "    <path d=\"M0 0h24v24H0V0z\" fill=\"none\"/>\n",
              "    <path d=\"M18.56 5.44l.94 2.06.94-2.06 2.06-.94-2.06-.94-.94-2.06-.94 2.06-2.06.94zm-11 1L8.5 8.5l.94-2.06 2.06-.94-2.06-.94L8.5 2.5l-.94 2.06-2.06.94zm10 10l.94 2.06.94-2.06 2.06-.94-2.06-.94-.94-2.06-.94 2.06-2.06.94z\"/><path d=\"M17.41 7.96l-1.37-1.37c-.4-.4-.92-.59-1.43-.59-.52 0-1.04.2-1.43.59L10.3 9.45l-7.72 7.72c-.78.78-.78 2.05 0 2.83L4 21.41c.39.39.9.59 1.41.59.51 0 1.02-.2 1.41-.59l7.78-7.78 2.81-2.81c.8-.78.8-2.07 0-2.86zM5.41 20L4 18.59l7.72-7.72 1.47 1.35L5.41 20z\"/>\n",
              "  </svg>\n",
              "      </button>\n",
              "      \n",
              "  <style>\n",
              "    .colab-df-container {\n",
              "      display:flex;\n",
              "      flex-wrap:wrap;\n",
              "      gap: 12px;\n",
              "    }\n",
              "\n",
              "    .colab-df-convert {\n",
              "      background-color: #E8F0FE;\n",
              "      border: none;\n",
              "      border-radius: 50%;\n",
              "      cursor: pointer;\n",
              "      display: none;\n",
              "      fill: #1967D2;\n",
              "      height: 32px;\n",
              "      padding: 0 0 0 0;\n",
              "      width: 32px;\n",
              "    }\n",
              "\n",
              "    .colab-df-convert:hover {\n",
              "      background-color: #E2EBFA;\n",
              "      box-shadow: 0px 1px 2px rgba(60, 64, 67, 0.3), 0px 1px 3px 1px rgba(60, 64, 67, 0.15);\n",
              "      fill: #174EA6;\n",
              "    }\n",
              "\n",
              "    [theme=dark] .colab-df-convert {\n",
              "      background-color: #3B4455;\n",
              "      fill: #D2E3FC;\n",
              "    }\n",
              "\n",
              "    [theme=dark] .colab-df-convert:hover {\n",
              "      background-color: #434B5C;\n",
              "      box-shadow: 0px 1px 3px 1px rgba(0, 0, 0, 0.15);\n",
              "      filter: drop-shadow(0px 1px 2px rgba(0, 0, 0, 0.3));\n",
              "      fill: #FFFFFF;\n",
              "    }\n",
              "  </style>\n",
              "\n",
              "      <script>\n",
              "        const buttonEl =\n",
              "          document.querySelector('#df-27ad35a4-e404-45e8-a3f6-8646ca7a1940 button.colab-df-convert');\n",
              "        buttonEl.style.display =\n",
              "          google.colab.kernel.accessAllowed ? 'block' : 'none';\n",
              "\n",
              "        async function convertToInteractive(key) {\n",
              "          const element = document.querySelector('#df-27ad35a4-e404-45e8-a3f6-8646ca7a1940');\n",
              "          const dataTable =\n",
              "            await google.colab.kernel.invokeFunction('convertToInteractive',\n",
              "                                                     [key], {});\n",
              "          if (!dataTable) return;\n",
              "\n",
              "          const docLinkHtml = 'Like what you see? Visit the ' +\n",
              "            '<a target=\"_blank\" href=https://colab.research.google.com/notebooks/data_table.ipynb>data table notebook</a>'\n",
              "            + ' to learn more about interactive tables.';\n",
              "          element.innerHTML = '';\n",
              "          dataTable['output_type'] = 'display_data';\n",
              "          await google.colab.output.renderOutput(dataTable, element);\n",
              "          const docLink = document.createElement('div');\n",
              "          docLink.innerHTML = docLinkHtml;\n",
              "          element.appendChild(docLink);\n",
              "        }\n",
              "      </script>\n",
              "    </div>\n",
              "  </div>\n",
              "  "
            ],
            "text/plain": [
              "            id     time      group      page  converted\n",
              "0       851104  11:48.6    control  old_page          0\n",
              "1       804228  01:45.2    control  old_page          0\n",
              "2       661590  55:06.2  treatment  new_page          0\n",
              "3       853541  28:03.1  treatment  new_page          0\n",
              "4       864975  52:26.2    control  old_page          1\n",
              "...        ...      ...        ...       ...        ...\n",
              "294473  751197  28:38.6    control  old_page          0\n",
              "294474  945152  51:57.1    control  old_page          0\n",
              "294475  734608  45:03.4    control  old_page          0\n",
              "294476  697314  20:29.0    control  old_page          0\n",
              "294477  715931  40:24.5  treatment  new_page          0\n",
              "\n",
              "[290585 rows x 5 columns]"
            ]
          },
          "metadata": {},
          "execution_count": 12
        }
      ],
      "source": [
        "data = data.loc[(data['group'] == 'control') & (data['page'] == 'old_page') |\n",
        "                (data['group'] == 'treatment') & (data['page'] == 'new_page')]\n",
        "data"
      ]
    },
    {
      "cell_type": "markdown",
      "metadata": {
        "id": "Rp9COzDwPEGy"
      },
      "source": [
        "Насколько мы помним, количество уникальных id в таблице - 290584, что на 1 меньше нового размера таблицы. Найдем оставшийся дубликат и удалим его."
      ]
    },
    {
      "cell_type": "code",
      "execution_count": null,
      "metadata": {
        "colab": {
          "base_uri": "https://localhost:8080/",
          "height": 81
        },
        "id": "cI1_Sa_QPsDe",
        "outputId": "6e938863-d2fe-42da-a42b-12767cc3aef1"
      },
      "outputs": [
        {
          "output_type": "execute_result",
          "data": {
            "text/html": [
              "\n",
              "  <div id=\"df-3819136d-d106-4e73-b52e-08d58c2bde6f\">\n",
              "    <div class=\"colab-df-container\">\n",
              "      <div>\n",
              "<style scoped>\n",
              "    .dataframe tbody tr th:only-of-type {\n",
              "        vertical-align: middle;\n",
              "    }\n",
              "\n",
              "    .dataframe tbody tr th {\n",
              "        vertical-align: top;\n",
              "    }\n",
              "\n",
              "    .dataframe thead th {\n",
              "        text-align: right;\n",
              "    }\n",
              "</style>\n",
              "<table border=\"1\" class=\"dataframe\">\n",
              "  <thead>\n",
              "    <tr style=\"text-align: right;\">\n",
              "      <th></th>\n",
              "      <th>id</th>\n",
              "      <th>time</th>\n",
              "      <th>group</th>\n",
              "      <th>page</th>\n",
              "      <th>converted</th>\n",
              "    </tr>\n",
              "  </thead>\n",
              "  <tbody>\n",
              "    <tr>\n",
              "      <th>2893</th>\n",
              "      <td>773192</td>\n",
              "      <td>55:59.6</td>\n",
              "      <td>treatment</td>\n",
              "      <td>new_page</td>\n",
              "      <td>0</td>\n",
              "    </tr>\n",
              "  </tbody>\n",
              "</table>\n",
              "</div>\n",
              "      <button class=\"colab-df-convert\" onclick=\"convertToInteractive('df-3819136d-d106-4e73-b52e-08d58c2bde6f')\"\n",
              "              title=\"Convert this dataframe to an interactive table.\"\n",
              "              style=\"display:none;\">\n",
              "        \n",
              "  <svg xmlns=\"http://www.w3.org/2000/svg\" height=\"24px\"viewBox=\"0 0 24 24\"\n",
              "       width=\"24px\">\n",
              "    <path d=\"M0 0h24v24H0V0z\" fill=\"none\"/>\n",
              "    <path d=\"M18.56 5.44l.94 2.06.94-2.06 2.06-.94-2.06-.94-.94-2.06-.94 2.06-2.06.94zm-11 1L8.5 8.5l.94-2.06 2.06-.94-2.06-.94L8.5 2.5l-.94 2.06-2.06.94zm10 10l.94 2.06.94-2.06 2.06-.94-2.06-.94-.94-2.06-.94 2.06-2.06.94z\"/><path d=\"M17.41 7.96l-1.37-1.37c-.4-.4-.92-.59-1.43-.59-.52 0-1.04.2-1.43.59L10.3 9.45l-7.72 7.72c-.78.78-.78 2.05 0 2.83L4 21.41c.39.39.9.59 1.41.59.51 0 1.02-.2 1.41-.59l7.78-7.78 2.81-2.81c.8-.78.8-2.07 0-2.86zM5.41 20L4 18.59l7.72-7.72 1.47 1.35L5.41 20z\"/>\n",
              "  </svg>\n",
              "      </button>\n",
              "      \n",
              "  <style>\n",
              "    .colab-df-container {\n",
              "      display:flex;\n",
              "      flex-wrap:wrap;\n",
              "      gap: 12px;\n",
              "    }\n",
              "\n",
              "    .colab-df-convert {\n",
              "      background-color: #E8F0FE;\n",
              "      border: none;\n",
              "      border-radius: 50%;\n",
              "      cursor: pointer;\n",
              "      display: none;\n",
              "      fill: #1967D2;\n",
              "      height: 32px;\n",
              "      padding: 0 0 0 0;\n",
              "      width: 32px;\n",
              "    }\n",
              "\n",
              "    .colab-df-convert:hover {\n",
              "      background-color: #E2EBFA;\n",
              "      box-shadow: 0px 1px 2px rgba(60, 64, 67, 0.3), 0px 1px 3px 1px rgba(60, 64, 67, 0.15);\n",
              "      fill: #174EA6;\n",
              "    }\n",
              "\n",
              "    [theme=dark] .colab-df-convert {\n",
              "      background-color: #3B4455;\n",
              "      fill: #D2E3FC;\n",
              "    }\n",
              "\n",
              "    [theme=dark] .colab-df-convert:hover {\n",
              "      background-color: #434B5C;\n",
              "      box-shadow: 0px 1px 3px 1px rgba(0, 0, 0, 0.15);\n",
              "      filter: drop-shadow(0px 1px 2px rgba(0, 0, 0, 0.3));\n",
              "      fill: #FFFFFF;\n",
              "    }\n",
              "  </style>\n",
              "\n",
              "      <script>\n",
              "        const buttonEl =\n",
              "          document.querySelector('#df-3819136d-d106-4e73-b52e-08d58c2bde6f button.colab-df-convert');\n",
              "        buttonEl.style.display =\n",
              "          google.colab.kernel.accessAllowed ? 'block' : 'none';\n",
              "\n",
              "        async function convertToInteractive(key) {\n",
              "          const element = document.querySelector('#df-3819136d-d106-4e73-b52e-08d58c2bde6f');\n",
              "          const dataTable =\n",
              "            await google.colab.kernel.invokeFunction('convertToInteractive',\n",
              "                                                     [key], {});\n",
              "          if (!dataTable) return;\n",
              "\n",
              "          const docLinkHtml = 'Like what you see? Visit the ' +\n",
              "            '<a target=\"_blank\" href=https://colab.research.google.com/notebooks/data_table.ipynb>data table notebook</a>'\n",
              "            + ' to learn more about interactive tables.';\n",
              "          element.innerHTML = '';\n",
              "          dataTable['output_type'] = 'display_data';\n",
              "          await google.colab.output.renderOutput(dataTable, element);\n",
              "          const docLink = document.createElement('div');\n",
              "          docLink.innerHTML = docLinkHtml;\n",
              "          element.appendChild(docLink);\n",
              "        }\n",
              "      </script>\n",
              "    </div>\n",
              "  </div>\n",
              "  "
            ],
            "text/plain": [
              "          id     time      group      page  converted\n",
              "2893  773192  55:59.6  treatment  new_page          0"
            ]
          },
          "metadata": {},
          "execution_count": 13
        }
      ],
      "source": [
        "data.loc[data.duplicated('id') == True]"
      ]
    },
    {
      "cell_type": "code",
      "execution_count": null,
      "metadata": {
        "id": "7nnLMfvVS680"
      },
      "outputs": [],
      "source": [
        "data = data.drop_duplicates('id')"
      ]
    },
    {
      "cell_type": "markdown",
      "metadata": {
        "id": "NFl64_WnXdCH"
      },
      "source": [
        "Напоследок объединим таблицы data и countries на основе id пользователей"
      ]
    },
    {
      "cell_type": "code",
      "execution_count": null,
      "metadata": {
        "colab": {
          "base_uri": "https://localhost:8080/",
          "height": 206
        },
        "id": "zdYczQzaXkgL",
        "outputId": "45b6df5c-4b75-44c8-e77c-7a01ec702cd2"
      },
      "outputs": [
        {
          "output_type": "execute_result",
          "data": {
            "text/html": [
              "\n",
              "  <div id=\"df-22eac533-a444-4b76-9f62-4f160e4dc01c\">\n",
              "    <div class=\"colab-df-container\">\n",
              "      <div>\n",
              "<style scoped>\n",
              "    .dataframe tbody tr th:only-of-type {\n",
              "        vertical-align: middle;\n",
              "    }\n",
              "\n",
              "    .dataframe tbody tr th {\n",
              "        vertical-align: top;\n",
              "    }\n",
              "\n",
              "    .dataframe thead th {\n",
              "        text-align: right;\n",
              "    }\n",
              "</style>\n",
              "<table border=\"1\" class=\"dataframe\">\n",
              "  <thead>\n",
              "    <tr style=\"text-align: right;\">\n",
              "      <th></th>\n",
              "      <th>id</th>\n",
              "      <th>time</th>\n",
              "      <th>group</th>\n",
              "      <th>page</th>\n",
              "      <th>converted</th>\n",
              "      <th>country</th>\n",
              "    </tr>\n",
              "  </thead>\n",
              "  <tbody>\n",
              "    <tr>\n",
              "      <th>0</th>\n",
              "      <td>851104</td>\n",
              "      <td>11:48.6</td>\n",
              "      <td>control</td>\n",
              "      <td>old_page</td>\n",
              "      <td>0</td>\n",
              "      <td>US</td>\n",
              "    </tr>\n",
              "    <tr>\n",
              "      <th>1</th>\n",
              "      <td>804228</td>\n",
              "      <td>01:45.2</td>\n",
              "      <td>control</td>\n",
              "      <td>old_page</td>\n",
              "      <td>0</td>\n",
              "      <td>US</td>\n",
              "    </tr>\n",
              "    <tr>\n",
              "      <th>2</th>\n",
              "      <td>661590</td>\n",
              "      <td>55:06.2</td>\n",
              "      <td>treatment</td>\n",
              "      <td>new_page</td>\n",
              "      <td>0</td>\n",
              "      <td>US</td>\n",
              "    </tr>\n",
              "    <tr>\n",
              "      <th>3</th>\n",
              "      <td>853541</td>\n",
              "      <td>28:03.1</td>\n",
              "      <td>treatment</td>\n",
              "      <td>new_page</td>\n",
              "      <td>0</td>\n",
              "      <td>US</td>\n",
              "    </tr>\n",
              "    <tr>\n",
              "      <th>4</th>\n",
              "      <td>864975</td>\n",
              "      <td>52:26.2</td>\n",
              "      <td>control</td>\n",
              "      <td>old_page</td>\n",
              "      <td>1</td>\n",
              "      <td>US</td>\n",
              "    </tr>\n",
              "  </tbody>\n",
              "</table>\n",
              "</div>\n",
              "      <button class=\"colab-df-convert\" onclick=\"convertToInteractive('df-22eac533-a444-4b76-9f62-4f160e4dc01c')\"\n",
              "              title=\"Convert this dataframe to an interactive table.\"\n",
              "              style=\"display:none;\">\n",
              "        \n",
              "  <svg xmlns=\"http://www.w3.org/2000/svg\" height=\"24px\"viewBox=\"0 0 24 24\"\n",
              "       width=\"24px\">\n",
              "    <path d=\"M0 0h24v24H0V0z\" fill=\"none\"/>\n",
              "    <path d=\"M18.56 5.44l.94 2.06.94-2.06 2.06-.94-2.06-.94-.94-2.06-.94 2.06-2.06.94zm-11 1L8.5 8.5l.94-2.06 2.06-.94-2.06-.94L8.5 2.5l-.94 2.06-2.06.94zm10 10l.94 2.06.94-2.06 2.06-.94-2.06-.94-.94-2.06-.94 2.06-2.06.94z\"/><path d=\"M17.41 7.96l-1.37-1.37c-.4-.4-.92-.59-1.43-.59-.52 0-1.04.2-1.43.59L10.3 9.45l-7.72 7.72c-.78.78-.78 2.05 0 2.83L4 21.41c.39.39.9.59 1.41.59.51 0 1.02-.2 1.41-.59l7.78-7.78 2.81-2.81c.8-.78.8-2.07 0-2.86zM5.41 20L4 18.59l7.72-7.72 1.47 1.35L5.41 20z\"/>\n",
              "  </svg>\n",
              "      </button>\n",
              "      \n",
              "  <style>\n",
              "    .colab-df-container {\n",
              "      display:flex;\n",
              "      flex-wrap:wrap;\n",
              "      gap: 12px;\n",
              "    }\n",
              "\n",
              "    .colab-df-convert {\n",
              "      background-color: #E8F0FE;\n",
              "      border: none;\n",
              "      border-radius: 50%;\n",
              "      cursor: pointer;\n",
              "      display: none;\n",
              "      fill: #1967D2;\n",
              "      height: 32px;\n",
              "      padding: 0 0 0 0;\n",
              "      width: 32px;\n",
              "    }\n",
              "\n",
              "    .colab-df-convert:hover {\n",
              "      background-color: #E2EBFA;\n",
              "      box-shadow: 0px 1px 2px rgba(60, 64, 67, 0.3), 0px 1px 3px 1px rgba(60, 64, 67, 0.15);\n",
              "      fill: #174EA6;\n",
              "    }\n",
              "\n",
              "    [theme=dark] .colab-df-convert {\n",
              "      background-color: #3B4455;\n",
              "      fill: #D2E3FC;\n",
              "    }\n",
              "\n",
              "    [theme=dark] .colab-df-convert:hover {\n",
              "      background-color: #434B5C;\n",
              "      box-shadow: 0px 1px 3px 1px rgba(0, 0, 0, 0.15);\n",
              "      filter: drop-shadow(0px 1px 2px rgba(0, 0, 0, 0.3));\n",
              "      fill: #FFFFFF;\n",
              "    }\n",
              "  </style>\n",
              "\n",
              "      <script>\n",
              "        const buttonEl =\n",
              "          document.querySelector('#df-22eac533-a444-4b76-9f62-4f160e4dc01c button.colab-df-convert');\n",
              "        buttonEl.style.display =\n",
              "          google.colab.kernel.accessAllowed ? 'block' : 'none';\n",
              "\n",
              "        async function convertToInteractive(key) {\n",
              "          const element = document.querySelector('#df-22eac533-a444-4b76-9f62-4f160e4dc01c');\n",
              "          const dataTable =\n",
              "            await google.colab.kernel.invokeFunction('convertToInteractive',\n",
              "                                                     [key], {});\n",
              "          if (!dataTable) return;\n",
              "\n",
              "          const docLinkHtml = 'Like what you see? Visit the ' +\n",
              "            '<a target=\"_blank\" href=https://colab.research.google.com/notebooks/data_table.ipynb>data table notebook</a>'\n",
              "            + ' to learn more about interactive tables.';\n",
              "          element.innerHTML = '';\n",
              "          dataTable['output_type'] = 'display_data';\n",
              "          await google.colab.output.renderOutput(dataTable, element);\n",
              "          const docLink = document.createElement('div');\n",
              "          docLink.innerHTML = docLinkHtml;\n",
              "          element.appendChild(docLink);\n",
              "        }\n",
              "      </script>\n",
              "    </div>\n",
              "  </div>\n",
              "  "
            ],
            "text/plain": [
              "       id     time      group      page  converted country\n",
              "0  851104  11:48.6    control  old_page          0      US\n",
              "1  804228  01:45.2    control  old_page          0      US\n",
              "2  661590  55:06.2  treatment  new_page          0      US\n",
              "3  853541  28:03.1  treatment  new_page          0      US\n",
              "4  864975  52:26.2    control  old_page          1      US"
            ]
          },
          "metadata": {},
          "execution_count": 15
        }
      ],
      "source": [
        "data = data.merge(countries, on='id')\n",
        "data.head()"
      ]
    },
    {
      "cell_type": "markdown",
      "metadata": {
        "id": "N-GA5kgGaaAE"
      },
      "source": [
        "#3. A/B тест"
      ]
    },
    {
      "cell_type": "markdown",
      "metadata": {
        "id": "b0LcfG6PbBXo"
      },
      "source": [
        "Сравним размеры выборок:"
      ]
    },
    {
      "cell_type": "code",
      "execution_count": null,
      "metadata": {
        "colab": {
          "base_uri": "https://localhost:8080/"
        },
        "id": "nXij1J71bEw6",
        "outputId": "83f0f956-7b85-46eb-cdd1-b6f9f5c8b477"
      },
      "outputs": [
        {
          "output_type": "stream",
          "name": "stdout",
          "text": [
            "Control group size: 145274\n",
            "Treatment group size: 145310\n",
            "Difference in sizes: 36\n"
          ]
        }
      ],
      "source": [
        "size_a = data.loc[data['group'] == 'control'].shape[0]\n",
        "size_b = data.loc[data['group'] == 'treatment'].shape[0]\n",
        "\n",
        "print('Control group size:', size_a)\n",
        "print('Treatment group size:', size_b)\n",
        "print('Difference in sizes:', abs(size_b - size_a))"
      ]
    },
    {
      "cell_type": "markdown",
      "metadata": {
        "id": "40S5jTbOcGQh"
      },
      "source": [
        "Размеры выборок приблизительно равны (разница между ними 36, что очень мало по отношению к объемам выборок)"
      ]
    },
    {
      "cell_type": "markdown",
      "metadata": {
        "id": "pU-ty85aWdM_"
      },
      "source": [
        "Выделим контрольную и тестовую группу в отдельные таблицы для дальнейшего удобства работы с ними:"
      ]
    },
    {
      "cell_type": "code",
      "execution_count": null,
      "metadata": {
        "id": "-oiCsEkSWbHn"
      },
      "outputs": [],
      "source": [
        "group_a = data.loc[data['group'] == 'control']\n",
        "group_b = data.loc[data['group'] == 'treatment']"
      ]
    },
    {
      "cell_type": "markdown",
      "metadata": {
        "id": "wkW0mEtqgw0W"
      },
      "source": [
        "##Converted"
      ]
    },
    {
      "cell_type": "code",
      "execution_count": null,
      "metadata": {
        "id": "1emj0wqMO57H"
      },
      "outputs": [],
      "source": [
        "converted_a = group_a['converted']\n",
        "converted_b = group_b['converted']\n",
        "\n",
        "sum_converted_a = converted_a.sum()\n",
        "sum_converted_b = converted_b.sum()"
      ]
    },
    {
      "cell_type": "code",
      "execution_count": null,
      "metadata": {
        "colab": {
          "base_uri": "https://localhost:8080/"
        },
        "id": "-yvt91jse52m",
        "outputId": "2954220a-cd0b-4a59-a005-cad9a3940b8b"
      },
      "outputs": [
        {
          "output_type": "stream",
          "name": "stdout",
          "text": [
            "Control group converted: 12.04%\n",
            "Treatment group converted: 11.88%\n",
            "Lift: -1.31%\n"
          ]
        }
      ],
      "source": [
        "total_lift = round(((sum_converted_b / size_b) / (sum_converted_a / size_a) - 1) * 100, 2)\n",
        "\n",
        "print('Control group converted: {:.2f}%'.format(sum_converted_a / size_a * 100))\n",
        "print('Treatment group converted: {:.2f}%'.format(sum_converted_b / size_b * 100))\n",
        "print('Lift: {:.2f}%'.format(total_lift))"
      ]
    },
    {
      "cell_type": "code",
      "source": [
        "fig, ax = plt.subplots(1, 2)\n",
        "\n",
        "ax[0].pie([sum_converted_a, converted_a.shape[0] - sum_converted_a], \n",
        "        explode=[0.0, 0.15], labels=['Converted', 'Not converted'], \n",
        "        autopct='%1.2f%%', shadow=False, startangle=90)\n",
        "ax[0].set_title('Control group')\n",
        "\n",
        "ax[1].pie([sum_converted_b, converted_b.shape[0] - sum_converted_b], \n",
        "        explode=[0.0, 0.15], labels=['Converted', 'Not converted'], \n",
        "        autopct='%1.2f%%', shadow=False, startangle=90)\n",
        "ax[1].set_title('Treatment group')\n",
        "\n",
        "plt.show()"
      ],
      "metadata": {
        "colab": {
          "base_uri": "https://localhost:8080/",
          "height": 301
        },
        "id": "NjI3uAqIInMi",
        "outputId": "0b12aaba-aece-44e1-e43d-dabb91ad8802"
      },
      "execution_count": null,
      "outputs": [
        {
          "output_type": "display_data",
          "data": {
            "image/png": "[encoded data removed]",
            "text/plain": [
              "<Figure size 720x360 with 2 Axes>"
            ]
          },
          "metadata": {}
        }
      ]
    },
    {
      "cell_type": "markdown",
      "metadata": {
        "id": "CRPn5EyCXfKo"
      },
      "source": [
        "Процент converted уменьшился в тестовой группе по сравнению с контрольной, но на достаточно малое значение. Очень вероятно, что это изменение вызвано случайными причинами и статически не значимо, однако необходимо это проверить. <br><br>\n",
        "Введем две гипотезы: <br>\n",
        "**H0** - различия между долями converted для контрольной и тестовой групп вызваны лишь случайными причинами <br>\n",
        "**H1** - между долями converted для контрольной и тестовой групп действительно существуют значимые различия"
      ]
    },
    {
      "cell_type": "markdown",
      "metadata": {
        "id": "uFVYfkEAbgR0"
      },
      "source": [
        "Распределения (Бернулли):"
      ]
    },
    {
      "cell_type": "code",
      "execution_count": null,
      "metadata": {
        "colab": {
          "base_uri": "https://localhost:8080/",
          "height": 339
        },
        "id": "DzvpwnxwOsKd",
        "outputId": "b8cbe651-cee4-4d65-a63b-10088c050c7f"
      },
      "outputs": [
        {
          "output_type": "display_data",
          "data": {
            "image/png": "[encoded data removed]",
            "text/plain": [
              "<Figure size 720x360 with 1 Axes>"
            ]
          },
          "metadata": {}
        }
      ],
      "source": [
        "sns.set_style(\"darkgrid\")\n",
        "sns.set(rc={'figure.figsize':(10, 5)})\n",
        "\n",
        "sns.histplot(data=data, hue='group', x='converted', \n",
        "             discrete=True, multiple='dodge')\n",
        "plt.xticks([0, 1])\n",
        "\n",
        "plt.show()"
      ]
    },
    {
      "cell_type": "markdown",
      "metadata": {
        "id": "uNWLLluEa2C3"
      },
      "source": [
        "###Двухвыборочный Z-Тест для пропорций (долей) в модели Бернулли"
      ]
    },
    {
      "cell_type": "code",
      "execution_count": null,
      "metadata": {
        "colab": {
          "base_uri": "https://localhost:8080/"
        },
        "id": "o9exF4xVeX0O",
        "outputId": "e3cfb221-d3b5-4278-ea68-32491d423e87"
      },
      "outputs": [
        {
          "output_type": "stream",
          "name": "stdout",
          "text": [
            "Diff is not significant (p-value = 0.19)\n"
          ]
        }
      ],
      "source": [
        "from statsmodels.stats.proportion import proportions_ztest\n",
        "\n",
        "alpha = 0.05\n",
        "\n",
        "p_value = proportions_ztest(count=[sum_converted_a, sum_converted_b], \n",
        "                            nobs=[size_a, size_b])[1]\n",
        " \n",
        "print('Diff is {}significant (p-value = {:.2f})'.\n",
        "      format({False:'not ', True:''}[p_value < alpha], p_value)) "
      ]
    },
    {
      "cell_type": "markdown",
      "metadata": {
        "id": "aULIBSdubwme"
      },
      "source": [
        "На основе Z-теста мы **не можем отвергнуть нулевую гипотезу**, утверждающую, что между конверсиями пользователей для контрольной и тестовой групп нет различий или есть небольшие различия, вызванные лишь случайными причинами."
      ]
    },
    {
      "cell_type": "markdown",
      "metadata": {
        "id": "uA--IxxVcXOM"
      },
      "source": [
        "###Bootstrap"
      ]
    },
    {
      "cell_type": "markdown",
      "source": [
        "Покажем приблизительные распределения значений, получаемые из наших исходных выборок при помощи метода bootstrap"
      ],
      "metadata": {
        "id": "74Z0ytUjvBP_"
      }
    },
    {
      "cell_type": "code",
      "execution_count": null,
      "metadata": {
        "id": "Y0HhKTW0T5oV"
      },
      "outputs": [],
      "source": [
        "converted_bs_a = bs.bootstrap(np.array(converted_a),\n",
        "                              stat_func=bs_stats.mean, num_iterations=1000,\n",
        "                              iteration_batch_size=100,\n",
        "                              return_distribution=True)\n",
        "converted_bs_b = bs.bootstrap(np.array(converted_b),\n",
        "                              stat_func=bs_stats.mean, num_iterations=1000,\n",
        "                              iteration_batch_size=100,\n",
        "                              return_distribution=True)"
      ]
    },
    {
      "cell_type": "code",
      "execution_count": null,
      "metadata": {
        "colab": {
          "base_uri": "https://localhost:8080/",
          "height": 322
        },
        "id": "VyNkR0RGUbRn",
        "outputId": "dfdce17b-d437-441e-c4c2-5ea44a5652ff"
      },
      "outputs": [
        {
          "output_type": "display_data",
          "data": {
            "image/png": "[encoded data removed]",
            "text/plain": [
              "<Figure size 720x360 with 1 Axes>"
            ]
          },
          "metadata": {}
        }
      ],
      "source": [
        "sns.set_style(\"darkgrid\")\n",
        "sns.set(rc={'figure.figsize':(10, 5)})\n",
        "\n",
        "sns.distplot(converted_bs_a)\n",
        "sns.distplot(converted_bs_b, color='#de8551')\n",
        "\n",
        "plt.show()"
      ]
    },
    {
      "cell_type": "markdown",
      "source": [
        "Производим оценку статистической значимости различий с помощью встроенной функции bootstrap_ab "
      ],
      "metadata": {
        "id": "FdynsUcex1Rv"
      }
    },
    {
      "cell_type": "code",
      "execution_count": null,
      "metadata": {
        "colab": {
          "base_uri": "https://localhost:8080/"
        },
        "id": "7oMTbCqzV8VE",
        "outputId": "d0c3bfdd-ddbc-46dd-8bab-f09fa986e7f1"
      },
      "outputs": [
        {
          "output_type": "stream",
          "name": "stdout",
          "text": [
            "Diff is not significant (confidence interval (-3.25, 0.61) contains 0)\n"
          ]
        }
      ],
      "source": [
        "converted_bs = bs.bootstrap_ab(np.array(converted_b), np.array(converted_a),\n",
        "                               bs_stats.mean, bs_compare.percent_change, \n",
        "                               num_iterations=1000, iteration_batch_size=100, \n",
        "                               alpha=0.05, scale_test_by=1, num_threads=4)\n",
        "\n",
        "#confidence interval\n",
        "ci = converted_bs\n",
        "\n",
        "if ci.lower_bound < 0 < ci.upper_bound:\n",
        "  print('Diff is not significant (confidence interval ({:.2f}, {:.2f}) contains 0)'.\n",
        "        format(ci.lower_bound, ci.upper_bound)) \n",
        "else:\n",
        "  print('Diff is significant (confidence interval ({:.2f}, {:.2f}) doesn\\'t contain 0)'.\n",
        "        format(ci.lower_bound, ci.upper_bound))"
      ]
    },
    {
      "cell_type": "markdown",
      "source": [
        "Bootstrap подтверждает полученный с помощью Z-теста вывод: мы **не можем отвергнуть нулевую гипотезу**."
      ],
      "metadata": {
        "id": "t3vX65X9jkFz"
      }
    },
    {
      "cell_type": "markdown",
      "source": [
        "##Converted through countries"
      ],
      "metadata": {
        "id": "dq-kkAaDi_Ye"
      }
    },
    {
      "cell_type": "markdown",
      "source": [
        "Рассмотрим изменение converted users для каждой страны в отдельности"
      ],
      "metadata": {
        "id": "NxiidowxevJ5"
      }
    },
    {
      "cell_type": "code",
      "source": [
        "converted_uk = data.loc[data['country'] == 'UK'][['converted', 'group']]\n",
        "converted_us = data.loc[data['country'] == 'US'][['converted', 'group']]\n",
        "converted_ca = data.loc[data['country'] == 'CA'][['converted', 'group']]\n",
        "\n",
        "print('UK users: {} ({} : {})'.format(converted_uk.shape[0], \n",
        "      converted_uk.loc[converted_uk['group'] == 'control'].shape[0],\n",
        "      converted_uk.loc[converted_uk['group'] == 'treatment'].shape[0]))\n",
        "print('US users: {} ({} : {})'.format(converted_us.shape[0],\n",
        "      converted_us.loc[converted_us['group'] == 'control'].shape[0],\n",
        "      converted_us.loc[converted_us['group'] == 'treatment'].shape[0]))\n",
        "print('CA users: {} ({} : {})'.format(converted_ca.shape[0], \n",
        "      converted_ca.loc[converted_ca['group'] == 'control'].shape[0],\n",
        "      converted_ca.loc[converted_ca['group'] == 'treatment'].shape[0]))"
      ],
      "metadata": {
        "colab": {
          "base_uri": "https://localhost:8080/"
        },
        "id": "CzimGk2mjDEG",
        "outputId": "884f6932-0c36-490f-a27e-03f179e9b4e6"
      },
      "execution_count": null,
      "outputs": [
        {
          "output_type": "stream",
          "name": "stdout",
          "text": [
            "UK users: 72466 (36360 : 36106)\n",
            "US users: 203619 (101716 : 101903)\n",
            "CA users: 14499 (7198 : 7301)\n"
          ]
        }
      ]
    },
    {
      "cell_type": "markdown",
      "source": [
        "Как мы можем заметить, больше всего пользователей, заходивших на сайт, были из США, меньше всего - из Канады"
      ],
      "metadata": {
        "id": "jLAfOSQVg7Fd"
      }
    },
    {
      "cell_type": "markdown",
      "source": [
        "Оценим визуально изменения в долях converted users, а также рассчитаем lift для каждой страны"
      ],
      "metadata": {
        "id": "6Bj7kxJbpWcA"
      }
    },
    {
      "cell_type": "code",
      "source": [
        "sns.set_style(\"darkgrid\")\n",
        "sns.set(rc={'figure.figsize':(20, 5)})\n",
        "fig, ax = plt.subplots(1, 3)\n",
        "\n",
        "sns.histplot(data=converted_uk, hue='group', hue_order=['control', 'treatment'], \n",
        "             x='converted', discrete=True, multiple='dodge', ax=ax[0])\n",
        "plt.xticks([0, 1])\n",
        "ax[0].set_title('UK')\n",
        "\n",
        "sns.histplot(data=converted_us, hue='group', hue_order=['control', 'treatment'],\n",
        "             x='converted', discrete=True, multiple='dodge', ax=ax[1])\n",
        "plt.xticks([0, 1])\n",
        "ax[1].set_title('US')\n",
        "\n",
        "sns.histplot(data=converted_ca, hue='group', hue_order=['control', 'treatment'],\n",
        "             x='converted', discrete=True, multiple='dodge', ax=ax[2])\n",
        "plt.xticks([0, 1])\n",
        "ax[2].set_title('CA')\n",
        "\n",
        "plt.setp(ax, xticks=[0, 1])\n",
        "plt.show()"
      ],
      "metadata": {
        "colab": {
          "base_uri": "https://localhost:8080/",
          "height": 355
        },
        "id": "13h-IY_c_4zI",
        "outputId": "54019f76-1ffe-498d-ccae-3f264b06a25f"
      },
      "execution_count": null,
      "outputs": [
        {
          "output_type": "display_data",
          "data": {
            "image/png": "[encoded data removed]",
            "text/plain": [
              "<Figure size 1440x360 with 3 Axes>"
            ]
          },
          "metadata": {}
        }
      ]
    },
    {
      "cell_type": "code",
      "source": [
        "def percent(df, group):\n",
        "\n",
        "  sum = df.loc[df['group'] == group]['converted'].sum()\n",
        "  size = df.loc[df['group'] == group]['converted'].shape[0]\n",
        "\n",
        "  return sum / size\n",
        "\n",
        "conv_countries = [converted_uk, converted_us, converted_ca]\n",
        "names = ['UK', 'US', 'CA']\n",
        "\n",
        "d = {}\n",
        "j = 0\n",
        "\n",
        "for i in conv_countries:\n",
        "  values = []\n",
        "  values.append(round(percent(i, 'control') * 100, 2))\n",
        "  values.append(round(percent(i, 'treatment') * 100, 2))\n",
        "  values.append(round((percent(i, 'treatment') / percent(i, 'control') - 1) * 100, 2))\n",
        "  d[names[j]] = pd.Series(values, \n",
        "                      index=['control_converted', 'treatment_converted', 'lift'])\n",
        "  j += 1\n",
        "  \n",
        "country_lift = pd.DataFrame(d)\n",
        "country_lift"
      ],
      "metadata": {
        "colab": {
          "base_uri": "https://localhost:8080/",
          "height": 143
        },
        "id": "lqcvwCpohyFW",
        "outputId": "b245314f-6481-4b02-894f-8cb8069f0663"
      },
      "execution_count": null,
      "outputs": [
        {
          "output_type": "execute_result",
          "data": {
            "text/html": [
              "\n",
              "  <div id=\"df-fdfd85dc-300e-48bb-ae42-5ddf931a4957\">\n",
              "    <div class=\"colab-df-container\">\n",
              "      <div>\n",
              "<style scoped>\n",
              "    .dataframe tbody tr th:only-of-type {\n",
              "        vertical-align: middle;\n",
              "    }\n",
              "\n",
              "    .dataframe tbody tr th {\n",
              "        vertical-align: top;\n",
              "    }\n",
              "\n",
              "    .dataframe thead th {\n",
              "        text-align: right;\n",
              "    }\n",
              "</style>\n",
              "<table border=\"1\" class=\"dataframe\">\n",
              "  <thead>\n",
              "    <tr style=\"text-align: right;\">\n",
              "      <th></th>\n",
              "      <th>UK</th>\n",
              "      <th>US</th>\n",
              "      <th>CA</th>\n",
              "    </tr>\n",
              "  </thead>\n",
              "  <tbody>\n",
              "    <tr>\n",
              "      <th>control_converted</th>\n",
              "      <td>12.00</td>\n",
              "      <td>12.06</td>\n",
              "      <td>11.88</td>\n",
              "    </tr>\n",
              "    <tr>\n",
              "      <th>treatment_converted</th>\n",
              "      <td>12.12</td>\n",
              "      <td>11.85</td>\n",
              "      <td>11.19</td>\n",
              "    </tr>\n",
              "    <tr>\n",
              "      <th>lift</th>\n",
              "      <td>0.96</td>\n",
              "      <td>-1.79</td>\n",
              "      <td>-5.79</td>\n",
              "    </tr>\n",
              "  </tbody>\n",
              "</table>\n",
              "</div>\n",
              "      <button class=\"colab-df-convert\" onclick=\"convertToInteractive('df-fdfd85dc-300e-48bb-ae42-5ddf931a4957')\"\n",
              "              title=\"Convert this dataframe to an interactive table.\"\n",
              "              style=\"display:none;\">\n",
              "        \n",
              "  <svg xmlns=\"http://www.w3.org/2000/svg\" height=\"24px\"viewBox=\"0 0 24 24\"\n",
              "       width=\"24px\">\n",
              "    <path d=\"M0 0h24v24H0V0z\" fill=\"none\"/>\n",
              "    <path d=\"M18.56 5.44l.94 2.06.94-2.06 2.06-.94-2.06-.94-.94-2.06-.94 2.06-2.06.94zm-11 1L8.5 8.5l.94-2.06 2.06-.94-2.06-.94L8.5 2.5l-.94 2.06-2.06.94zm10 10l.94 2.06.94-2.06 2.06-.94-2.06-.94-.94-2.06-.94 2.06-2.06.94z\"/><path d=\"M17.41 7.96l-1.37-1.37c-.4-.4-.92-.59-1.43-.59-.52 0-1.04.2-1.43.59L10.3 9.45l-7.72 7.72c-.78.78-.78 2.05 0 2.83L4 21.41c.39.39.9.59 1.41.59.51 0 1.02-.2 1.41-.59l7.78-7.78 2.81-2.81c.8-.78.8-2.07 0-2.86zM5.41 20L4 18.59l7.72-7.72 1.47 1.35L5.41 20z\"/>\n",
              "  </svg>\n",
              "      </button>\n",
              "      \n",
              "  <style>\n",
              "    .colab-df-container {\n",
              "      display:flex;\n",
              "      flex-wrap:wrap;\n",
              "      gap: 12px;\n",
              "    }\n",
              "\n",
              "    .colab-df-convert {\n",
              "      background-color: #E8F0FE;\n",
              "      border: none;\n",
              "      border-radius: 50%;\n",
              "      cursor: pointer;\n",
              "      display: none;\n",
              "      fill: #1967D2;\n",
              "      height: 32px;\n",
              "      padding: 0 0 0 0;\n",
              "      width: 32px;\n",
              "    }\n",
              "\n",
              "    .colab-df-convert:hover {\n",
              "      background-color: #E2EBFA;\n",
              "      box-shadow: 0px 1px 2px rgba(60, 64, 67, 0.3), 0px 1px 3px 1px rgba(60, 64, 67, 0.15);\n",
              "      fill: #174EA6;\n",
              "    }\n",
              "\n",
              "    [theme=dark] .colab-df-convert {\n",
              "      background-color: #3B4455;\n",
              "      fill: #D2E3FC;\n",
              "    }\n",
              "\n",
              "    [theme=dark] .colab-df-convert:hover {\n",
              "      background-color: #434B5C;\n",
              "      box-shadow: 0px 1px 3px 1px rgba(0, 0, 0, 0.15);\n",
              "      filter: drop-shadow(0px 1px 2px rgba(0, 0, 0, 0.3));\n",
              "      fill: #FFFFFF;\n",
              "    }\n",
              "  </style>\n",
              "\n",
              "      <script>\n",
              "        const buttonEl =\n",
              "          document.querySelector('#df-fdfd85dc-300e-48bb-ae42-5ddf931a4957 button.colab-df-convert');\n",
              "        buttonEl.style.display =\n",
              "          google.colab.kernel.accessAllowed ? 'block' : 'none';\n",
              "\n",
              "        async function convertToInteractive(key) {\n",
              "          const element = document.querySelector('#df-fdfd85dc-300e-48bb-ae42-5ddf931a4957');\n",
              "          const dataTable =\n",
              "            await google.colab.kernel.invokeFunction('convertToInteractive',\n",
              "                                                     [key], {});\n",
              "          if (!dataTable) return;\n",
              "\n",
              "          const docLinkHtml = 'Like what you see? Visit the ' +\n",
              "            '<a target=\"_blank\" href=https://colab.research.google.com/notebooks/data_table.ipynb>data table notebook</a>'\n",
              "            + ' to learn more about interactive tables.';\n",
              "          element.innerHTML = '';\n",
              "          dataTable['output_type'] = 'display_data';\n",
              "          await google.colab.output.renderOutput(dataTable, element);\n",
              "          const docLink = document.createElement('div');\n",
              "          docLink.innerHTML = docLinkHtml;\n",
              "          element.appendChild(docLink);\n",
              "        }\n",
              "      </script>\n",
              "    </div>\n",
              "  </div>\n",
              "  "
            ],
            "text/plain": [
              "                        UK     US     CA\n",
              "control_converted    12.00  12.06  11.88\n",
              "treatment_converted  12.12  11.85  11.19\n",
              "lift                  0.96  -1.79  -5.79"
            ]
          },
          "metadata": {},
          "execution_count": 28
        }
      ]
    },
    {
      "cell_type": "markdown",
      "source": [
        "Изменения в долях converted для Великобритании и США достаточно малы, но для Канады мы видим уменьшение почти на 6%. Разумеется, какие-либо выводы делать пока рано: необходимо проверить статистическую значимость этих изменений\n"
      ],
      "metadata": {
        "id": "cbFA8At5pqXN"
      }
    },
    {
      "cell_type": "markdown",
      "source": [
        "Две гипотезы аналогичны тем, что мы вводили ранее, но проверяются для каждой страны в отдельности <br>\n",
        "**H0** - раличия между долями converted для контрольной и тестовой групп вызваны лишь случайными причинами <br>\n",
        "**H1** - между долями converted для контрольной и тестовой групп действительно существуют значимые различия"
      ],
      "metadata": {
        "id": "98c-kIfksyYH"
      }
    },
    {
      "cell_type": "markdown",
      "source": [
        "###Двухвыборочный Z-Тест для пропорций (долей) в модели Бернулли"
      ],
      "metadata": {
        "id": "VuQPeQMvr7gC"
      }
    },
    {
      "cell_type": "code",
      "source": [
        "from statsmodels.stats.proportion import proportions_ztest\n",
        "\n",
        "alpha = 0.05\n",
        "\n",
        "def z_test(df):\n",
        "\n",
        "  sum_a = df.loc[df['group'] == 'control']['converted'].sum()\n",
        "  sum_b = df.loc[df['group'] == 'treatment']['converted'].sum()\n",
        "  size_a = df.loc[df['group'] == 'control']['converted'].shape[0]\n",
        "  size_b = df.loc[df['group'] == 'treatment']['converted'].shape[0]\n",
        "\n",
        "  p_value = proportions_ztest(count=[sum_a, sum_b], \n",
        "                              nobs=[size_a, size_b])[1]\n",
        " \n",
        "  print('Diff is {}significant (p-value = {:.2f})'.\n",
        "        format({False:'not ', True:''}[p_value < alpha], p_value)) \n",
        "\n",
        "print('UK: ', end='')\n",
        "z_test(converted_uk)\n",
        "print('US: ', end='')\n",
        "z_test(converted_us)\n",
        "print('CA: ', end='')\n",
        "z_test(converted_ca)"
      ],
      "metadata": {
        "id": "NIJ5Qx4bAcfw",
        "colab": {
          "base_uri": "https://localhost:8080/"
        },
        "outputId": "22e9a1a8-7752-429f-b8f2-e3f04a0a49f3"
      },
      "execution_count": null,
      "outputs": [
        {
          "output_type": "stream",
          "name": "stdout",
          "text": [
            "UK: Diff is not significant (p-value = 0.63)\n",
            "US: Diff is not significant (p-value = 0.13)\n",
            "CA: Diff is not significant (p-value = 0.19)\n"
          ]
        }
      ]
    },
    {
      "cell_type": "markdown",
      "source": [
        "На основе Z-теста мы **не можем отвергнуть нулевую гипотезу**, утверждающую, что между долями converted для контрольной и тестовой групп нет различий, ни для одной из стран"
      ],
      "metadata": {
        "id": "hkAZZe3vr81_"
      }
    },
    {
      "cell_type": "markdown",
      "source": [
        "#4. Необходимый объем выборки"
      ],
      "metadata": {
        "id": "4L5H3ISvvZUI"
      }
    },
    {
      "cell_type": "code",
      "source": [
        "from statsmodels.stats.power import TTestIndPower\n",
        "\n",
        "analysis = TTestIndPower()\n",
        "analysis.plot_power(nobs=np.arange(100, 145300), \n",
        "                    effect_size=np.array([0.01, 0.05, 0.1, 0.2, 0.5])) \n",
        "\n",
        "plt.show()"
      ],
      "metadata": {
        "colab": {
          "base_uri": "https://localhost:8080/",
          "height": 355
        },
        "id": "bSr4_KXYukbn",
        "outputId": "e9419de1-7335-478f-d1f3-b74bb93ccd68"
      },
      "execution_count": null,
      "outputs": [
        {
          "output_type": "display_data",
          "data": {
            "image/png": "[encoded data removed]",
            "text/plain": [
              "<Figure size 720x360 with 1 Axes>"
            ]
          },
          "metadata": {}
        }
      ]
    },
    {
      "cell_type": "markdown",
      "source": [
        "Для обнаружения малых эффектов (а именно такие мы и получили в процессе анализа) объемов наших выборок более, чем достаточно"
      ],
      "metadata": {
        "id": "33j5Kia-wp2D"
      }
    },
    {
      "cell_type": "markdown",
      "source": [
        "#5. Заключение"
      ],
      "metadata": {
        "id": "pVAeFpcLwDUB"
      }
    },
    {
      "cell_type": "markdown",
      "source": [
        "Обобщим наши результаты в виде небольшой таблички, поле которой имеет зеленый цвет, если результат статистически значим, и красный, если нет (в нашем случае все изменения оказались статистически не значимыми, поэтому все ячейки будут красными)"
      ],
      "metadata": {
        "id": "6x3Z68MIYz2H"
      }
    },
    {
      "cell_type": "code",
      "source": [
        "def bg_color(col):\n",
        "    color = '#ff6e68'\n",
        "    return ['background-color: {}'.format(color)\n",
        "            for i, x in col.iteritems()]\n",
        "\n",
        "summary = list(country_lift.iloc[2])\n",
        "summary.append(total_lift)\n",
        "\n",
        "d = {}\n",
        "d['lift(%)'] = pd.Series(summary, index=['UK', 'US', 'CA', 'TOTAL'])\n",
        "summary = pd.DataFrame(d)\n",
        "\n",
        "summary.style.apply(bg_color)"
      ],
      "metadata": {
        "colab": {
          "base_uri": "https://localhost:8080/",
          "height": 174
        },
        "id": "ob39lvyNOism",
        "outputId": "d0091e21-c243-4bb5-ab20-64efafa0b3d8"
      },
      "execution_count": null,
      "outputs": [
        {
          "output_type": "execute_result",
          "data": {
            "text/html": [
              "<style  type=\"text/css\" >\n",
              "#T_33c5c23e_6328_11ec_a467_0242ac1c0002row0_col0,#T_33c5c23e_6328_11ec_a467_0242ac1c0002row1_col0,#T_33c5c23e_6328_11ec_a467_0242ac1c0002row2_col0,#T_33c5c23e_6328_11ec_a467_0242ac1c0002row3_col0{\n",
              "            background-color:  #ff6e68;\n",
              "        }</style><table id=\"T_33c5c23e_6328_11ec_a467_0242ac1c0002\" class=\"dataframe\"><thead>    <tr>        <th class=\"blank level0\" ></th>        <th class=\"col_heading level0 col0\" >lift(%)</th>    </tr></thead><tbody>\n",
              "                <tr>\n",
              "                        <th id=\"T_33c5c23e_6328_11ec_a467_0242ac1c0002level0_row0\" class=\"row_heading level0 row0\" >UK</th>\n",
              "                        <td id=\"T_33c5c23e_6328_11ec_a467_0242ac1c0002row0_col0\" class=\"data row0 col0\" >0.960000</td>\n",
              "            </tr>\n",
              "            <tr>\n",
              "                        <th id=\"T_33c5c23e_6328_11ec_a467_0242ac1c0002level0_row1\" class=\"row_heading level0 row1\" >US</th>\n",
              "                        <td id=\"T_33c5c23e_6328_11ec_a467_0242ac1c0002row1_col0\" class=\"data row1 col0\" >-1.790000</td>\n",
              "            </tr>\n",
              "            <tr>\n",
              "                        <th id=\"T_33c5c23e_6328_11ec_a467_0242ac1c0002level0_row2\" class=\"row_heading level0 row2\" >CA</th>\n",
              "                        <td id=\"T_33c5c23e_6328_11ec_a467_0242ac1c0002row2_col0\" class=\"data row2 col0\" >-5.790000</td>\n",
              "            </tr>\n",
              "            <tr>\n",
              "                        <th id=\"T_33c5c23e_6328_11ec_a467_0242ac1c0002level0_row3\" class=\"row_heading level0 row3\" >TOTAL</th>\n",
              "                        <td id=\"T_33c5c23e_6328_11ec_a467_0242ac1c0002row3_col0\" class=\"data row3 col0\" >-1.310000</td>\n",
              "            </tr>\n",
              "    </tbody></table>"
            ],
            "text/plain": [
              "<pandas.io.formats.style.Styler at 0x7f9db35b1550>"
            ]
          },
          "metadata": {},
          "execution_count": 30
        }
      ]
    },
    {
      "cell_type": "markdown",
      "source": [
        "Таким образом, в процессе анализа результатов эксперимента выяснилось, что замена старой страницы новой не оказывает существенного влияния на конверсии пользователей. <br><br>\n",
        "Разницы между тем, введем мы новую страницу или оставим старую, в плане конверсий пользователей нет. Но так как целью изменения страницы было увеличение конверсий, нет особого смысла заменять старую страницу новой"
      ],
      "metadata": {
        "id": "0ImOpg07ZYLC"
      }
    }
  ],
  "metadata": {
    "colab": {
      "collapsed_sections": [],
      "name": "FinalProject.ipynb",
      "provenance": []
    },
    "kernelspec": {
      "display_name": "Python 3",
      "name": "python3"
    },
    "language_info": {
      "name": "python"
    }
  },
  "nbformat": 4,
  "nbformat_minor": 0
}