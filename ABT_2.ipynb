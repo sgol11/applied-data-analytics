{
  "nbformat": 4,
  "nbformat_minor": 0,
  "metadata": {
    "colab": {
      "name": "ABT-2.ipynb",
      "provenance": [],
      "collapsed_sections": []
    },
    "kernelspec": {
      "name": "python3",
      "display_name": "Python 3"
    },
    "language_info": {
      "name": "python"
    }
  },
  "cells": [
    {
      "cell_type": "markdown",
      "metadata": {
        "id": "08Id_mY6Wein"
      },
      "source": [
        "ABT-2 <br>\n",
        "Выполнила: Голикова Софья"
      ]
    },
    {
      "cell_type": "markdown",
      "source": [
        "1. [Предварительный анализ](#preliminary_analysis)\n",
        "2. Исследование метрик\n",
        "    1. [Среднее значение metric_value](#metric_value)\n",
        "    2. [Среднее количество сессий](#sessions_num)\n",
        "    3. [Отток пользователей](#churn_ratio)\n",
        "3. [Расчет необходимого объема выборок](#sample_size)\n",
        "4. [Общий вывод](#conclusion)"
      ],
      "metadata": {
        "id": "ygKT5aP97BLz"
      }
    },
    {
      "cell_type": "markdown",
      "source": [
        "<a name=\"preliminary_analysis\"></a>\n",
        "#Предварительный анализ"
      ],
      "metadata": {
        "id": "EenlLRMg65c6"
      }
    },
    {
      "cell_type": "markdown",
      "metadata": {
        "id": "NGjq0qdF_q4u"
      },
      "source": [
        "На сайте проводится эксперимент. Время проведения эксперимента\n",
        "– 2 недели. <br>\n",
        "Всего на сайте DAU около 500 000 и WAU около 850 000. Всего за\n",
        "время работы на сайте образовалась аудитория из около 1 500 000 не\n",
        "уходящих в отток посетителей. <br>\n",
        "Необходимо по имеющимся данным исследовать, какие позитивные и негативные эффекты вызвало нововведение. "
      ]
    },
    {
      "cell_type": "code",
      "metadata": {
        "colab": {
          "base_uri": "https://localhost:8080/"
        },
        "id": "2PK77LQv1JEj",
        "outputId": "c78080bd-8b00-4523-fc97-9915f01cad0e"
      },
      "source": [
        "from google.colab import drive\n",
        "drive.mount('/content/gdrive')"
      ],
      "execution_count": null,
      "outputs": [
        {
          "output_type": "stream",
          "name": "stdout",
          "text": [
            "Drive already mounted at /content/gdrive; to attempt to forcibly remount, call drive.mount(\"/content/gdrive\", force_remount=True).\n"
          ]
        }
      ]
    },
    {
      "cell_type": "code",
      "metadata": {
        "id": "XvYkgvNyjV-c"
      },
      "source": [
        "import warnings\n",
        "warnings.filterwarnings('ignore')"
      ],
      "execution_count": null,
      "outputs": []
    },
    {
      "cell_type": "code",
      "metadata": {
        "id": "D7JyIfJ01N1x"
      },
      "source": [
        "import numpy as np\n",
        "import pandas as pd\n",
        "import matplotlib.pyplot as plt \n",
        "import seaborn as sns\n",
        "from seaborn_qqplot import pplot\n",
        "from scipy.stats import norm"
      ],
      "execution_count": null,
      "outputs": []
    },
    {
      "cell_type": "code",
      "metadata": {
        "id": "C4r-rNrQ2lVX"
      },
      "source": [
        "buckets = pd.read_csv('gdrive/MyDrive/Colab Notebooks/abt2_data/hw_abt_2_bybucket.csv', \n",
        "                      delimiter='\\t')\n",
        "users = pd.read_csv('gdrive/MyDrive/Colab Notebooks/abt2_data/hw_abt_2_byuser.csv', \n",
        "                    delimiter='\\t', index_col=0)"
      ],
      "execution_count": null,
      "outputs": []
    },
    {
      "cell_type": "markdown",
      "metadata": {
        "id": "QEhX8LR4-RJG"
      },
      "source": [
        "Колонки в таблицах:\n",
        "- group_id - bucket’ы с номерами от 1 до 16. К группе ‘A’, контрольной, относятся bucket’ы 1..8, к группе ‘B’, экспериментальной, – 9..16;\n",
        "- metric_value – сумма целевых действий пользователей в рамках bucket’а –\n",
        "например, просмотров рекламного баннера, телефона на сайте classified-сервиса\n",
        "или покупок в retail/FMCG;\n",
        "- users – кол-во пользователей, совершивших целевое действие;\n",
        "- visits – кол-во целевых сессий (закончившихся успешным целевым действием);\n",
        "- churn_users – кол-во пользователей в рамках bucket’а, отказавшихся\n",
        "сделать заказ или ушедших в отток во время эксперимента;\n",
        "- churn_visits – количество сессий, не закончившихся успешным целевым действием."
      ]
    },
    {
      "cell_type": "code",
      "metadata": {
        "colab": {
          "base_uri": "https://localhost:8080/",
          "height": 551
        },
        "id": "ELikJPtT7gKP",
        "outputId": "3f6acbdc-384e-4422-c7b0-baaca4088b30"
      },
      "source": [
        "buckets"
      ],
      "execution_count": null,
      "outputs": [
        {
          "output_type": "execute_result",
          "data": {
            "text/html": [
              "\n",
              "  <div id=\"df-8ca7bbe6-9808-48c8-8301-416110724cfb\">\n",
              "    <div class=\"colab-df-container\">\n",
              "      <div>\n",
              "<style scoped>\n",
              "    .dataframe tbody tr th:only-of-type {\n",
              "        vertical-align: middle;\n",
              "    }\n",
              "\n",
              "    .dataframe tbody tr th {\n",
              "        vertical-align: top;\n",
              "    }\n",
              "\n",
              "    .dataframe thead th {\n",
              "        text-align: right;\n",
              "    }\n",
              "</style>\n",
              "<table border=\"1\" class=\"dataframe\">\n",
              "  <thead>\n",
              "    <tr style=\"text-align: right;\">\n",
              "      <th></th>\n",
              "      <th>group_id</th>\n",
              "      <th>metric_value</th>\n",
              "      <th>users</th>\n",
              "      <th>visits</th>\n",
              "      <th>churn_users</th>\n",
              "      <th>churn_visits</th>\n",
              "    </tr>\n",
              "  </thead>\n",
              "  <tbody>\n",
              "    <tr>\n",
              "      <th>0</th>\n",
              "      <td>1</td>\n",
              "      <td>1875345.000</td>\n",
              "      <td>155</td>\n",
              "      <td>1419</td>\n",
              "      <td>151</td>\n",
              "      <td>2207</td>\n",
              "    </tr>\n",
              "    <tr>\n",
              "      <th>1</th>\n",
              "      <td>2</td>\n",
              "      <td>1662237.000</td>\n",
              "      <td>138</td>\n",
              "      <td>1320</td>\n",
              "      <td>127</td>\n",
              "      <td>1853</td>\n",
              "    </tr>\n",
              "    <tr>\n",
              "      <th>2</th>\n",
              "      <td>3</td>\n",
              "      <td>1784372.000</td>\n",
              "      <td>128</td>\n",
              "      <td>1281</td>\n",
              "      <td>159</td>\n",
              "      <td>2032</td>\n",
              "    </tr>\n",
              "    <tr>\n",
              "      <th>3</th>\n",
              "      <td>4</td>\n",
              "      <td>1876826.000</td>\n",
              "      <td>163</td>\n",
              "      <td>1644</td>\n",
              "      <td>168</td>\n",
              "      <td>2172</td>\n",
              "    </tr>\n",
              "    <tr>\n",
              "      <th>4</th>\n",
              "      <td>5</td>\n",
              "      <td>1913180.000</td>\n",
              "      <td>156</td>\n",
              "      <td>1675</td>\n",
              "      <td>174</td>\n",
              "      <td>2273</td>\n",
              "    </tr>\n",
              "    <tr>\n",
              "      <th>5</th>\n",
              "      <td>6</td>\n",
              "      <td>1733079.000</td>\n",
              "      <td>144</td>\n",
              "      <td>1509</td>\n",
              "      <td>141</td>\n",
              "      <td>2009</td>\n",
              "    </tr>\n",
              "    <tr>\n",
              "      <th>6</th>\n",
              "      <td>7</td>\n",
              "      <td>1864555.000</td>\n",
              "      <td>151</td>\n",
              "      <td>1481</td>\n",
              "      <td>161</td>\n",
              "      <td>2139</td>\n",
              "    </tr>\n",
              "    <tr>\n",
              "      <th>7</th>\n",
              "      <td>8</td>\n",
              "      <td>2029143.000</td>\n",
              "      <td>162</td>\n",
              "      <td>1533</td>\n",
              "      <td>153</td>\n",
              "      <td>2299</td>\n",
              "    </tr>\n",
              "    <tr>\n",
              "      <th>8</th>\n",
              "      <td>9</td>\n",
              "      <td>2047289.536</td>\n",
              "      <td>143</td>\n",
              "      <td>1424</td>\n",
              "      <td>242</td>\n",
              "      <td>2191</td>\n",
              "    </tr>\n",
              "    <tr>\n",
              "      <th>9</th>\n",
              "      <td>10</td>\n",
              "      <td>2228154.648</td>\n",
              "      <td>179</td>\n",
              "      <td>1803</td>\n",
              "      <td>265</td>\n",
              "      <td>2518</td>\n",
              "    </tr>\n",
              "    <tr>\n",
              "      <th>10</th>\n",
              "      <td>11</td>\n",
              "      <td>1876015.920</td>\n",
              "      <td>150</td>\n",
              "      <td>1448</td>\n",
              "      <td>226</td>\n",
              "      <td>2062</td>\n",
              "    </tr>\n",
              "    <tr>\n",
              "      <th>11</th>\n",
              "      <td>12</td>\n",
              "      <td>2102859.224</td>\n",
              "      <td>149</td>\n",
              "      <td>1339</td>\n",
              "      <td>261</td>\n",
              "      <td>2257</td>\n",
              "    </tr>\n",
              "    <tr>\n",
              "      <th>12</th>\n",
              "      <td>13</td>\n",
              "      <td>2079287.344</td>\n",
              "      <td>155</td>\n",
              "      <td>1240</td>\n",
              "      <td>257</td>\n",
              "      <td>2248</td>\n",
              "    </tr>\n",
              "    <tr>\n",
              "      <th>13</th>\n",
              "      <td>14</td>\n",
              "      <td>2127954.032</td>\n",
              "      <td>166</td>\n",
              "      <td>1397</td>\n",
              "      <td>256</td>\n",
              "      <td>2215</td>\n",
              "    </tr>\n",
              "    <tr>\n",
              "      <th>14</th>\n",
              "      <td>15</td>\n",
              "      <td>1887384.920</td>\n",
              "      <td>161</td>\n",
              "      <td>1488</td>\n",
              "      <td>224</td>\n",
              "      <td>2015</td>\n",
              "    </tr>\n",
              "    <tr>\n",
              "      <th>15</th>\n",
              "      <td>16</td>\n",
              "      <td>2082370.200</td>\n",
              "      <td>159</td>\n",
              "      <td>1469</td>\n",
              "      <td>273</td>\n",
              "      <td>2287</td>\n",
              "    </tr>\n",
              "  </tbody>\n",
              "</table>\n",
              "</div>\n",
              "      <button class=\"colab-df-convert\" onclick=\"convertToInteractive('df-8ca7bbe6-9808-48c8-8301-416110724cfb')\"\n",
              "              title=\"Convert this dataframe to an interactive table.\"\n",
              "              style=\"display:none;\">\n",
              "        \n",
              "  <svg xmlns=\"http://www.w3.org/2000/svg\" height=\"24px\"viewBox=\"0 0 24 24\"\n",
              "       width=\"24px\">\n",
              "    <path d=\"M0 0h24v24H0V0z\" fill=\"none\"/>\n",
              "    <path d=\"M18.56 5.44l.94 2.06.94-2.06 2.06-.94-2.06-.94-.94-2.06-.94 2.06-2.06.94zm-11 1L8.5 8.5l.94-2.06 2.06-.94-2.06-.94L8.5 2.5l-.94 2.06-2.06.94zm10 10l.94 2.06.94-2.06 2.06-.94-2.06-.94-.94-2.06-.94 2.06-2.06.94z\"/><path d=\"M17.41 7.96l-1.37-1.37c-.4-.4-.92-.59-1.43-.59-.52 0-1.04.2-1.43.59L10.3 9.45l-7.72 7.72c-.78.78-.78 2.05 0 2.83L4 21.41c.39.39.9.59 1.41.59.51 0 1.02-.2 1.41-.59l7.78-7.78 2.81-2.81c.8-.78.8-2.07 0-2.86zM5.41 20L4 18.59l7.72-7.72 1.47 1.35L5.41 20z\"/>\n",
              "  </svg>\n",
              "      </button>\n",
              "      \n",
              "  <style>\n",
              "    .colab-df-container {\n",
              "      display:flex;\n",
              "      flex-wrap:wrap;\n",
              "      gap: 12px;\n",
              "    }\n",
              "\n",
              "    .colab-df-convert {\n",
              "      background-color: #E8F0FE;\n",
              "      border: none;\n",
              "      border-radius: 50%;\n",
              "      cursor: pointer;\n",
              "      display: none;\n",
              "      fill: #1967D2;\n",
              "      height: 32px;\n",
              "      padding: 0 0 0 0;\n",
              "      width: 32px;\n",
              "    }\n",
              "\n",
              "    .colab-df-convert:hover {\n",
              "      background-color: #E2EBFA;\n",
              "      box-shadow: 0px 1px 2px rgba(60, 64, 67, 0.3), 0px 1px 3px 1px rgba(60, 64, 67, 0.15);\n",
              "      fill: #174EA6;\n",
              "    }\n",
              "\n",
              "    [theme=dark] .colab-df-convert {\n",
              "      background-color: #3B4455;\n",
              "      fill: #D2E3FC;\n",
              "    }\n",
              "\n",
              "    [theme=dark] .colab-df-convert:hover {\n",
              "      background-color: #434B5C;\n",
              "      box-shadow: 0px 1px 3px 1px rgba(0, 0, 0, 0.15);\n",
              "      filter: drop-shadow(0px 1px 2px rgba(0, 0, 0, 0.3));\n",
              "      fill: #FFFFFF;\n",
              "    }\n",
              "  </style>\n",
              "\n",
              "      <script>\n",
              "        const buttonEl =\n",
              "          document.querySelector('#df-8ca7bbe6-9808-48c8-8301-416110724cfb button.colab-df-convert');\n",
              "        buttonEl.style.display =\n",
              "          google.colab.kernel.accessAllowed ? 'block' : 'none';\n",
              "\n",
              "        async function convertToInteractive(key) {\n",
              "          const element = document.querySelector('#df-8ca7bbe6-9808-48c8-8301-416110724cfb');\n",
              "          const dataTable =\n",
              "            await google.colab.kernel.invokeFunction('convertToInteractive',\n",
              "                                                     [key], {});\n",
              "          if (!dataTable) return;\n",
              "\n",
              "          const docLinkHtml = 'Like what you see? Visit the ' +\n",
              "            '<a target=\"_blank\" href=https://colab.research.google.com/notebooks/data_table.ipynb>data table notebook</a>'\n",
              "            + ' to learn more about interactive tables.';\n",
              "          element.innerHTML = '';\n",
              "          dataTable['output_type'] = 'display_data';\n",
              "          await google.colab.output.renderOutput(dataTable, element);\n",
              "          const docLink = document.createElement('div');\n",
              "          docLink.innerHTML = docLinkHtml;\n",
              "          element.appendChild(docLink);\n",
              "        }\n",
              "      </script>\n",
              "    </div>\n",
              "  </div>\n",
              "  "
            ],
            "text/plain": [
              "    group_id  metric_value  users  visits  churn_users  churn_visits\n",
              "0          1   1875345.000    155    1419          151          2207\n",
              "1          2   1662237.000    138    1320          127          1853\n",
              "2          3   1784372.000    128    1281          159          2032\n",
              "3          4   1876826.000    163    1644          168          2172\n",
              "4          5   1913180.000    156    1675          174          2273\n",
              "5          6   1733079.000    144    1509          141          2009\n",
              "6          7   1864555.000    151    1481          161          2139\n",
              "7          8   2029143.000    162    1533          153          2299\n",
              "8          9   2047289.536    143    1424          242          2191\n",
              "9         10   2228154.648    179    1803          265          2518\n",
              "10        11   1876015.920    150    1448          226          2062\n",
              "11        12   2102859.224    149    1339          261          2257\n",
              "12        13   2079287.344    155    1240          257          2248\n",
              "13        14   2127954.032    166    1397          256          2215\n",
              "14        15   1887384.920    161    1488          224          2015\n",
              "15        16   2082370.200    159    1469          273          2287"
            ]
          },
          "metadata": {},
          "execution_count": 10
        }
      ]
    },
    {
      "cell_type": "code",
      "metadata": {
        "colab": {
          "base_uri": "https://localhost:8080/",
          "height": 363
        },
        "id": "th_hyLnh2Yup",
        "outputId": "f689164a-de6e-4128-b55a-afd9453fe209"
      },
      "source": [
        "users.head(10)"
      ],
      "execution_count": null,
      "outputs": [
        {
          "output_type": "execute_result",
          "data": {
            "text/html": [
              "\n",
              "  <div id=\"df-bcb251f4-1d07-470f-b673-57b2526aeebe\">\n",
              "    <div class=\"colab-df-container\">\n",
              "      <div>\n",
              "<style scoped>\n",
              "    .dataframe tbody tr th:only-of-type {\n",
              "        vertical-align: middle;\n",
              "    }\n",
              "\n",
              "    .dataframe tbody tr th {\n",
              "        vertical-align: top;\n",
              "    }\n",
              "\n",
              "    .dataframe thead th {\n",
              "        text-align: right;\n",
              "    }\n",
              "</style>\n",
              "<table border=\"1\" class=\"dataframe\">\n",
              "  <thead>\n",
              "    <tr style=\"text-align: right;\">\n",
              "      <th></th>\n",
              "      <th>group_id</th>\n",
              "      <th>metric_value</th>\n",
              "      <th>users</th>\n",
              "      <th>visits</th>\n",
              "      <th>churn_users</th>\n",
              "      <th>churn_visits</th>\n",
              "      <th>group</th>\n",
              "    </tr>\n",
              "  </thead>\n",
              "  <tbody>\n",
              "    <tr>\n",
              "      <th>0</th>\n",
              "      <td>8</td>\n",
              "      <td>6630.000</td>\n",
              "      <td>0</td>\n",
              "      <td>0</td>\n",
              "      <td>0</td>\n",
              "      <td>8</td>\n",
              "      <td>A</td>\n",
              "    </tr>\n",
              "    <tr>\n",
              "      <th>1</th>\n",
              "      <td>13</td>\n",
              "      <td>6933.976</td>\n",
              "      <td>0</td>\n",
              "      <td>0</td>\n",
              "      <td>1</td>\n",
              "      <td>6</td>\n",
              "      <td>B</td>\n",
              "    </tr>\n",
              "    <tr>\n",
              "      <th>2</th>\n",
              "      <td>10</td>\n",
              "      <td>8261.976</td>\n",
              "      <td>1</td>\n",
              "      <td>10</td>\n",
              "      <td>1</td>\n",
              "      <td>8</td>\n",
              "      <td>B</td>\n",
              "    </tr>\n",
              "    <tr>\n",
              "      <th>3</th>\n",
              "      <td>4</td>\n",
              "      <td>5522.000</td>\n",
              "      <td>1</td>\n",
              "      <td>9</td>\n",
              "      <td>1</td>\n",
              "      <td>7</td>\n",
              "      <td>A</td>\n",
              "    </tr>\n",
              "    <tr>\n",
              "      <th>4</th>\n",
              "      <td>16</td>\n",
              "      <td>5075.976</td>\n",
              "      <td>1</td>\n",
              "      <td>6</td>\n",
              "      <td>0</td>\n",
              "      <td>8</td>\n",
              "      <td>B</td>\n",
              "    </tr>\n",
              "    <tr>\n",
              "      <th>5</th>\n",
              "      <td>2</td>\n",
              "      <td>8539.000</td>\n",
              "      <td>0</td>\n",
              "      <td>0</td>\n",
              "      <td>0</td>\n",
              "      <td>8</td>\n",
              "      <td>A</td>\n",
              "    </tr>\n",
              "    <tr>\n",
              "      <th>6</th>\n",
              "      <td>8</td>\n",
              "      <td>5714.000</td>\n",
              "      <td>0</td>\n",
              "      <td>0</td>\n",
              "      <td>0</td>\n",
              "      <td>7</td>\n",
              "      <td>A</td>\n",
              "    </tr>\n",
              "    <tr>\n",
              "      <th>7</th>\n",
              "      <td>3</td>\n",
              "      <td>7330.000</td>\n",
              "      <td>0</td>\n",
              "      <td>0</td>\n",
              "      <td>0</td>\n",
              "      <td>6</td>\n",
              "      <td>A</td>\n",
              "    </tr>\n",
              "    <tr>\n",
              "      <th>8</th>\n",
              "      <td>2</td>\n",
              "      <td>6759.000</td>\n",
              "      <td>1</td>\n",
              "      <td>4</td>\n",
              "      <td>1</td>\n",
              "      <td>7</td>\n",
              "      <td>A</td>\n",
              "    </tr>\n",
              "    <tr>\n",
              "      <th>9</th>\n",
              "      <td>12</td>\n",
              "      <td>6963.976</td>\n",
              "      <td>1</td>\n",
              "      <td>1</td>\n",
              "      <td>0</td>\n",
              "      <td>6</td>\n",
              "      <td>B</td>\n",
              "    </tr>\n",
              "  </tbody>\n",
              "</table>\n",
              "</div>\n",
              "      <button class=\"colab-df-convert\" onclick=\"convertToInteractive('df-bcb251f4-1d07-470f-b673-57b2526aeebe')\"\n",
              "              title=\"Convert this dataframe to an interactive table.\"\n",
              "              style=\"display:none;\">\n",
              "        \n",
              "  <svg xmlns=\"http://www.w3.org/2000/svg\" height=\"24px\"viewBox=\"0 0 24 24\"\n",
              "       width=\"24px\">\n",
              "    <path d=\"M0 0h24v24H0V0z\" fill=\"none\"/>\n",
              "    <path d=\"M18.56 5.44l.94 2.06.94-2.06 2.06-.94-2.06-.94-.94-2.06-.94 2.06-2.06.94zm-11 1L8.5 8.5l.94-2.06 2.06-.94-2.06-.94L8.5 2.5l-.94 2.06-2.06.94zm10 10l.94 2.06.94-2.06 2.06-.94-2.06-.94-.94-2.06-.94 2.06-2.06.94z\"/><path d=\"M17.41 7.96l-1.37-1.37c-.4-.4-.92-.59-1.43-.59-.52 0-1.04.2-1.43.59L10.3 9.45l-7.72 7.72c-.78.78-.78 2.05 0 2.83L4 21.41c.39.39.9.59 1.41.59.51 0 1.02-.2 1.41-.59l7.78-7.78 2.81-2.81c.8-.78.8-2.07 0-2.86zM5.41 20L4 18.59l7.72-7.72 1.47 1.35L5.41 20z\"/>\n",
              "  </svg>\n",
              "      </button>\n",
              "      \n",
              "  <style>\n",
              "    .colab-df-container {\n",
              "      display:flex;\n",
              "      flex-wrap:wrap;\n",
              "      gap: 12px;\n",
              "    }\n",
              "\n",
              "    .colab-df-convert {\n",
              "      background-color: #E8F0FE;\n",
              "      border: none;\n",
              "      border-radius: 50%;\n",
              "      cursor: pointer;\n",
              "      display: none;\n",
              "      fill: #1967D2;\n",
              "      height: 32px;\n",
              "      padding: 0 0 0 0;\n",
              "      width: 32px;\n",
              "    }\n",
              "\n",
              "    .colab-df-convert:hover {\n",
              "      background-color: #E2EBFA;\n",
              "      box-shadow: 0px 1px 2px rgba(60, 64, 67, 0.3), 0px 1px 3px 1px rgba(60, 64, 67, 0.15);\n",
              "      fill: #174EA6;\n",
              "    }\n",
              "\n",
              "    [theme=dark] .colab-df-convert {\n",
              "      background-color: #3B4455;\n",
              "      fill: #D2E3FC;\n",
              "    }\n",
              "\n",
              "    [theme=dark] .colab-df-convert:hover {\n",
              "      background-color: #434B5C;\n",
              "      box-shadow: 0px 1px 3px 1px rgba(0, 0, 0, 0.15);\n",
              "      filter: drop-shadow(0px 1px 2px rgba(0, 0, 0, 0.3));\n",
              "      fill: #FFFFFF;\n",
              "    }\n",
              "  </style>\n",
              "\n",
              "      <script>\n",
              "        const buttonEl =\n",
              "          document.querySelector('#df-bcb251f4-1d07-470f-b673-57b2526aeebe button.colab-df-convert');\n",
              "        buttonEl.style.display =\n",
              "          google.colab.kernel.accessAllowed ? 'block' : 'none';\n",
              "\n",
              "        async function convertToInteractive(key) {\n",
              "          const element = document.querySelector('#df-bcb251f4-1d07-470f-b673-57b2526aeebe');\n",
              "          const dataTable =\n",
              "            await google.colab.kernel.invokeFunction('convertToInteractive',\n",
              "                                                     [key], {});\n",
              "          if (!dataTable) return;\n",
              "\n",
              "          const docLinkHtml = 'Like what you see? Visit the ' +\n",
              "            '<a target=\"_blank\" href=https://colab.research.google.com/notebooks/data_table.ipynb>data table notebook</a>'\n",
              "            + ' to learn more about interactive tables.';\n",
              "          element.innerHTML = '';\n",
              "          dataTable['output_type'] = 'display_data';\n",
              "          await google.colab.output.renderOutput(dataTable, element);\n",
              "          const docLink = document.createElement('div');\n",
              "          docLink.innerHTML = docLinkHtml;\n",
              "          element.appendChild(docLink);\n",
              "        }\n",
              "      </script>\n",
              "    </div>\n",
              "  </div>\n",
              "  "
            ],
            "text/plain": [
              "   group_id  metric_value  users  visits  churn_users  churn_visits group\n",
              "0         8      6630.000      0       0            0             8     A\n",
              "1        13      6933.976      0       0            1             6     B\n",
              "2        10      8261.976      1      10            1             8     B\n",
              "3         4      5522.000      1       9            1             7     A\n",
              "4        16      5075.976      1       6            0             8     B\n",
              "5         2      8539.000      0       0            0             8     A\n",
              "6         8      5714.000      0       0            0             7     A\n",
              "7         3      7330.000      0       0            0             6     A\n",
              "8         2      6759.000      1       4            1             7     A\n",
              "9        12      6963.976      1       1            0             6     B"
            ]
          },
          "metadata": {},
          "execution_count": 11
        }
      ]
    },
    {
      "cell_type": "markdown",
      "metadata": {
        "id": "1T6cz-cBGEwr"
      },
      "source": [
        "В таблице пользователей сразу бросается в глаза ситуация, когда visits = 0, а metric_value > 0. То есть, у этих пользователей не было успешных целевых сессий, однако metric_value для них не равно 0. Есть несколько предположений по этому поводу: <br><br>\n",
        "**Версия 1**: для каждого пользователя сохранилась история его недавних успешных действий, но во время эксперимента успешных целевых сессий не было. <br>\n",
        "**Версия 2**: во время проведения эксперимента пользователь отказался от уже оплаченного заказа, но средства были возвращены после окончания эксперимента. <br>\n",
        "**Версия 3**: у пользователя есть подписка на услуги, предоставляемые сайтом, и ему не обязательно заходить на сайт, чтобы увеличивалось metric_value. <br>\n",
        "**Версия 4: успешность сессии может определяться последним действием пользователя, тогда пользователь за одну и ту же сессию может сначала совершить целевое действие (сделать заказ), а потом отказаться от выполнения целевого действия (отменить другой созданный заказ).** <br><br>\n",
        "\n",
        "Первые 3 версии подходят, если ситуация \"visits = 0, metric_value > 0\" характерна для небольшой части пользователей, т.к. эти версии достаточно специфичны (например, подписку обычно имеет не очень большая доля пользователей, а возврат денежных средств только после окончания эксперимента свойственен пользователям, отменившим заказ в последние дни эксперимента). <br><br>\n",
        "4 версия выглядит более обычной и типичной для большой части пользователей, а, как мы можем убедиться, 2758 пользователей (больше половины) имеют visits = 0 при metric_value > 0. Поэтому в дальнейшем будем придерживаться этой версии."
      ]
    },
    {
      "cell_type": "code",
      "metadata": {
        "colab": {
          "base_uri": "https://localhost:8080/"
        },
        "id": "z4Fh-_daGoIp",
        "outputId": "7d4a63ba-b72e-41de-c566-d8053b66370a"
      },
      "source": [
        "print('Number of users with visits = 0 and metric_value > 0: ', \n",
        "      users.loc[(users['visits'] == 0) & (users['metric_value'] != 0)].shape[0], \n",
        "      sep='')"
      ],
      "execution_count": null,
      "outputs": [
        {
          "output_type": "stream",
          "name": "stdout",
          "text": [
            "Number of users with visits = 0 and metric_value > 0: 2758\n"
          ]
        }
      ]
    },
    {
      "cell_type": "markdown",
      "metadata": {
        "id": "gxqI7D3ZiTF2"
      },
      "source": [
        "Также поясним некоторые не совсем очевидные моменты (на основе предположений и допущений): <br>\n",
        "- visits = 0, users != 0 - пользователь только создал аккаунт либо перекрыл успешное действие неуспешным во время сессии (см. версию 4 выше) \n",
        "- churn_visits = 0, churn_users != 0 - пользователь удалил аккаунт сразу после создания (в той же сессии)\n",
        "- churn_visits != 0, churn_users = 0 - пользователь не ушел в отток, но периодически совершает неудачные действия"
      ]
    },
    {
      "cell_type": "markdown",
      "metadata": {
        "id": "RnLQIPUkOvyL"
      },
      "source": [
        "Размеры выборок:"
      ]
    },
    {
      "cell_type": "code",
      "metadata": {
        "colab": {
          "base_uri": "https://localhost:8080/"
        },
        "id": "A_sh2UQvOFbM",
        "outputId": "81dfc825-a218-4ec4-ef61-862afd024913"
      },
      "source": [
        "print('Group A size: {}'.format(users.loc[users['group'] == 'A'].shape[0]))\n",
        "print('Group B size: {}'.format(users.loc[users['group'] == 'B'].shape[0]))\n",
        "print('Size ratio: {}'.format(users.loc[users['group'] == 'A'].shape[0] / \n",
        "                              users.loc[users['group'] == 'B'].shape[0]))"
      ],
      "execution_count": null,
      "outputs": [
        {
          "output_type": "stream",
          "name": "stdout",
          "text": [
            "Group A size: 2451\n",
            "Group B size: 2549\n",
            "Size ratio: 0.9615535504119262\n"
          ]
        }
      ]
    },
    {
      "cell_type": "markdown",
      "metadata": {
        "id": "yykXjoBAbhzw"
      },
      "source": [
        "Метрики, которые мы будем исследовать при сравнении групп A и B:\n",
        "1. Среднее значение metric_value\n",
        "2. Среднее количество сессий (и удачных, и неудачных)\n",
        "3. Отток пользователей - доля churn_users\n",
        "\n",
        "Можно было бы рассмотреть metric_value per session, но в таблице много записей с visits = 0 при metric_value > 0 (мы рассмотрели эту ситуацию ранее и остановились на версии, что успешность сессии может определяться последним действием, и тогда неудачное действие может \"перекрывать\" удачное). Таким образом, мы не можем однозначно определить количество успешных сессий и исследовать данную метрику."
      ]
    },
    {
      "cell_type": "markdown",
      "metadata": {
        "id": "zp9j0CvyXkng"
      },
      "source": [
        "<a name=\"metric_value\"></a>\n",
        "#Среднее значение metric_value"
      ]
    },
    {
      "cell_type": "markdown",
      "metadata": {
        "id": "QhlbfS5FcJli"
      },
      "source": [
        "**Нулевая гипотеза**: <br>\n",
        "H0 - раличия в средних значениях metric_value для групп A и B вызваны лишь случайными причинами <br>\n",
        "**Альтернативная гипотеза**: <br>\n",
        "H1 -  между средними значениями metric_value для групп A и B действительно существуют значимые различия"
      ]
    },
    {
      "cell_type": "code",
      "metadata": {
        "id": "PuZIDe7Fnw0P"
      },
      "source": [
        "metric_group_a = users.loc[users['group'] == 'A']['metric_value']\n",
        "metric_group_b = users.loc[users['group'] == 'B']['metric_value']"
      ],
      "execution_count": null,
      "outputs": []
    },
    {
      "cell_type": "code",
      "metadata": {
        "colab": {
          "base_uri": "https://localhost:8080/"
        },
        "id": "pFDobF_zwsBb",
        "outputId": "bb37953d-d9cf-4e3e-a032-aa6da0ec31b3"
      },
      "source": [
        "print('Group A Metric Value mean: ', metric_group_a.mean(), sep='')\n",
        "print('Group B Metric Value mean: ', metric_group_b.mean(), sep='')"
      ],
      "execution_count": null,
      "outputs": [
        {
          "output_type": "stream",
          "name": "stdout",
          "text": [
            "Group A Metric Value mean: 6013.356589147287\n",
            "Group B Metric Value mean: 6446.181178501194\n"
          ]
        }
      ]
    },
    {
      "cell_type": "code",
      "source": [
        "lift = (metric_group_b.mean() / metric_group_a.mean() - 1) * 100\n",
        "print('Lift: {:.2}%'.format(lift))"
      ],
      "metadata": {
        "colab": {
          "base_uri": "https://localhost:8080/"
        },
        "id": "1zhhC4tF8IU4",
        "outputId": "9421ab03-273c-41c9-e710-1d7487aa8da7"
      },
      "execution_count": null,
      "outputs": [
        {
          "output_type": "stream",
          "name": "stdout",
          "text": [
            "Lift: 7.2%\n"
          ]
        }
      ]
    },
    {
      "cell_type": "markdown",
      "metadata": {
        "id": "JeA1lz9AXuRV"
      },
      "source": [
        "Распределения metric_value для каждой из групп:"
      ]
    },
    {
      "cell_type": "code",
      "metadata": {
        "colab": {
          "base_uri": "https://localhost:8080/",
          "height": 339
        },
        "id": "q2CLEJswbYKn",
        "outputId": "99b0b02a-1088-4f04-ddfa-7e54f7730ad7"
      },
      "source": [
        "sns.set_style(\"darkgrid\")\n",
        "sns.set(rc={'figure.figsize':(10, 5)})\n",
        "\n",
        "sns.histplot(data=users, x=\"metric_value\", hue='group')\n",
        "plt.show()"
      ],
      "execution_count": null,
      "outputs": [
        {
          "output_type": "display_data",
          "data": {
            "image/png": "[encoded data removed]",
            "text/plain": [
              "<Figure size 720x360 with 1 Axes>"
            ]
          },
          "metadata": {}
        }
      ]
    },
    {
      "cell_type": "markdown",
      "metadata": {
        "id": "nQ6w5sKusRmd"
      },
      "source": [
        "Диаграммы размаха:"
      ]
    },
    {
      "cell_type": "code",
      "metadata": {
        "colab": {
          "base_uri": "https://localhost:8080/",
          "height": 339
        },
        "id": "XKX9XeBepnVs",
        "outputId": "c63bbad9-102e-40d6-ab37-86f6f5726832"
      },
      "source": [
        "sns.set(rc={'figure.figsize':(10, 5)})\n",
        "\n",
        "sns.boxplot(x='group', y='metric_value', data=users)\n",
        "plt.show()"
      ],
      "execution_count": null,
      "outputs": [
        {
          "output_type": "display_data",
          "data": {
            "image/png": "[encoded data removed]",
            "text/plain": [
              "<Figure size 720x360 with 1 Axes>"
            ]
          },
          "metadata": {}
        }
      ]
    },
    {
      "cell_type": "markdown",
      "metadata": {
        "id": "Xki2OCpEX8Dr"
      },
      "source": [
        "###Проверка распределений на нормальность"
      ]
    },
    {
      "cell_type": "markdown",
      "metadata": {
        "id": "rt1lq7sBE1qa"
      },
      "source": [
        "**H0**: распределение является нормальным <br>\n",
        "**H1**: распределение не является нормальным"
      ]
    },
    {
      "cell_type": "code",
      "metadata": {
        "colab": {
          "base_uri": "https://localhost:8080/",
          "height": 355
        },
        "id": "Ef8B-Yl8gnRJ",
        "outputId": "ed9419b3-24c3-47f2-ccce-111d4fdd73ab"
      },
      "source": [
        "sns.set(rc={'figure.figsize':(20, 5)})\n",
        "fig, ax = plt.subplots(1, 2)\n",
        "\n",
        "sns.distplot(metric_group_a, fit=norm, ax=ax[0])\n",
        "ax[0].set_title('Group A Metric Values')\n",
        "sns.distplot(metric_group_b, fit=norm, ax=ax[1])\n",
        "ax[1].set_title('Group B Metric Values')\n",
        "\n",
        "fig.show()"
      ],
      "execution_count": null,
      "outputs": [
        {
          "output_type": "display_data",
          "data": {
            "image/png": "[encoded data removed]",
            "text/plain": [
              "<Figure size 1440x360 with 2 Axes>"
            ]
          },
          "metadata": {}
        }
      ]
    },
    {
      "cell_type": "code",
      "metadata": {
        "colab": {
          "base_uri": "https://localhost:8080/",
          "height": 577
        },
        "id": "fYAtAgJOcc9H",
        "outputId": "016dd3a3-b622-42a7-c44f-91af97235135"
      },
      "source": [
        "sns.set(rc={'figure.figsize':(10, 5)})\n",
        "\n",
        "tmp_a = pd.DataFrame(metric_group_a)\n",
        "pplot(tmp_a, x='metric_value', y=norm, kind='qq', height=4, aspect=2, \n",
        "      display_kws={'identity':True})\n",
        "\n",
        "tmp_b = pd.DataFrame(metric_group_b)\n",
        "pplot(tmp_b, x='metric_value', y=norm, kind='qq', height=4, aspect=2, \n",
        "      display_kws={'identity':True})\n",
        "\n",
        "plt.show()"
      ],
      "execution_count": null,
      "outputs": [
        {
          "output_type": "display_data",
          "data": {
            "image/png": "[encoded data removed]",
            "text/plain": [
              "<Figure size 576x288 with 1 Axes>"
            ]
          },
          "metadata": {}
        },
        {
          "output_type": "display_data",
          "data": {
            "image/png": "[encoded data removed]",
            "text/plain": [
              "<Figure size 576x288 with 1 Axes>"
            ]
          },
          "metadata": {}
        }
      ]
    },
    {
      "cell_type": "markdown",
      "metadata": {
        "id": "fw873xLsgIT8"
      },
      "source": [
        "Визуально распределения напоминают нормальные, но с небольшими отклонениями.<br>\n",
        "Проведем формальный тест, чтобы это доказать или опровергнуть."
      ]
    },
    {
      "cell_type": "markdown",
      "metadata": {
        "id": "G00j5AvqbfS8"
      },
      "source": [
        "Воспользуемся **критерием Колмогорова-Смирнова** для проверки распределений на нормальность. <br>\n",
        "Используем данный критерий, т.к. размеры наших выборок велики, а данный критерий как раз подходит для больших объемов выборок.<br>"
      ]
    },
    {
      "cell_type": "code",
      "source": [
        "# normal distributions with the parameters of our data\n",
        "\n",
        "loc_a, scale_a = metric_group_a.mean(), metric_group_a.std()\n",
        "loc_b, scale_b = metric_group_b.mean(), metric_group_b.std()\n",
        "\n",
        "norm_a = norm(loc=loc_a, scale=scale_a)\n",
        "norm_b = norm(loc=loc_b, scale=scale_b)"
      ],
      "metadata": {
        "id": "hVk9UUpp7mrX"
      },
      "execution_count": null,
      "outputs": []
    },
    {
      "cell_type": "code",
      "source": [
        "from scipy.stats import kstest\n",
        "\n",
        "alpha = 0.05\n",
        "\n",
        "p_value = kstest(metric_group_a, norm_a.cdf)[1]\n",
        "\n",
        "print('Distribution A is {}normal (p-value = {})'.\n",
        "      format({True:'not ', False:''}[p_value < alpha], \n",
        "             p_value))\n",
        "\n",
        "p_value = kstest(metric_group_b, norm_b.cdf)[1]\n",
        "\n",
        "print('Distribution B is {}normal (p-value = {})'.\n",
        "      format({True:'not ', False:''}[p_value < alpha], p_value))"
      ],
      "metadata": {
        "colab": {
          "base_uri": "https://localhost:8080/"
        },
        "id": "kfinj1up6W6B",
        "outputId": "0073276e-5902-4b7f-9eeb-e6526e71ce93"
      },
      "execution_count": null,
      "outputs": [
        {
          "output_type": "stream",
          "name": "stdout",
          "text": [
            "Distribution A is normal (p-value = 0.07205853374498336)\n",
            "Distribution B is not normal (p-value = 0.0013556382971441077)\n"
          ]
        }
      ]
    },
    {
      "cell_type": "markdown",
      "metadata": {
        "id": "W_RDNW-WGA8h"
      },
      "source": [
        "На основе полученных значений p-value мы можем **отвергнуть нулевую гипотезу о нормальном распределении для группы B** и **не можем отвергнуть ее для группы A**, т.е. распределение A соответсвует нормальному закону распределения, а распределение B - нет. "
      ]
    },
    {
      "cell_type": "markdown",
      "metadata": {
        "id": "IZ_ty7grGTwa"
      },
      "source": [
        "###Проверка равенства дисперсий"
      ]
    },
    {
      "cell_type": "markdown",
      "metadata": {
        "id": "7HFnSmf3Icg_"
      },
      "source": [
        "**H0**: Var(X1) = Var(X2) <br>\n",
        "**H1**: Var(X1) != Var(X2)"
      ]
    },
    {
      "cell_type": "markdown",
      "metadata": {
        "id": "o5sijihFIBEw"
      },
      "source": [
        "В качестве критерия однородности используем критерий Левена, т.к. он менее чувствителен к отклонению распределения от нормального, чем другие критерии однородности (такие как F-критерий Фишера или критерий Бартлетта)."
      ]
    },
    {
      "cell_type": "code",
      "metadata": {
        "colab": {
          "base_uri": "https://localhost:8080/"
        },
        "id": "wOFtEVgQ3gqU",
        "outputId": "96f12e57-fde0-41bd-f40b-4e62fcd5b511"
      },
      "source": [
        "from scipy.stats import levene\n",
        " \n",
        "alpha = 0.05 \n",
        "\n",
        "p_value = levene(metric_group_a, metric_group_b)[1] \n",
        "\n",
        "print('{} the H0: Var(X1) = Var(X2) (p-value = {})\\n'.\n",
        "      format({True:'Reject', False:'Confirm'}[p_value < alpha], p_value))"
      ],
      "execution_count": null,
      "outputs": [
        {
          "output_type": "stream",
          "name": "stdout",
          "text": [
            "Confirm the H0: Var(X1) = Var(X2) (p-value = 0.35494527384691044)\n",
            "\n"
          ]
        }
      ]
    },
    {
      "cell_type": "markdown",
      "metadata": {
        "id": "7jawrXUkde1K"
      },
      "source": [
        "На основании полученного значения p-value мы **не можем отвергнуть нулевую гипотезу H0** о равенстве дисперсий групп A и B."
      ]
    },
    {
      "cell_type": "markdown",
      "metadata": {
        "id": "OLocRTF5cc-A"
      },
      "source": [
        "###Проверка статистической значимости различий "
      ]
    },
    {
      "cell_type": "markdown",
      "metadata": {
        "id": "Git5KgBJdvHd"
      },
      "source": [
        "Воспользуемся **T-критерием Стьюдента для независимых выборок**. <br>\n",
        "Это параметрический критерий, т.е. требует соответствия распределения каждой выборки нормальному. Также требованием является равенство дисперсий. По результатам критерия Колмогорова-Смирнова мы получили, что одна из выборок не является нормально распределенной (p-value = 0.001), однако визуально (на графиках распределений и qq-plot) оба распределения похожи на нормальные.<br>"
      ]
    },
    {
      "cell_type": "code",
      "metadata": {
        "colab": {
          "base_uri": "https://localhost:8080/"
        },
        "id": "h07c0vld_rDr",
        "outputId": "a286fe3b-6e51-4d00-c9f4-fa0f4a8c7cbc"
      },
      "source": [
        "from scipy.stats import ttest_ind\n",
        "\n",
        "alpha = 0.05\n",
        "\n",
        "p_value = ttest_ind(metric_group_a, metric_group_b)[1]\n",
        " \n",
        "print('Diffs is {}significant (p-value = {})\\n'.\n",
        "      format({False:'not ', True:''}[p_value < alpha], p_value)) "
      ],
      "execution_count": null,
      "outputs": [
        {
          "output_type": "stream",
          "name": "stdout",
          "text": [
            "Diffs is significant (p-value = 5.219043548940759e-19)\n",
            "\n"
          ]
        }
      ]
    },
    {
      "cell_type": "markdown",
      "metadata": {
        "id": "vri3AWlaei7C"
      },
      "source": [
        "Мы **отвергаем нулевую гипотезу** и таким образом получаем, что между средними значениями metric_value для групп A и B действительно существуют значимые различия. <br><br>\n",
        "Средняя сумма целевых действий пользователей в экспериментальной группе больше по сравнению с контрольной, то есть **нововведение имело положительный эффект в плане увеличения среднего показателя metric_value**."
      ]
    },
    {
      "cell_type": "markdown",
      "metadata": {
        "id": "AmDRjCuVNKyA"
      },
      "source": [
        "<a name=\"sessions_num\"></a>\n",
        "#Среднее количество сессий"
      ]
    },
    {
      "cell_type": "markdown",
      "metadata": {
        "id": "Dlzhqp6wpLaA"
      },
      "source": [
        "**Нулевая гипотеза**: <br>\n",
        "H0 - различия в средних количествах сессий для групп A и B вызваны лишь случайными причинами <br>\n",
        "**Альтернативная гипотеза**: <br>\n",
        "H1 -  между средними количествами сессий для групп A и B действительно существуют значимые различия"
      ]
    },
    {
      "cell_type": "markdown",
      "metadata": {
        "id": "fhkGmzVdd5CF"
      },
      "source": [
        "Создадим в таблице дополнительную колонку с общим количеством сессий для каждого пользователя:"
      ]
    },
    {
      "cell_type": "code",
      "metadata": {
        "colab": {
          "base_uri": "https://localhost:8080/",
          "height": 206
        },
        "id": "Lpp1uWgpGmpn",
        "outputId": "ceb3fa7f-2797-4cae-d567-a88d66440078"
      },
      "source": [
        "users['total_visits'] = users['churn_visits'] + users['visits']\n",
        "users.head()"
      ],
      "execution_count": null,
      "outputs": [
        {
          "output_type": "execute_result",
          "data": {
            "text/html": [
              "\n",
              "  <div id=\"df-999e82a7-c9cb-4e49-855f-5bf1a1b83641\">\n",
              "    <div class=\"colab-df-container\">\n",
              "      <div>\n",
              "<style scoped>\n",
              "    .dataframe tbody tr th:only-of-type {\n",
              "        vertical-align: middle;\n",
              "    }\n",
              "\n",
              "    .dataframe tbody tr th {\n",
              "        vertical-align: top;\n",
              "    }\n",
              "\n",
              "    .dataframe thead th {\n",
              "        text-align: right;\n",
              "    }\n",
              "</style>\n",
              "<table border=\"1\" class=\"dataframe\">\n",
              "  <thead>\n",
              "    <tr style=\"text-align: right;\">\n",
              "      <th></th>\n",
              "      <th>group_id</th>\n",
              "      <th>metric_value</th>\n",
              "      <th>users</th>\n",
              "      <th>visits</th>\n",
              "      <th>churn_users</th>\n",
              "      <th>churn_visits</th>\n",
              "      <th>group</th>\n",
              "      <th>total_visits</th>\n",
              "    </tr>\n",
              "  </thead>\n",
              "  <tbody>\n",
              "    <tr>\n",
              "      <th>0</th>\n",
              "      <td>8</td>\n",
              "      <td>6630.000</td>\n",
              "      <td>0</td>\n",
              "      <td>0</td>\n",
              "      <td>0</td>\n",
              "      <td>8</td>\n",
              "      <td>A</td>\n",
              "      <td>8</td>\n",
              "    </tr>\n",
              "    <tr>\n",
              "      <th>1</th>\n",
              "      <td>13</td>\n",
              "      <td>6933.976</td>\n",
              "      <td>0</td>\n",
              "      <td>0</td>\n",
              "      <td>1</td>\n",
              "      <td>6</td>\n",
              "      <td>B</td>\n",
              "      <td>6</td>\n",
              "    </tr>\n",
              "    <tr>\n",
              "      <th>2</th>\n",
              "      <td>10</td>\n",
              "      <td>8261.976</td>\n",
              "      <td>1</td>\n",
              "      <td>10</td>\n",
              "      <td>1</td>\n",
              "      <td>8</td>\n",
              "      <td>B</td>\n",
              "      <td>18</td>\n",
              "    </tr>\n",
              "    <tr>\n",
              "      <th>3</th>\n",
              "      <td>4</td>\n",
              "      <td>5522.000</td>\n",
              "      <td>1</td>\n",
              "      <td>9</td>\n",
              "      <td>1</td>\n",
              "      <td>7</td>\n",
              "      <td>A</td>\n",
              "      <td>16</td>\n",
              "    </tr>\n",
              "    <tr>\n",
              "      <th>4</th>\n",
              "      <td>16</td>\n",
              "      <td>5075.976</td>\n",
              "      <td>1</td>\n",
              "      <td>6</td>\n",
              "      <td>0</td>\n",
              "      <td>8</td>\n",
              "      <td>B</td>\n",
              "      <td>14</td>\n",
              "    </tr>\n",
              "  </tbody>\n",
              "</table>\n",
              "</div>\n",
              "      <button class=\"colab-df-convert\" onclick=\"convertToInteractive('df-999e82a7-c9cb-4e49-855f-5bf1a1b83641')\"\n",
              "              title=\"Convert this dataframe to an interactive table.\"\n",
              "              style=\"display:none;\">\n",
              "        \n",
              "  <svg xmlns=\"http://www.w3.org/2000/svg\" height=\"24px\"viewBox=\"0 0 24 24\"\n",
              "       width=\"24px\">\n",
              "    <path d=\"M0 0h24v24H0V0z\" fill=\"none\"/>\n",
              "    <path d=\"M18.56 5.44l.94 2.06.94-2.06 2.06-.94-2.06-.94-.94-2.06-.94 2.06-2.06.94zm-11 1L8.5 8.5l.94-2.06 2.06-.94-2.06-.94L8.5 2.5l-.94 2.06-2.06.94zm10 10l.94 2.06.94-2.06 2.06-.94-2.06-.94-.94-2.06-.94 2.06-2.06.94z\"/><path d=\"M17.41 7.96l-1.37-1.37c-.4-.4-.92-.59-1.43-.59-.52 0-1.04.2-1.43.59L10.3 9.45l-7.72 7.72c-.78.78-.78 2.05 0 2.83L4 21.41c.39.39.9.59 1.41.59.51 0 1.02-.2 1.41-.59l7.78-7.78 2.81-2.81c.8-.78.8-2.07 0-2.86zM5.41 20L4 18.59l7.72-7.72 1.47 1.35L5.41 20z\"/>\n",
              "  </svg>\n",
              "      </button>\n",
              "      \n",
              "  <style>\n",
              "    .colab-df-container {\n",
              "      display:flex;\n",
              "      flex-wrap:wrap;\n",
              "      gap: 12px;\n",
              "    }\n",
              "\n",
              "    .colab-df-convert {\n",
              "      background-color: #E8F0FE;\n",
              "      border: none;\n",
              "      border-radius: 50%;\n",
              "      cursor: pointer;\n",
              "      display: none;\n",
              "      fill: #1967D2;\n",
              "      height: 32px;\n",
              "      padding: 0 0 0 0;\n",
              "      width: 32px;\n",
              "    }\n",
              "\n",
              "    .colab-df-convert:hover {\n",
              "      background-color: #E2EBFA;\n",
              "      box-shadow: 0px 1px 2px rgba(60, 64, 67, 0.3), 0px 1px 3px 1px rgba(60, 64, 67, 0.15);\n",
              "      fill: #174EA6;\n",
              "    }\n",
              "\n",
              "    [theme=dark] .colab-df-convert {\n",
              "      background-color: #3B4455;\n",
              "      fill: #D2E3FC;\n",
              "    }\n",
              "\n",
              "    [theme=dark] .colab-df-convert:hover {\n",
              "      background-color: #434B5C;\n",
              "      box-shadow: 0px 1px 3px 1px rgba(0, 0, 0, 0.15);\n",
              "      filter: drop-shadow(0px 1px 2px rgba(0, 0, 0, 0.3));\n",
              "      fill: #FFFFFF;\n",
              "    }\n",
              "  </style>\n",
              "\n",
              "      <script>\n",
              "        const buttonEl =\n",
              "          document.querySelector('#df-999e82a7-c9cb-4e49-855f-5bf1a1b83641 button.colab-df-convert');\n",
              "        buttonEl.style.display =\n",
              "          google.colab.kernel.accessAllowed ? 'block' : 'none';\n",
              "\n",
              "        async function convertToInteractive(key) {\n",
              "          const element = document.querySelector('#df-999e82a7-c9cb-4e49-855f-5bf1a1b83641');\n",
              "          const dataTable =\n",
              "            await google.colab.kernel.invokeFunction('convertToInteractive',\n",
              "                                                     [key], {});\n",
              "          if (!dataTable) return;\n",
              "\n",
              "          const docLinkHtml = 'Like what you see? Visit the ' +\n",
              "            '<a target=\"_blank\" href=https://colab.research.google.com/notebooks/data_table.ipynb>data table notebook</a>'\n",
              "            + ' to learn more about interactive tables.';\n",
              "          element.innerHTML = '';\n",
              "          dataTable['output_type'] = 'display_data';\n",
              "          await google.colab.output.renderOutput(dataTable, element);\n",
              "          const docLink = document.createElement('div');\n",
              "          docLink.innerHTML = docLinkHtml;\n",
              "          element.appendChild(docLink);\n",
              "        }\n",
              "      </script>\n",
              "    </div>\n",
              "  </div>\n",
              "  "
            ],
            "text/plain": [
              "   group_id  metric_value  users  ...  churn_visits  group  total_visits\n",
              "0         8      6630.000      0  ...             8      A             8\n",
              "1        13      6933.976      0  ...             6      B             6\n",
              "2        10      8261.976      1  ...             8      B            18\n",
              "3         4      5522.000      1  ...             7      A            16\n",
              "4        16      5075.976      1  ...             8      B            14\n",
              "\n",
              "[5 rows x 8 columns]"
            ]
          },
          "metadata": {},
          "execution_count": 24
        }
      ]
    },
    {
      "cell_type": "code",
      "metadata": {
        "id": "jFej7ttyUYZN"
      },
      "source": [
        "visits_group_a = users.loc[users['group'] == 'A']['total_visits']\n",
        "visits_group_b = users.loc[users['group'] == 'B']['total_visits']"
      ],
      "execution_count": null,
      "outputs": []
    },
    {
      "cell_type": "code",
      "metadata": {
        "colab": {
          "base_uri": "https://localhost:8080/"
        },
        "id": "VSrSJWOIv4xN",
        "outputId": "9742afde-55c9-4235-bccf-9650f55f734d"
      },
      "source": [
        "print('Group A Total Visits mean: ', visits_group_a.mean(), sep='')\n",
        "print('Group B Total Visits mean: ', visits_group_b.mean(), sep='')"
      ],
      "execution_count": null,
      "outputs": [
        {
          "output_type": "stream",
          "name": "stdout",
          "text": [
            "Group A Total Visits mean: 11.76907384740922\n",
            "Group B Total Visits mean: 11.53432718713221\n"
          ]
        }
      ]
    },
    {
      "cell_type": "code",
      "source": [
        "lift = (visits_group_b.mean() / visits_group_a.mean() - 1) * 100\n",
        "print('Lift: {:.2}%'.format(lift))"
      ],
      "metadata": {
        "colab": {
          "base_uri": "https://localhost:8080/"
        },
        "id": "ne4bdLdp52wH",
        "outputId": "486fe564-6d33-4efc-8c30-8e9f57410d37"
      },
      "execution_count": null,
      "outputs": [
        {
          "output_type": "stream",
          "name": "stdout",
          "text": [
            "Lift: -2.0%\n"
          ]
        }
      ]
    },
    {
      "cell_type": "markdown",
      "metadata": {
        "id": "Ru_w93ftsssU"
      },
      "source": [
        "Распределения total_visits для каждой из групп:"
      ]
    },
    {
      "cell_type": "code",
      "metadata": {
        "colab": {
          "base_uri": "https://localhost:8080/",
          "height": 339
        },
        "id": "cWbjXvLCbpoY",
        "outputId": "067fef76-9c28-4c6e-aa67-2dd415b0f207"
      },
      "source": [
        "sns.set_style(\"darkgrid\")\n",
        "sns.set(rc={'figure.figsize':(10, 5)})\n",
        "\n",
        "sns.histplot(data=users, x='total_visits', hue='group', binwidth=1)\n",
        "plt.show()"
      ],
      "execution_count": null,
      "outputs": [
        {
          "output_type": "display_data",
          "data": {
            "image/png": "[encoded data removed]",
            "text/plain": [
              "<Figure size 720x360 with 1 Axes>"
            ]
          },
          "metadata": {}
        }
      ]
    },
    {
      "cell_type": "markdown",
      "metadata": {
        "id": "VJFsOaogs-V8"
      },
      "source": [
        "Диаграммы размаха:"
      ]
    },
    {
      "cell_type": "code",
      "metadata": {
        "colab": {
          "base_uri": "https://localhost:8080/",
          "height": 339
        },
        "id": "A4CmDJOMtAi8",
        "outputId": "d13acd93-d0b3-42e8-9da6-563b77603494"
      },
      "source": [
        "sns.set(rc={'figure.figsize':(10, 5)})\n",
        "\n",
        "sns.boxplot(x='group', y='total_visits', data=users)\n",
        "plt.show()"
      ],
      "execution_count": null,
      "outputs": [
        {
          "output_type": "display_data",
          "data": {
            "image/png": "[encoded data removed]",
            "text/plain": [
              "<Figure size 720x360 with 1 Axes>"
            ]
          },
          "metadata": {}
        }
      ]
    },
    {
      "cell_type": "markdown",
      "metadata": {
        "id": "KlteA8tOq2WT"
      },
      "source": [
        "Распределения имеют длинные правые хвосты. В данном случае можно было бы использовать bootstrap для получения нормально распределенных данных, но воспользуемся им в следующем ДЗ, а пока применим обычные тесты проверки на нормальность, однородность дисперсий и равенство средних."
      ]
    },
    {
      "cell_type": "markdown",
      "metadata": {
        "id": "kXXomRHitXpM"
      },
      "source": [
        "###Проверка распределений на нормальность"
      ]
    },
    {
      "cell_type": "markdown",
      "metadata": {
        "id": "VHEpt7mXtvH_"
      },
      "source": [
        "**H0**: распределение является нормальным <br>\n",
        "**H1**: распределение не является нормальным"
      ]
    },
    {
      "cell_type": "code",
      "metadata": {
        "colab": {
          "base_uri": "https://localhost:8080/",
          "height": 580
        },
        "id": "U_Hsl7XCUVnr",
        "outputId": "31371bac-cd77-41d7-d00f-08e13b117157"
      },
      "source": [
        "tmp_a = pd.DataFrame(visits_group_a)\n",
        "pplot(tmp_a, x='total_visits', y=norm, kind='qq', height=4, aspect=2, display_kws={'identity':True})\n",
        "\n",
        "tmp_b = pd.DataFrame(visits_group_b)\n",
        "pplot(tmp_b, x='total_visits', y=norm, kind='qq', height=4, aspect=2, display_kws={'identity':True})\n",
        "\n",
        "plt.show()"
      ],
      "execution_count": null,
      "outputs": [
        {
          "output_type": "display_data",
          "data": {
            "image/png": "[encoded data removed]",
            "text/plain": [
              "<Figure size 576x288 with 1 Axes>"
            ]
          },
          "metadata": {}
        },
        {
          "output_type": "display_data",
          "data": {
            "image/png": "[encoded data removed]",
            "text/plain": [
              "<Figure size 576x288 with 1 Axes>"
            ]
          },
          "metadata": {}
        }
      ]
    },
    {
      "cell_type": "markdown",
      "metadata": {
        "id": "KZWF-NM6tzB4"
      },
      "source": [
        "Визуально распределения выглядят совсем не похожими на нормальные. Проведем формальный тест, чтобы убедиться в этом."
      ]
    },
    {
      "cell_type": "markdown",
      "metadata": {
        "id": "B1dMm1alt0W_"
      },
      "source": [
        "Воспользуемся **критерием Колмогорова-Смирнова** для проверки распределений на нормальность. <br>\n",
        "Используем данный критерий, т.к. размеры наших выборок велики, а данный критерий как раз подходит для больших объемов выборок.<br>"
      ]
    },
    {
      "cell_type": "code",
      "source": [
        "# normal distributions with the parameters of our data\n",
        "\n",
        "loc_a, scale_a = visits_group_a.mean(), visits_group_a.std()\n",
        "loc_b, scale_b = visits_group_b.mean(), visits_group_b.std()\n",
        "\n",
        "norm_a = norm(loc=loc_a, scale=scale_a)\n",
        "norm_b = norm(loc=loc_b, scale=scale_b)"
      ],
      "metadata": {
        "id": "TiUDpQn5JIkh"
      },
      "execution_count": null,
      "outputs": []
    },
    {
      "cell_type": "code",
      "metadata": {
        "colab": {
          "base_uri": "https://localhost:8080/"
        },
        "id": "VPTBeU6HUt0J",
        "outputId": "d40fd1a1-f905-4652-8d1d-8b0ebc166949"
      },
      "source": [
        "from scipy.stats import kstest\n",
        "\n",
        "alpha = 0.05\n",
        "\n",
        "p_value = kstest(visits_group_a, norm_a.cdf)[1]\n",
        "\n",
        "print('Distribution A is {}normal (p-value = {})'.\n",
        "      format({True:'not ', False:''}[p_value < alpha], \n",
        "             p_value))\n",
        "\n",
        "p_value = kstest(visits_group_b, norm_b.cdf)[1]\n",
        "\n",
        "print('Distribution B is {}normal (p-value = {})'.\n",
        "      format({True:'not ', False:''}[p_value < alpha],\n",
        "             p_value))"
      ],
      "execution_count": null,
      "outputs": [
        {
          "output_type": "stream",
          "name": "stdout",
          "text": [
            "Distribution A is not normal (p-value = 3.799587634898106e-136)\n",
            "Distribution B is not normal (p-value = 6.880740610047225e-136)\n"
          ]
        }
      ]
    },
    {
      "cell_type": "markdown",
      "metadata": {
        "id": "cOgFyurlt2Xx"
      },
      "source": [
        "Наши предположения оказались верны: **отвергаем нулевую гипотезу H0** о том, что распределение значений total_visits является нормальным (как для группы A, так и для группы B)."
      ]
    },
    {
      "cell_type": "markdown",
      "metadata": {
        "id": "NVsvoD6Su57o"
      },
      "source": [
        "###Проверка равенства дисперсий"
      ]
    },
    {
      "cell_type": "markdown",
      "metadata": {
        "id": "SFDfKi0Xu9E7"
      },
      "source": [
        "**H0**: Var(X1) = Var(X2) <br>\n",
        "**H1**: Var(X1) != Var(X2)"
      ]
    },
    {
      "cell_type": "markdown",
      "metadata": {
        "id": "e4FSEEeSu_NJ"
      },
      "source": [
        "В качестве критерия однородности используем **критерий Левена**, т.к. он менее чувствителен к отклонению распределения от нормального, чем другие критерии однородности (такие как F-критерий Фишера и критерий Бартлетта)."
      ]
    },
    {
      "cell_type": "code",
      "metadata": {
        "colab": {
          "base_uri": "https://localhost:8080/"
        },
        "id": "NF1W6a1FvIdK",
        "outputId": "149e0f6d-4844-4f31-8fbb-116ee4d3aeeb"
      },
      "source": [
        "from scipy.stats import levene\n",
        " \n",
        "alpha = 0.05 \n",
        "\n",
        "p_value = levene(visits_group_a, visits_group_b)[1]\n",
        "\n",
        "print('{} the H0: Var(X1) = Var(X2) (p-value = {})\\n'.\n",
        "      format({True:'Reject', False:'Confirm'}[p_value < alpha],\n",
        "             p_value))"
      ],
      "execution_count": null,
      "outputs": [
        {
          "output_type": "stream",
          "name": "stdout",
          "text": [
            "Confirm the H0: Var(X1) = Var(X2) (p-value = 0.29144064110820345)\n",
            "\n"
          ]
        }
      ]
    },
    {
      "cell_type": "markdown",
      "metadata": {
        "id": "nlp-WxmIvDRK"
      },
      "source": [
        "На основании полученного значения p-value мы **не можем отвергнуть нулевую гипотезу H0** о равенстве дисперсий групп A и B."
      ]
    },
    {
      "cell_type": "markdown",
      "metadata": {
        "id": "zQIK6j0TvFJR"
      },
      "source": [
        "###Проверка статистической значимости различий "
      ]
    },
    {
      "cell_type": "markdown",
      "metadata": {
        "id": "O7hLniaAvKn4"
      },
      "source": [
        "Воспользуемся **U-критерием Манна-Уитни**. <br>\n",
        "Он представляет непараметрическую альтернативу t-критерия для независимых выборок. Преимущество его состоит в том, что мы отказываемся от предположения нормальности распределения и одинаковых дисперсий. Кроме того, критерий Манна-Уитни использует сравнение рангов (номеров наблюдения в упорядоченной выборке), что позволяет ему быть устойчивым к выбросам."
      ]
    },
    {
      "cell_type": "code",
      "metadata": {
        "colab": {
          "base_uri": "https://localhost:8080/"
        },
        "id": "_8uqLr13KHx2",
        "outputId": "5eb869c7-2d9d-4cff-aca9-8a2c703599be"
      },
      "source": [
        "from scipy.stats import mannwhitneyu\n",
        "\n",
        "alpha = 0.05\n",
        "\n",
        "p_value = mannwhitneyu(visits_group_a, visits_group_b)[1]\n",
        " \n",
        "print('Diffs is {}significant (p-value = {})'.\n",
        "      format({False:'not ', True:''}[p_value < alpha],\n",
        "             p_value)) "
      ],
      "execution_count": null,
      "outputs": [
        {
          "output_type": "stream",
          "name": "stdout",
          "text": [
            "Diffs is not significant (p-value = 0.4371611619684009)\n"
          ]
        }
      ]
    },
    {
      "cell_type": "markdown",
      "metadata": {
        "id": "NracXoryvMEU"
      },
      "source": [
        "Мы **не можем отвергнуть нулевую гипотезу**, следовательно, различия в средних количествах сессий для групп A и B вызваны лишь случайными причинами и статистически не значимы.<br><br>\n",
        "Это значит, что **нововведение не оказало существенного влияния на среднее количество сессий пользователей**."
      ]
    },
    {
      "cell_type": "markdown",
      "metadata": {
        "id": "sLv-ayFX3WOT"
      },
      "source": [
        "<a name=\"churn_ratio\"></a>\n",
        "#Отток пользователей"
      ]
    },
    {
      "cell_type": "markdown",
      "metadata": {
        "id": "QaYuJ8bFeNSK"
      },
      "source": [
        "**Нулевая гипотеза**: <br>\n",
        "H0 - различия в долях ушедших пользователей для групп A и B вызваны лишь случайными причинами <br>\n",
        "**Альтернативная гипотеза**: <br>\n",
        "H1 -  между долями ушедших пользователей для групп A и B действительно существуют значимые различия"
      ]
    },
    {
      "cell_type": "code",
      "metadata": {
        "colab": {
          "base_uri": "https://localhost:8080/",
          "height": 206
        },
        "id": "ndKanEbvMkvx",
        "outputId": "66fedb1d-76aa-4bd3-f957-c4f698bf0479"
      },
      "source": [
        "users.head()"
      ],
      "execution_count": null,
      "outputs": [
        {
          "output_type": "execute_result",
          "data": {
            "text/html": [
              "\n",
              "  <div id=\"df-f6a7efc7-39a8-4edc-9bb6-c7378688d663\">\n",
              "    <div class=\"colab-df-container\">\n",
              "      <div>\n",
              "<style scoped>\n",
              "    .dataframe tbody tr th:only-of-type {\n",
              "        vertical-align: middle;\n",
              "    }\n",
              "\n",
              "    .dataframe tbody tr th {\n",
              "        vertical-align: top;\n",
              "    }\n",
              "\n",
              "    .dataframe thead th {\n",
              "        text-align: right;\n",
              "    }\n",
              "</style>\n",
              "<table border=\"1\" class=\"dataframe\">\n",
              "  <thead>\n",
              "    <tr style=\"text-align: right;\">\n",
              "      <th></th>\n",
              "      <th>group_id</th>\n",
              "      <th>metric_value</th>\n",
              "      <th>users</th>\n",
              "      <th>visits</th>\n",
              "      <th>churn_users</th>\n",
              "      <th>churn_visits</th>\n",
              "      <th>group</th>\n",
              "      <th>total_visits</th>\n",
              "    </tr>\n",
              "  </thead>\n",
              "  <tbody>\n",
              "    <tr>\n",
              "      <th>0</th>\n",
              "      <td>8</td>\n",
              "      <td>6630.000</td>\n",
              "      <td>0</td>\n",
              "      <td>0</td>\n",
              "      <td>0</td>\n",
              "      <td>8</td>\n",
              "      <td>A</td>\n",
              "      <td>8</td>\n",
              "    </tr>\n",
              "    <tr>\n",
              "      <th>1</th>\n",
              "      <td>13</td>\n",
              "      <td>6933.976</td>\n",
              "      <td>0</td>\n",
              "      <td>0</td>\n",
              "      <td>1</td>\n",
              "      <td>6</td>\n",
              "      <td>B</td>\n",
              "      <td>6</td>\n",
              "    </tr>\n",
              "    <tr>\n",
              "      <th>2</th>\n",
              "      <td>10</td>\n",
              "      <td>8261.976</td>\n",
              "      <td>1</td>\n",
              "      <td>10</td>\n",
              "      <td>1</td>\n",
              "      <td>8</td>\n",
              "      <td>B</td>\n",
              "      <td>18</td>\n",
              "    </tr>\n",
              "    <tr>\n",
              "      <th>3</th>\n",
              "      <td>4</td>\n",
              "      <td>5522.000</td>\n",
              "      <td>1</td>\n",
              "      <td>9</td>\n",
              "      <td>1</td>\n",
              "      <td>7</td>\n",
              "      <td>A</td>\n",
              "      <td>16</td>\n",
              "    </tr>\n",
              "    <tr>\n",
              "      <th>4</th>\n",
              "      <td>16</td>\n",
              "      <td>5075.976</td>\n",
              "      <td>1</td>\n",
              "      <td>6</td>\n",
              "      <td>0</td>\n",
              "      <td>8</td>\n",
              "      <td>B</td>\n",
              "      <td>14</td>\n",
              "    </tr>\n",
              "  </tbody>\n",
              "</table>\n",
              "</div>\n",
              "      <button class=\"colab-df-convert\" onclick=\"convertToInteractive('df-f6a7efc7-39a8-4edc-9bb6-c7378688d663')\"\n",
              "              title=\"Convert this dataframe to an interactive table.\"\n",
              "              style=\"display:none;\">\n",
              "        \n",
              "  <svg xmlns=\"http://www.w3.org/2000/svg\" height=\"24px\"viewBox=\"0 0 24 24\"\n",
              "       width=\"24px\">\n",
              "    <path d=\"M0 0h24v24H0V0z\" fill=\"none\"/>\n",
              "    <path d=\"M18.56 5.44l.94 2.06.94-2.06 2.06-.94-2.06-.94-.94-2.06-.94 2.06-2.06.94zm-11 1L8.5 8.5l.94-2.06 2.06-.94-2.06-.94L8.5 2.5l-.94 2.06-2.06.94zm10 10l.94 2.06.94-2.06 2.06-.94-2.06-.94-.94-2.06-.94 2.06-2.06.94z\"/><path d=\"M17.41 7.96l-1.37-1.37c-.4-.4-.92-.59-1.43-.59-.52 0-1.04.2-1.43.59L10.3 9.45l-7.72 7.72c-.78.78-.78 2.05 0 2.83L4 21.41c.39.39.9.59 1.41.59.51 0 1.02-.2 1.41-.59l7.78-7.78 2.81-2.81c.8-.78.8-2.07 0-2.86zM5.41 20L4 18.59l7.72-7.72 1.47 1.35L5.41 20z\"/>\n",
              "  </svg>\n",
              "      </button>\n",
              "      \n",
              "  <style>\n",
              "    .colab-df-container {\n",
              "      display:flex;\n",
              "      flex-wrap:wrap;\n",
              "      gap: 12px;\n",
              "    }\n",
              "\n",
              "    .colab-df-convert {\n",
              "      background-color: #E8F0FE;\n",
              "      border: none;\n",
              "      border-radius: 50%;\n",
              "      cursor: pointer;\n",
              "      display: none;\n",
              "      fill: #1967D2;\n",
              "      height: 32px;\n",
              "      padding: 0 0 0 0;\n",
              "      width: 32px;\n",
              "    }\n",
              "\n",
              "    .colab-df-convert:hover {\n",
              "      background-color: #E2EBFA;\n",
              "      box-shadow: 0px 1px 2px rgba(60, 64, 67, 0.3), 0px 1px 3px 1px rgba(60, 64, 67, 0.15);\n",
              "      fill: #174EA6;\n",
              "    }\n",
              "\n",
              "    [theme=dark] .colab-df-convert {\n",
              "      background-color: #3B4455;\n",
              "      fill: #D2E3FC;\n",
              "    }\n",
              "\n",
              "    [theme=dark] .colab-df-convert:hover {\n",
              "      background-color: #434B5C;\n",
              "      box-shadow: 0px 1px 3px 1px rgba(0, 0, 0, 0.15);\n",
              "      filter: drop-shadow(0px 1px 2px rgba(0, 0, 0, 0.3));\n",
              "      fill: #FFFFFF;\n",
              "    }\n",
              "  </style>\n",
              "\n",
              "      <script>\n",
              "        const buttonEl =\n",
              "          document.querySelector('#df-f6a7efc7-39a8-4edc-9bb6-c7378688d663 button.colab-df-convert');\n",
              "        buttonEl.style.display =\n",
              "          google.colab.kernel.accessAllowed ? 'block' : 'none';\n",
              "\n",
              "        async function convertToInteractive(key) {\n",
              "          const element = document.querySelector('#df-f6a7efc7-39a8-4edc-9bb6-c7378688d663');\n",
              "          const dataTable =\n",
              "            await google.colab.kernel.invokeFunction('convertToInteractive',\n",
              "                                                     [key], {});\n",
              "          if (!dataTable) return;\n",
              "\n",
              "          const docLinkHtml = 'Like what you see? Visit the ' +\n",
              "            '<a target=\"_blank\" href=https://colab.research.google.com/notebooks/data_table.ipynb>data table notebook</a>'\n",
              "            + ' to learn more about interactive tables.';\n",
              "          element.innerHTML = '';\n",
              "          dataTable['output_type'] = 'display_data';\n",
              "          await google.colab.output.renderOutput(dataTable, element);\n",
              "          const docLink = document.createElement('div');\n",
              "          docLink.innerHTML = docLinkHtml;\n",
              "          element.appendChild(docLink);\n",
              "        }\n",
              "      </script>\n",
              "    </div>\n",
              "  </div>\n",
              "  "
            ],
            "text/plain": [
              "   group_id  metric_value  users  ...  churn_visits  group  total_visits\n",
              "0         8      6630.000      0  ...             8      A             8\n",
              "1        13      6933.976      0  ...             6      B             6\n",
              "2        10      8261.976      1  ...             8      B            18\n",
              "3         4      5522.000      1  ...             7      A            16\n",
              "4        16      5075.976      1  ...             8      B            14\n",
              "\n",
              "[5 rows x 8 columns]"
            ]
          },
          "metadata": {},
          "execution_count": 34
        }
      ]
    },
    {
      "cell_type": "code",
      "metadata": {
        "colab": {
          "base_uri": "https://localhost:8080/",
          "height": 339
        },
        "id": "4tdZZSUZM32Z",
        "outputId": "563a8290-546b-4680-8685-6bef852bb7df"
      },
      "source": [
        "sns.set_style(\"darkgrid\")\n",
        "sns.set(rc={'figure.figsize':(10, 5)})\n",
        "\n",
        "sns.histplot(data=users, x='churn_users', hue='group', bins=2)\n",
        "plt.show()"
      ],
      "execution_count": null,
      "outputs": [
        {
          "output_type": "display_data",
          "data": {
            "image/png": "[encoded data removed]",
            "text/plain": [
              "<Figure size 720x360 with 1 Axes>"
            ]
          },
          "metadata": {}
        }
      ]
    },
    {
      "cell_type": "markdown",
      "metadata": {
        "id": "ieRwRvZoOooK"
      },
      "source": [
        "Распределение значений churn_users имеет вид распределения Бернулли<br>\n",
        "Справка: случайная величина X имеет распределение Бернулли, если она принимает всего два значения: 1 и 0 с вероятностями p и q = 1-p соответственно."
      ]
    },
    {
      "cell_type": "markdown",
      "metadata": {
        "id": "yZ98Jv91ZbxT"
      },
      "source": [
        "Для оценки значимости различий будем использовать **two-proportion z-test**, с помощью которого можно определить, существуют ли различия между долями успеха в двух группах. В библиотеке statsmodels есть специальная функция для вычисления статистики и p-value данного теста: statsmodels.stats.proportion.proportions_ztest. Воспользуемся ей."
      ]
    },
    {
      "cell_type": "code",
      "metadata": {
        "colab": {
          "base_uri": "https://localhost:8080/"
        },
        "id": "mKxReR1qgpux",
        "outputId": "8ea08690-44c1-44aa-8407-5ffdd574b4e5"
      },
      "source": [
        "churn_users_a = users.loc[users['group'] == 'A']['churn_users'].sum()\n",
        "churn_users_b = users.loc[users['group'] == 'B']['churn_users'].sum()\n",
        "\n",
        "print('Group A churn users: ', churn_users_a, sep='')\n",
        "print('Group B churn users: ', churn_users_b, sep='')"
      ],
      "execution_count": null,
      "outputs": [
        {
          "output_type": "stream",
          "name": "stdout",
          "text": [
            "Group A churn users: 1234\n",
            "Group B churn users: 2004\n"
          ]
        }
      ]
    },
    {
      "cell_type": "code",
      "metadata": {
        "colab": {
          "base_uri": "https://localhost:8080/"
        },
        "id": "dMCe7-GTcmJj",
        "outputId": "64536004-3078-4730-f07e-ea2b1ddff92e"
      },
      "source": [
        "size_a = users.loc[users['group'] == 'A'].shape[0]\n",
        "size_b = users.loc[users['group'] == 'B'].shape[0]\n",
        "\n",
        "print('Group A size: ', size_a, sep='')\n",
        "print('Group B size: ', size_b, sep='')"
      ],
      "execution_count": null,
      "outputs": [
        {
          "output_type": "stream",
          "name": "stdout",
          "text": [
            "Group A size: 2451\n",
            "Group B size: 2549\n"
          ]
        }
      ]
    },
    {
      "cell_type": "code",
      "metadata": {
        "colab": {
          "base_uri": "https://localhost:8080/"
        },
        "id": "bYvMZ9izhtl6",
        "outputId": "1116e5f6-d635-492f-9ba8-ba5bc8e967c6"
      },
      "source": [
        "print('Group A churn percentage: {:.2f}%'.format(churn_users_a / size_a * 100))\n",
        "print('Group B churn percentage: {:.2f}%'.format(churn_users_b / size_b * 100))"
      ],
      "execution_count": null,
      "outputs": [
        {
          "output_type": "stream",
          "name": "stdout",
          "text": [
            "Group A churn percentage: 50.35%\n",
            "Group B churn percentage: 78.62%\n"
          ]
        }
      ]
    },
    {
      "cell_type": "code",
      "metadata": {
        "colab": {
          "base_uri": "https://localhost:8080/"
        },
        "id": "8pHahEIQXWM_",
        "outputId": "b6f1a76b-b756-4658-8226-e35d725ba363"
      },
      "source": [
        "from statsmodels.stats.proportion import proportions_ztest\n",
        "\n",
        "alpha = 0.05\n",
        "\n",
        "p_value = proportions_ztest(count=[churn_users_a, churn_users_b], \n",
        "                            nobs=[size_a, size_b])[1]\n",
        " \n",
        "print('Diffs is {}significant (p-value = {})'.\n",
        "      format({False:'not ', True:''}[p_value < alpha], p_value)) "
      ],
      "execution_count": null,
      "outputs": [
        {
          "output_type": "stream",
          "name": "stdout",
          "text": [
            "Diffs is significant (p-value = 3.524034717373751e-97)\n"
          ]
        }
      ]
    },
    {
      "cell_type": "markdown",
      "metadata": {
        "id": "6akt680UeVvJ"
      },
      "source": [
        "Мы **отвергаем нулевую гипотезу** и таким образом получаем, что между долями ушедших пользователей для групп A и B действительно существуют значимые различия. <br><br>\n",
        "Отток пользователей увеличился, то есть **нововведение оказало негативный эффект на обычный пользовательский поток: больше пользователей стало уходить**."
      ]
    },
    {
      "cell_type": "markdown",
      "metadata": {
        "id": "z9ePpRNk2pjt"
      },
      "source": [
        "<a name=\"sample_size\"></a>\n",
        "#Расчет необходимого объема выборок"
      ]
    },
    {
      "cell_type": "markdown",
      "metadata": {
        "id": "jNBHFDohEli2"
      },
      "source": [
        "Метрика \"Среднее значение metric_value\""
      ]
    },
    {
      "cell_type": "markdown",
      "metadata": {
        "id": "rZ4a7_1QWt_b"
      },
      "source": [
        "\n",
        "Для определения требуемого объема выборки нам необходимы такие показатели как размер эффекта, статистическая значимость, статистическая мощность. "
      ]
    },
    {
      "cell_type": "markdown",
      "metadata": {
        "id": "T0ryLsQDa0vh"
      },
      "source": [
        "Размер эффекта (Cohen's d) вычисляется по следующей формуле: <br>\n",
        "mde = (mean_2 - mean_1) / std <br>\n",
        "По формуле вычисляем размер эффекта на наших данных, а с помощью функции statsmodels.stats.power.TTestIndPower.solve_power() вычисляем требуемый размер выборки (берем статистическую значимость = 0.05 и статистическую мощность = 0.8, а соотношение размеров выборок = 1)"
      ]
    },
    {
      "cell_type": "code",
      "metadata": {
        "colab": {
          "base_uri": "https://localhost:8080/"
        },
        "id": "IrP7NPwsSLgB",
        "outputId": "41b17e61-6e65-416a-9333-ad2f6b65c07f"
      },
      "source": [
        "from statsmodels.stats.power import TTestIndPower\n",
        "\n",
        "effect = abs((metric_group_b.mean() - metric_group_a.mean()) / \n",
        "              metric_group_a.std())\n",
        "alpha = 0.05\n",
        "power = 0.8\n",
        "ratio = 1\n",
        "\n",
        "analysis = TTestIndPower()\n",
        "result = analysis.solve_power(effect, power=power, ratio=ratio, alpha=alpha)\n",
        "\n",
        "print('Effect Size: %.3f' % effect)\n",
        "print('Required Sample Size: %.3f' % result)"
      ],
      "execution_count": null,
      "outputs": [
        {
          "output_type": "stream",
          "name": "stdout",
          "text": [
            "Effect Size: 0.254\n",
            "Required Sample Size: 244.883\n"
          ]
        }
      ]
    },
    {
      "cell_type": "markdown",
      "source": [
        "Для обнаружения эффекта 0.25 достаточно объема выборки около 250, что в 10 раз меньше нашего объема. При объеме ~2500 с большой мощностью можно обнаружить даже меньший эффект: 0.1 (см. график \"Power of test\" ниже). "
      ],
      "metadata": {
        "id": "ZfDxGSKN1O6T"
      }
    },
    {
      "cell_type": "markdown",
      "source": [
        "Метрика \"Среднее количество сессий\""
      ],
      "metadata": {
        "id": "ddM87Fuj1MSN"
      }
    },
    {
      "cell_type": "code",
      "source": [
        "effect = abs((visits_group_b.mean() - visits_group_a.mean()) / \n",
        "              visits_group_a.std())\n",
        "alpha = 0.05\n",
        "power = 0.8\n",
        "ratio = 1\n",
        "\n",
        "analysis = TTestIndPower()\n",
        "result = analysis.solve_power(effect, power=power, ratio=ratio, alpha=alpha)\n",
        "\n",
        "print('Effect Size: %.3f' % effect)\n",
        "print('Required Sample Size: %.3f' % result)"
      ],
      "metadata": {
        "colab": {
          "base_uri": "https://localhost:8080/"
        },
        "id": "LBt7eKOI1VZd",
        "outputId": "98069c24-035f-4c89-bdca-228ecfab65dd"
      },
      "execution_count": null,
      "outputs": [
        {
          "output_type": "stream",
          "name": "stdout",
          "text": [
            "Effect Size: 0.026\n",
            "Required Sample Size: 22974.647\n"
          ]
        }
      ]
    },
    {
      "cell_type": "markdown",
      "source": [
        "Для обнаружения эффекта 0.026 необходимый размер выборки составляет ~23 000, что в несколько раз больше наших объемов выборок. Значит, мы могли не обнаружить статистическую значимость различий в средних количествах сессий из-за недостаточных размеров выборок. <br>\n",
        "Мы могли бы произвести донабор пользователей (размеры DAU и WAU позволяют это сделать), но тогда пришлось бы продлить тест. <br>\n",
        "Уменьшение среднего количества сессий в тестовой группе по сравнению с контрольной мало: ~2%, и донабор пользователей вместе с продлением теста может обойтись дороже, чем эти 2%, статистическую значимость которых мы стремимся обнаружить. Поэтому увеличивать выборки и продлевать тест стоит, только если количество сессий - очень важная метрика для нашей компании"
      ],
      "metadata": {
        "id": "pgzyglhe2Rdz"
      }
    },
    {
      "cell_type": "markdown",
      "metadata": {
        "id": "1gMzpWKidRxG"
      },
      "source": [
        "Ниже приводится зависимость требуемого размера выборки от ожидаемого эффекта"
      ]
    },
    {
      "cell_type": "code",
      "metadata": {
        "colab": {
          "base_uri": "https://localhost:8080/"
        },
        "id": "fUdUtJeOk3ay",
        "outputId": "3f37e7ea-3f39-4562-be1f-85b7624401c5"
      },
      "source": [
        "from statsmodels.stats.power import TTestIndPower\n",
        "\n",
        "effect = [0.01, 0.02, 0.05, 0.08, 0.1, 0.2, 0.3, 0.4, 0.5, 0.6, 0.7, 0.8]\n",
        "alpha = 0.05\n",
        "power = 0.8\n",
        "ratio = 1\n",
        "\n",
        "analysis = TTestIndPower()\n",
        "\n",
        "print('|----------------|----------------------|')\n",
        "print('| Effect Size    | Required Sample Size |')\n",
        "print('|----------------|----------------------|')\n",
        "\n",
        "for eff in effect:\n",
        "  result = analysis.solve_power(eff, power=power, ratio=ratio, alpha=alpha)\n",
        "  print('| {:<15.2f}|'.format(eff), end='')\n",
        "  print(' {:<21.2f}|'.format(result))\n",
        "\n",
        "print('|----------------|----------------------|')"
      ],
      "execution_count": null,
      "outputs": [
        {
          "output_type": "stream",
          "name": "stdout",
          "text": [
            "|----------------|----------------------|\n",
            "| Effect Size    | Required Sample Size |\n",
            "|----------------|----------------------|\n",
            "| 0.01           | 156978.17            |\n",
            "| 0.02           | 39245.26             |\n",
            "| 0.05           | 6280.05              |\n",
            "| 0.08           | 2453.73              |\n",
            "| 0.10           | 1570.73              |\n",
            "| 0.20           | 393.41               |\n",
            "| 0.30           | 175.38               |\n",
            "| 0.40           | 99.08                |\n",
            "| 0.50           | 63.77                |\n",
            "| 0.60           | 44.59                |\n",
            "| 0.70           | 33.02                |\n",
            "| 0.80           | 25.52                |\n",
            "|----------------|----------------------|\n"
          ]
        }
      ]
    },
    {
      "cell_type": "code",
      "metadata": {
        "colab": {
          "base_uri": "https://localhost:8080/",
          "height": 355
        },
        "id": "jfVum0IEdxTU",
        "outputId": "c17f9723-d9b8-4f4d-d713-2245ae7022da"
      },
      "source": [
        "from statsmodels.stats.power import TTestIndPower\n",
        "\n",
        "analysis = TTestIndPower()\n",
        "analysis.plot_power(nobs=np.arange(5, 2500), \n",
        "                    effect_size=np.array([0.01, 0.05, 0.1, 0.2, 0.5, 0.8])) \n",
        "plt.show()"
      ],
      "execution_count": null,
      "outputs": [
        {
          "output_type": "display_data",
          "data": {
            "image/png": "[encoded data removed]",
            "text/plain": [
              "<Figure size 720x360 with 1 Axes>"
            ]
          },
          "metadata": {}
        }
      ]
    },
    {
      "cell_type": "markdown",
      "metadata": {
        "id": "hdrj1KXBFmPh"
      },
      "source": [
        "Метрика \"Отток пользователей\""
      ]
    },
    {
      "cell_type": "markdown",
      "metadata": {
        "id": "xn0uJzMUdzBX"
      },
      "source": [
        "Для вычисления требуемого объема выборки при распределении Бернулли воспользуемся формулой <br>\n",
        "n = (z_half_alpha + z_beta)^2 * (p1(1-p1) + p2(1-p2)) / (p1-p2)^2 <br>\n",
        "**Source**: *Wang, H. and Chow, S.-C. 2007. Sample Size Calculation for Comparing Proportions. Wiley Encyclopedia of Clinical Trials*, pages 3-4, 3.1 Test for Equality."
      ]
    },
    {
      "cell_type": "code",
      "metadata": {
        "colab": {
          "base_uri": "https://localhost:8080/"
        },
        "id": "33Poc3WFRcea",
        "outputId": "ce8ae375-ca54-4226-a47c-842d8e998bd6"
      },
      "source": [
        "import statsmodels.stats.api as sms\n",
        "import statsmodels.api as sm\n",
        "import scipy.stats as st\n",
        "\n",
        "def sample_size_two_proportions(alpha, power, p1, p2):\n",
        "\n",
        "  z_half_alpha = st.norm.ppf((1 - alpha) + alpha / 2)\n",
        "  z_beta = st.norm.ppf(power)\n",
        "  n = ((z_half_alpha + z_beta)**2 * \n",
        "       (p1 * (1 - p1) + p2 * (1 - p2)) / (p1 - p2)**2)\n",
        "  \n",
        "  return n\n",
        "\n",
        "effect = abs(sm.stats.proportion_effectsize(churn_users_a / size_a, \n",
        "                                            churn_users_b / size_b))\n",
        "alpha = 0.05\n",
        "power = 0.8\n",
        "\n",
        "res = sample_size_two_proportions(alpha, power, churn_users_a / size_a, \n",
        "                                  churn_users_b / size_b)\n",
        "print('Effect Size: %.3f' % effect)\n",
        "print('Required Sample Size: %.3f' % res)"
      ],
      "execution_count": null,
      "outputs": [
        {
          "output_type": "stream",
          "name": "stdout",
          "text": [
            "Effect Size: 0.602\n",
            "Required Sample Size: 41.053\n"
          ]
        }
      ]
    },
    {
      "cell_type": "markdown",
      "metadata": {
        "id": "R88z65udn7OD"
      },
      "source": [
        "Требуемый размер намного меньше размеров наших выборок."
      ]
    },
    {
      "cell_type": "markdown",
      "metadata": {
        "id": "rZTDw-4FsX-f"
      },
      "source": [
        "<a name=\"conclusion\"></a>\n",
        "#Общий вывод "
      ]
    },
    {
      "cell_type": "markdown",
      "metadata": {
        "id": "G971vFm3k4-s"
      },
      "source": [
        "Позитивный эффект нововведения: увеличение среднего показателя metric_value. <br>\n",
        "Негативный эффект нововведения: значительно больший отток пользователей.<br>\n",
        "Не изменилось: среднее количество сессий пользователей.<br><br>\n",
        "\n",
        "A/B тест показал статистически значимые изменения по двум метрикам из трех. Как мы увидели выше, невозможность обнаружить статистически значимые различия для третьей метрики может быть обусловлена недостаточными объемами выборок. Если метрика \"среднее количество сессий\" пользователей действительно важна для компании, и даже небольшой процент изменения (2%) окажет влияние на принятие решения о дальнейшей судьбе нововведения, стоит раскатить тест на больший процент пользователей и продлить тест для сбора данных об этих пользователях. Однако для этого потребуются дополнительные ресурсы (как временные, так и в плане объемов, т.к. нам нужны большие выборки: порядка 23 000 пользователей в каждой).<br>\n",
        "Если же для компании гораздо более важны первые две метрики или 2%, статистическую значимость которых мы стремимся обнаружить, не выглядят достаточным основанием для затраты дополнительных ресурсов на A/B тест, эксперимент можно завершать и принимать решение на основе полученных результатов."
      ]
    }
  ]
}