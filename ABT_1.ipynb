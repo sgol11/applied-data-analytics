{
  "nbformat": 4,
  "nbformat_minor": 0,
  "metadata": {
    "colab": {
      "name": "ABT-1.ipynb",
      "provenance": [],
      "collapsed_sections": []
    },
    "kernelspec": {
      "name": "python3",
      "display_name": "Python 3"
    },
    "language_info": {
      "name": "python"
    }
  },
  "cells": [
    {
      "cell_type": "markdown",
      "metadata": {
        "id": "Ebm9W6sPZLph"
      },
      "source": [
        "# ABT-1\n",
        "# Расчёт метрик математической статистики\n",
        "\n",
        "Выполнила: Голикова Софья"
      ]
    },
    {
      "cell_type": "markdown",
      "metadata": {
        "id": "1BZHy7DRttGk"
      },
      "source": [
        "1. [Распределение и его вид](#distribution)\n",
        "2. [Описательные статистики](#descriptive_statistics)\n",
        "    1. [Среднее арифметическое](#mean)\n",
        "    2. [Медиана](#median)\n",
        "    3. [Частота, с которой встречаются значения. Мода](#mode)\n",
        "    4. [Размах](#range)\n",
        "    5. [Межквартильный размах](#iqr)\n",
        "    6. [Дисперсия](#variance)\n",
        "    7. [Стандартное отклонение](#std)"
      ]
    },
    {
      "cell_type": "code",
      "metadata": {
        "id": "Joxc1sOU6_IJ"
      },
      "source": [
        "import numpy as np\n",
        "import pandas as pd\n",
        "import matplotlib.pyplot as plt "
      ],
      "execution_count": null,
      "outputs": []
    },
    {
      "cell_type": "markdown",
      "metadata": {
        "id": "OXvKZewksZGa"
      },
      "source": [
        "<a name=\"distribution\"></a>\n",
        "## Распределение и его вид"
      ]
    },
    {
      "cell_type": "code",
      "metadata": {
        "id": "1KZFyYUb72fy"
      },
      "source": [
        "np.random.seed()\n",
        "\n",
        "# generate 1000 integer values in the range [5, 105)\n",
        "random_values = np.random.randint(low=5, high=105, size=1000)\n",
        "\n",
        "series = pd.Series(data=random_values)"
      ],
      "execution_count": null,
      "outputs": []
    },
    {
      "cell_type": "markdown",
      "metadata": {
        "id": "FVRjCdw4Z2Fp"
      },
      "source": [
        "Распределение сгенерированных случайным образом с помощью метода np.random.randint значений будет иметь вид **равномерного распределения (uniform distribution)**.\n",
        "\n",
        "Равномерное распределение дискретной величины означает, что каждое из значений реализуется с одинаковой вероятностью. Именно на этом принципе и основана работа данной функции:\n",
        "\n",
        "> Return random integers from the “discrete uniform” distribution of the specified dtype in the “half-open” interval [low, high).\n",
        "\n",
        "(из документации numpy)"
      ]
    },
    {
      "cell_type": "code",
      "metadata": {
        "colab": {
          "base_uri": "https://localhost:8080/",
          "height": 265
        },
        "id": "kwFGJZfTYI-a",
        "outputId": "0dbfc657-766c-4ed3-e42a-59487737da7f"
      },
      "source": [
        "plt.hist(series)\n",
        "plt.show()"
      ],
      "execution_count": null,
      "outputs": [
        {
          "output_type": "display_data",
          "data": {
            "image/png": "[encoded data removed]",
            "text/plain": [
              "<Figure size 432x288 with 1 Axes>"
            ]
          },
          "metadata": {
            "needs_background": "light"
          }
        }
      ]
    },
    {
      "cell_type": "markdown",
      "metadata": {
        "id": "C54_MOCSfRvG"
      },
      "source": [
        "Как мы видим на графике, распределение действительно равномерное (с небольшими погрешностями).\n",
        "\n",
        "Для того, чтобы распределение изменило форму, можно добавить к уже сгенерированным значениям значения из других диапазонов (очень большие или очень маленькие по сравнению с ними) - это будут выбросы (outliers)."
      ]
    },
    {
      "cell_type": "code",
      "metadata": {
        "id": "4FVEWleSj59B"
      },
      "source": [
        "np.random.seed()\n",
        "\n",
        "high_outliers = np.random.randint(low=-95, high=5, size=100)\n",
        "low_outliers = np.random.randint(low=105, high=205, size=100)\n",
        "\n",
        "distr_with_outliers = np.concatenate((random_values, high_outliers, low_outliers))\n",
        "series_2 = pd.Series(data=distr_with_outliers)"
      ],
      "execution_count": null,
      "outputs": []
    },
    {
      "cell_type": "code",
      "metadata": {
        "colab": {
          "base_uri": "https://localhost:8080/",
          "height": 265
        },
        "id": "H8aNiecDm9tl",
        "outputId": "08cd0187-e4de-4cbd-e6d1-1dda08de6a3a"
      },
      "source": [
        "plt.hist(series_2)\n",
        "plt.show()"
      ],
      "execution_count": null,
      "outputs": [
        {
          "output_type": "display_data",
          "data": {
            "image/png": "[encoded data removed]",
            "text/plain": [
              "<Figure size 432x288 with 1 Axes>"
            ]
          },
          "metadata": {
            "needs_background": "light"
          }
        }
      ]
    },
    {
      "cell_type": "markdown",
      "metadata": {
        "id": "0vRSle-HnaoU"
      },
      "source": [
        "Кроме того, можно сгенерировать случайные значения для распределения определенного вида с помощью соответствующих функций библиотеки numpy, например:    \n",
        "- np.random.randn - нормальное распределение\n",
        "- np.random.binomial - биномиальное распределение \n",
        "\n",
        "и других."
      ]
    },
    {
      "cell_type": "code",
      "metadata": {
        "id": "xs7baw7OooOy"
      },
      "source": [
        "np.random.seed()\n",
        "\n",
        "random_normal_values = np.random.randn(1000) * 100 + 5\n",
        "series_normal = pd.Series(data=random_normal_values)"
      ],
      "execution_count": null,
      "outputs": []
    },
    {
      "cell_type": "code",
      "metadata": {
        "colab": {
          "base_uri": "https://localhost:8080/",
          "height": 265
        },
        "id": "l-n79rhro8gO",
        "outputId": "ab3efe88-37fd-4f49-bd08-9a71ce0d4f1e"
      },
      "source": [
        "plt.hist(series_normal)\n",
        "plt.show()"
      ],
      "execution_count": null,
      "outputs": [
        {
          "output_type": "display_data",
          "data": {
            "image/png": "[encoded data removed]",
            "text/plain": [
              "<Figure size 432x288 with 1 Axes>"
            ]
          },
          "metadata": {
            "needs_background": "light"
          }
        }
      ]
    },
    {
      "cell_type": "markdown",
      "metadata": {
        "id": "7ePFWpa9r3MI"
      },
      "source": [
        "<a name=\"descriptive_statistics\"></a>\n",
        "## Описательные статистики"
      ]
    },
    {
      "cell_type": "code",
      "metadata": {
        "colab": {
          "base_uri": "https://localhost:8080/",
          "height": 265
        },
        "id": "5TlItN2KLUhO",
        "outputId": "5d3cfc35-d614-4047-f5a4-a34bd0e916dc"
      },
      "source": [
        "series.plot.box()\n",
        "plt.show()"
      ],
      "execution_count": null,
      "outputs": [
        {
          "output_type": "display_data",
          "data": {
            "image/png": "[encoded data removed]",
            "text/plain": [
              "<Figure size 432x288 with 1 Axes>"
            ]
          },
          "metadata": {
            "needs_background": "light"
          }
        }
      ]
    },
    {
      "cell_type": "markdown",
      "metadata": {
        "id": "5KhJDvvks2Oi"
      },
      "source": [
        "<a name=\"mean\"></a>\n",
        "Математическое ожидание (среднее арифметическое)\n"
      ]
    },
    {
      "cell_type": "markdown",
      "metadata": {
        "id": "xVIlwUyEtnQy"
      },
      "source": [
        "![image.png](https://wikimedia.org/api/rest_v1/media/math/render/svg/52a4490ec47192d3f77fbdf9bc8eddacdf2631f2)"
      ]
    },
    {
      "cell_type": "code",
      "metadata": {
        "colab": {
          "base_uri": "https://localhost:8080/"
        },
        "id": "F8p750bAqDup",
        "outputId": "babb23fb-6f5a-450d-f178-81fb11a02711"
      },
      "source": [
        "# расчет по формуле\n",
        "\n",
        "def get_mean(series):\n",
        "  \n",
        "    n = len(series) # количество элементов\n",
        "    s = sum(series) # сумма элементов\n",
        "\n",
        "    return s / n \n",
        "\n",
        "mean_manually = get_mean(series)\n",
        "print('Mean calculated manually:       {}'.format(mean_manually))\n",
        "\n",
        "\n",
        "# расчет с использованием встроенного метода библиотеки pandas\n",
        "\n",
        "mean_automatically = series.mean()\n",
        "print('Mean calculated automatically:  {}'.format(mean_automatically))"
      ],
      "execution_count": null,
      "outputs": [
        {
          "output_type": "stream",
          "name": "stdout",
          "text": [
            "Mean calculated manually:       53.92\n",
            "Mean calculated automatically:  53.92\n"
          ]
        }
      ]
    },
    {
      "cell_type": "markdown",
      "metadata": {
        "id": "B7hrqOECxv5I"
      },
      "source": [
        "<a name=\"median\"></a>\n",
        "Медиана"
      ]
    },
    {
      "cell_type": "markdown",
      "metadata": {
        "id": "WWvXzmtLxxVT"
      },
      "source": [
        "> Медиана набора чисел — число, которое находится в середине этого набора, если его упорядочить по возрастанию, то есть такое число, что половина из элементов набора не меньше него, а другая половина не больше."
      ]
    },
    {
      "cell_type": "code",
      "metadata": {
        "colab": {
          "base_uri": "https://localhost:8080/"
        },
        "id": "JvltsGIoqvbE",
        "outputId": "ea0c0a4a-2e73-40e8-c192-af4f3b60a5cb"
      },
      "source": [
        "# расчет по формуле\n",
        "\n",
        "def get_median(series):\n",
        "\n",
        "    n = len(series)                 # количество элементов\n",
        "    sorted_series = np.sort(series) # упорядоченный набор\n",
        "\n",
        "    # для нечетного количества элементов:\n",
        "    # медиана - средний элемент упорядоченного набора;\n",
        "    # для четного количества элементов: \n",
        "    # медиана - среднее арифметическое двух соседних средних элементов\n",
        "    if (n % 2 == 0):\n",
        "        median = (sorted_series[n // 2 - 1] + sorted_series[n // 2]) / 2\n",
        "    else:\n",
        "        median = sorted_series[n // 2]\n",
        "\n",
        "    return median\n",
        "\n",
        "median_manually = get_median(series)\n",
        "print('Median calculated manually:       {}'.format(median_manually))\n",
        "\n",
        "\n",
        "# расчет с использованием встроенного метода библиотеки pandas\n",
        "\n",
        "median_automatically = series.median()\n",
        "print('Median calculated automatically:  {}'.format(median_automatically))"
      ],
      "execution_count": null,
      "outputs": [
        {
          "output_type": "stream",
          "name": "stdout",
          "text": [
            "Median calculated manually:       54.5\n",
            "Median calculated automatically:  54.5\n"
          ]
        }
      ]
    },
    {
      "cell_type": "markdown",
      "metadata": {
        "id": "hnq7xzmNOYrc"
      },
      "source": [
        "<a name=\"mode\"></a>\n",
        "Частота, с которой встречаются значения. Мода"
      ]
    },
    {
      "cell_type": "markdown",
      "metadata": {
        "id": "OFiKHCuzPRs8"
      },
      "source": [
        "> Мода — значение во множестве наблюдений, которое встречается наиболее часто. Иногда в совокупности встречается более чем одна мода. В этом случае можно сказать, что совокупность мультимодальна."
      ]
    },
    {
      "cell_type": "code",
      "metadata": {
        "colab": {
          "base_uri": "https://localhost:8080/"
        },
        "id": "NxdROSgasZUU",
        "outputId": "f9acd8c2-941b-4855-e454-41e4a588cf59"
      },
      "source": [
        "def values_frequency(series):\n",
        "\n",
        "    n = 100 # количество уникальных элементов\n",
        "    \n",
        "    # подсчет количества каждого значения в наборе\n",
        "    # (в данном случае количество каждого значения в наборе\n",
        "    # совпадает с относительной частотой в процентах, т.к. n = 100)\n",
        "    values_dict = { a: 0 for a in range(5, 105) }\n",
        "    for val in series:\n",
        "        values_dict[val] += 1\n",
        "    \n",
        "    values = pd.Series(data=values_dict)\n",
        "\n",
        "    return values\n",
        "\n",
        "frequency = values_frequency(series)\n",
        "\n",
        "print('value  frequency')\n",
        "print(frequency)"
      ],
      "execution_count": null,
      "outputs": [
        {
          "output_type": "stream",
          "name": "stdout",
          "text": [
            "value  frequency\n",
            "5      13\n",
            "6      11\n",
            "7      10\n",
            "8       7\n",
            "9      17\n",
            "       ..\n",
            "100     6\n",
            "101     9\n",
            "102     8\n",
            "103     6\n",
            "104    13\n",
            "Length: 100, dtype: int64\n"
          ]
        }
      ]
    },
    {
      "cell_type": "code",
      "metadata": {
        "colab": {
          "base_uri": "https://localhost:8080/"
        },
        "id": "lc07qmVXWWYR",
        "outputId": "e4d813c1-66a5-4340-82d3-b64c37ec325b"
      },
      "source": [
        "# расчет по формуле\n",
        "\n",
        "def get_mode(frequency_table):\n",
        "    \n",
        "    # нахождение максимальной частоты\n",
        "    max_frequency = max(frequency_table.values)\n",
        "    \n",
        "    # нахождение значений с максимальной частотой\n",
        "    modes = []\n",
        "    for idx in frequency_table.index:\n",
        "        if frequency_table[idx] == max_frequency:\n",
        "            modes.append(idx)\n",
        "\n",
        "    modes = pd.Series(modes)\n",
        "\n",
        "    return modes\n",
        "\n",
        "mode_manually = get_mode(frequency)\n",
        "print('Mode calculated manually:')\n",
        "print(mode_manually)\n",
        "print()\n",
        "\n",
        "\n",
        "# расчет с использованием встроенного метода библиотеки pandas\n",
        "\n",
        "mode_automatically = series.mode()\n",
        "print('Mode calculated automatically:')\n",
        "print(mode_automatically)"
      ],
      "execution_count": null,
      "outputs": [
        {
          "output_type": "stream",
          "name": "stdout",
          "text": [
            "Mode calculated manually:\n",
            "0    32\n",
            "dtype: int64\n",
            "\n",
            "Mode calculated automatically:\n",
            "0    32\n",
            "dtype: int64\n"
          ]
        }
      ]
    },
    {
      "cell_type": "markdown",
      "metadata": {
        "id": "omsnFc5Fib0h"
      },
      "source": [
        "<a name=\"range\"></a>\n",
        "Размах"
      ]
    },
    {
      "cell_type": "markdown",
      "metadata": {
        "id": "WNu10FTejGPe"
      },
      "source": [
        "> Размах ряда чисел – это разность между наибольшим и наименьшим из этих чисел."
      ]
    },
    {
      "cell_type": "code",
      "metadata": {
        "colab": {
          "base_uri": "https://localhost:8080/"
        },
        "id": "qdxB-pU7jKyo",
        "outputId": "85a109c2-cd63-43c4-f585-fc6810e344d5"
      },
      "source": [
        "# расчет по формуле\n",
        "\n",
        "def get_range(series):\n",
        "\n",
        "    return max(series) - min(series)\n",
        "\n",
        "range_manually = get_range(series)\n",
        "print('Range calculated manually:           {}'.format(range_manually))\n",
        "\n",
        "\n",
        "# расчет с использованием встроенного метода библиотеки pandas\n",
        "\n",
        "range_automatically = np.ptp(series)\n",
        "print('Range calculated automatically:      {}'.format(range_automatically))"
      ],
      "execution_count": null,
      "outputs": [
        {
          "output_type": "stream",
          "name": "stdout",
          "text": [
            "Range calculated manually:           99\n",
            "Range calculated automatically:      99\n"
          ]
        }
      ]
    },
    {
      "cell_type": "markdown",
      "metadata": {
        "id": "u2cJAoGtj1ed"
      },
      "source": [
        "<a name=\"iqr\"></a>\n",
        "Межквартильный размах"
      ]
    },
    {
      "cell_type": "markdown",
      "metadata": {
        "id": "678gUCdSj9q1"
      },
      "source": [
        "> Межквартильный размах — это разность между третьим и первым квартилями (25-м и 75-м процентилями)."
      ]
    },
    {
      "cell_type": "code",
      "metadata": {
        "colab": {
          "base_uri": "https://localhost:8080/"
        },
        "id": "IY-Jdqz7kBcy",
        "outputId": "0e755c14-3ed6-419c-f3f9-5aba0bbe0c56"
      },
      "source": [
        "# расчет по формуле\n",
        "\n",
        "def get_quantile(series, quantile):\n",
        "\n",
        "    n = len(series)\n",
        "    \n",
        "    # расчет количества значений ниже заданного процентиля\n",
        "    quantile_n = int(n * quantile)\n",
        "    \n",
        "    # упорядоченный набор\n",
        "    sorted_series = np.sort(series)\n",
        "\n",
        "    return sorted_series[quantile_n]\n",
        "\n",
        "iqr_manually = get_quantile(series, 0.75) - get_quantile(series, 0.25)\n",
        "print('Interquartile range calculated manually:        {}'.format(iqr_manually))\n",
        "\n",
        "\n",
        "# расчет с использованием встроенного метода библиотеки pandas\n",
        "\n",
        "iqr_automatically = series.quantile(q=0.75) - series.quantile(q=0.25)\n",
        "print('Interquartile range calculated automatically:   {}'.format(iqr_automatically))"
      ],
      "execution_count": null,
      "outputs": [
        {
          "output_type": "stream",
          "name": "stdout",
          "text": [
            "Interquartile range calculated manually:        50\n",
            "Interquartile range calculated automatically:   50.0\n"
          ]
        }
      ]
    },
    {
      "cell_type": "markdown",
      "metadata": {
        "id": "n4Q_nZTMnRVK"
      },
      "source": [
        "<a name=\"variance\"></a>\n",
        "Дисперсия"
      ]
    },
    {
      "cell_type": "markdown",
      "metadata": {
        "id": "jZcovGF6njIi"
      },
      "source": [
        "Смещенная оценка:\n",
        "\n",
        "![image.png](https://wikimedia.org/api/rest_v1/media/math/render/svg/88789b13f5fb63fe1bba4785fb722c9bf2969327)\n",
        "\n",
        "Для несмещенной оценки вместо n в знаменателе n - 1"
      ]
    },
    {
      "cell_type": "code",
      "metadata": {
        "colab": {
          "base_uri": "https://localhost:8080/"
        },
        "id": "sSWKUAT6oN6m",
        "outputId": "c757bf6d-7cd9-4dbf-9c7d-b0611423b2bc"
      },
      "source": [
        "# расчет по формуле\n",
        "\n",
        "def get_variance(series):\n",
        "\n",
        "    n = len(series)\n",
        "    s = 0\n",
        "\n",
        "    series_mean = get_mean(series)\n",
        "    \n",
        "    for val in series:\n",
        "        s += (val - series_mean) ** 2\n",
        "\n",
        "    return s / n, s / (n - 1)\n",
        "\n",
        "variance_manually = get_variance(series)\n",
        "print('Population variance calculated manually:        {}'.format(variance_manually[0]))\n",
        "print('Sample variance calculated manually:            {}'.format(variance_manually[1]))\n",
        "print()\n",
        "\n",
        "# расчет с использованием встроенного метода библиотеки pandas\n",
        "\n",
        "variance_automatically = series.var(ddof=0)\n",
        "print('Population variance calculated automatically:   {}'.format(variance_automatically))\n",
        "variance_automatically = series.var(ddof=1)\n",
        "print('Sample variance calculated automatically:       {}'.format(variance_automatically))"
      ],
      "execution_count": null,
      "outputs": [
        {
          "output_type": "stream",
          "name": "stdout",
          "text": [
            "Population variance calculated manually:        834.9755999999992\n",
            "Sample variance calculated manually:            835.8114114114105\n",
            "\n",
            "Population variance calculated automatically:   834.9755999999992\n",
            "Sample variance calculated automatically:       835.8114114114105\n"
          ]
        }
      ]
    },
    {
      "cell_type": "markdown",
      "metadata": {
        "id": "DgzCCpWSph90"
      },
      "source": [
        "<a name=\"std\"></a>\n",
        "Стандартное отклонение"
      ]
    },
    {
      "cell_type": "markdown",
      "metadata": {
        "id": "BJdIJrU6pncP"
      },
      "source": [
        "Смещенная оценка:    \n",
        "\n",
        "![image.png](https://wikimedia.org/api/rest_v1/media/math/render/svg/15619dfbb9a470d310c1bc08fb61d4fb1187d057)\n",
        "\n",
        "Для несмещенной оценки вместо n в знаменателе n - 1"
      ]
    },
    {
      "cell_type": "code",
      "metadata": {
        "colab": {
          "base_uri": "https://localhost:8080/"
        },
        "id": "HdkjkwOQpxSO",
        "outputId": "95902fa0-819e-4447-bd4f-e85d962c7e5b"
      },
      "source": [
        "# расчет по формуле\n",
        "\n",
        "def get_std(series):\n",
        "\n",
        "    series_variance = get_variance(series)\n",
        "\n",
        "    return series_variance[0] ** (0.5), series_variance[1] ** (0.5)\n",
        "\n",
        "std_manually = get_std(series)\n",
        "print('Population standard deviation calculated manually:        {}'.format(std_manually[0]))\n",
        "print('Sample standard deviation calculated manually:            {}'.format(std_manually[1]))\n",
        "print()\n",
        "\n",
        "# расчет с использованием встроенного метода библиотеки pandas\n",
        "\n",
        "std_automatically = series.std(ddof=0)\n",
        "print('Population standard deviation calculated automatically:   {}'.format(std_automatically))\n",
        "std_automatically = series.std(ddof=1)\n",
        "print('Sample standard deviation calculated automatically:       {}'.format(std_automatically))"
      ],
      "execution_count": null,
      "outputs": [
        {
          "output_type": "stream",
          "name": "stdout",
          "text": [
            "Population standard deviation calculated manually:        28.89594435210587\n",
            "Sample standard deviation calculated manually:            28.910403169298945\n",
            "\n",
            "Population standard deviation calculated automatically:   28.89594435210587\n",
            "Sample standard deviation calculated automatically:       28.910403169298945\n"
          ]
        }
      ]
    }
  ]
}