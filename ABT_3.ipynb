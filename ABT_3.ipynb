{
  "nbformat": 4,
  "nbformat_minor": 0,
  "metadata": {
    "colab": {
      "name": "ABT-3.ipynb",
      "provenance": [],
      "collapsed_sections": []
    },
    "kernelspec": {
      "name": "python3",
      "display_name": "Python 3"
    },
    "language_info": {
      "name": "python"
    }
  },
  "cells": [
    {
      "cell_type": "markdown",
      "metadata": {
        "id": "08Id_mY6Wein"
      },
      "source": [
        "ABT-3 <br>\n",
        "Выполнила: Голикова Софья"
      ]
    },
    {
      "cell_type": "markdown",
      "source": [
        "1. [Предварительный анализ](#preliminary_analysis)\n",
        "2. Исследование метрик\n",
        "    1. [Среднее значение metric_value](#metric_value)\n",
        "    2. [Среднее количество сессий](#sessions_num)\n",
        "    3. [Доля churn_users в рамках групп](#churn_ratio)\n",
        "4. [Общий вывод](#conclusion)"
      ],
      "metadata": {
        "id": "MQEnJ_Crftsu"
      }
    },
    {
      "cell_type": "markdown",
      "source": [
        "<a name=\"preliminary_analysis\"></a>\n",
        "#Предварительный анализ"
      ],
      "metadata": {
        "id": "j-umsCsefS2q"
      }
    },
    {
      "cell_type": "markdown",
      "metadata": {
        "id": "NGjq0qdF_q4u"
      },
      "source": [
        "На сайте проводится эксперимент. Время проведения эксперимента\n",
        "– 2 недели. <br>\n",
        "Всего на сайте DAU около 500 000 и WAU около 850 000. Всего за\n",
        "время работы на сайте образовалась аудитория из около 1 500 000 не\n",
        "уходящих в отток посетителей. <br>\n",
        "Необходимо по имеющимся данным исследовать, какие позитивные и негативные эффекты вызвало нововведение. "
      ]
    },
    {
      "cell_type": "code",
      "metadata": {
        "colab": {
          "base_uri": "https://localhost:8080/"
        },
        "id": "2PK77LQv1JEj",
        "outputId": "b93c902d-6f8f-4b1a-ff5d-664107f90678"
      },
      "source": [
        "from google.colab import drive\n",
        "drive.mount('/content/gdrive')"
      ],
      "execution_count": null,
      "outputs": [
        {
          "output_type": "stream",
          "name": "stdout",
          "text": [
            "Drive already mounted at /content/gdrive; to attempt to forcibly remount, call drive.mount(\"/content/gdrive\", force_remount=True).\n"
          ]
        }
      ]
    },
    {
      "cell_type": "code",
      "metadata": {
        "id": "XvYkgvNyjV-c"
      },
      "source": [
        "import warnings\n",
        "warnings.filterwarnings('ignore')"
      ],
      "execution_count": null,
      "outputs": []
    },
    {
      "cell_type": "code",
      "metadata": {
        "id": "D7JyIfJ01N1x"
      },
      "source": [
        "import numpy as np\n",
        "import pandas as pd\n",
        "import matplotlib.pyplot as plt \n",
        "import seaborn as sns\n",
        "from seaborn_qqplot import pplot\n",
        "from scipy.stats import norm\n",
        "\n",
        "from bootstrapped import bootstrap as bs\n",
        "from bootstrapped import compare_functions as bs_compare\n",
        "from bootstrapped import stats_functions as bs_stats"
      ],
      "execution_count": null,
      "outputs": []
    },
    {
      "cell_type": "code",
      "metadata": {
        "id": "C4r-rNrQ2lVX"
      },
      "source": [
        "buckets = pd.read_csv('gdrive/MyDrive/Colab Notebooks/abt2_data/hw_abt_2_bybucket.csv', \n",
        "                      delimiter='\\t')\n",
        "users = pd.read_csv('gdrive/MyDrive/Colab Notebooks/abt2_data/hw_abt_2_byuser.csv', \n",
        "                    delimiter='\\t', index_col=0)"
      ],
      "execution_count": null,
      "outputs": []
    },
    {
      "cell_type": "markdown",
      "metadata": {
        "id": "QEhX8LR4-RJG"
      },
      "source": [
        "Колонки в таблицах:\n",
        "- group_id - bucket’ы с номерами от 1 до 16. К группе ‘A’, контрольной, относятся bucket’ы 1..8, к группе ‘B’, экспериментальной, – 9..16;\n",
        "- metric_value – сумма целевых действий пользователей в рамках bucket’а –\n",
        "например, просмотров рекламного баннера, телефона на сайте classified-сервиса\n",
        "или покупок в retail/FMCG;\n",
        "- users – кол-во пользователей, совершивших целевое действие;\n",
        "- visits – кол-во целевых сессий (закончившихся успешным целевым действием);\n",
        "- churn_users – кол-во пользователей в рамках bucket’а, отказавшихся\n",
        "сделать заказ или ушедших в отток во время эксперимента;\n",
        "- churn_visits – количество сессий, не закончившихся успешным целевым действием."
      ]
    },
    {
      "cell_type": "code",
      "metadata": {
        "colab": {
          "base_uri": "https://localhost:8080/",
          "height": 551
        },
        "id": "ELikJPtT7gKP",
        "outputId": "77f2c02e-caa2-47d6-d242-af903e7ea35a"
      },
      "source": [
        "buckets"
      ],
      "execution_count": null,
      "outputs": [
        {
          "output_type": "execute_result",
          "data": {
            "text/html": [
              "<div>\n",
              "<style scoped>\n",
              "    .dataframe tbody tr th:only-of-type {\n",
              "        vertical-align: middle;\n",
              "    }\n",
              "\n",
              "    .dataframe tbody tr th {\n",
              "        vertical-align: top;\n",
              "    }\n",
              "\n",
              "    .dataframe thead th {\n",
              "        text-align: right;\n",
              "    }\n",
              "</style>\n",
              "<table border=\"1\" class=\"dataframe\">\n",
              "  <thead>\n",
              "    <tr style=\"text-align: right;\">\n",
              "      <th></th>\n",
              "      <th>group_id</th>\n",
              "      <th>metric_value</th>\n",
              "      <th>users</th>\n",
              "      <th>visits</th>\n",
              "      <th>churn_users</th>\n",
              "      <th>churn_visits</th>\n",
              "    </tr>\n",
              "  </thead>\n",
              "  <tbody>\n",
              "    <tr>\n",
              "      <th>0</th>\n",
              "      <td>1</td>\n",
              "      <td>1875345.000</td>\n",
              "      <td>155</td>\n",
              "      <td>1419</td>\n",
              "      <td>151</td>\n",
              "      <td>2207</td>\n",
              "    </tr>\n",
              "    <tr>\n",
              "      <th>1</th>\n",
              "      <td>2</td>\n",
              "      <td>1662237.000</td>\n",
              "      <td>138</td>\n",
              "      <td>1320</td>\n",
              "      <td>127</td>\n",
              "      <td>1853</td>\n",
              "    </tr>\n",
              "    <tr>\n",
              "      <th>2</th>\n",
              "      <td>3</td>\n",
              "      <td>1784372.000</td>\n",
              "      <td>128</td>\n",
              "      <td>1281</td>\n",
              "      <td>159</td>\n",
              "      <td>2032</td>\n",
              "    </tr>\n",
              "    <tr>\n",
              "      <th>3</th>\n",
              "      <td>4</td>\n",
              "      <td>1876826.000</td>\n",
              "      <td>163</td>\n",
              "      <td>1644</td>\n",
              "      <td>168</td>\n",
              "      <td>2172</td>\n",
              "    </tr>\n",
              "    <tr>\n",
              "      <th>4</th>\n",
              "      <td>5</td>\n",
              "      <td>1913180.000</td>\n",
              "      <td>156</td>\n",
              "      <td>1675</td>\n",
              "      <td>174</td>\n",
              "      <td>2273</td>\n",
              "    </tr>\n",
              "    <tr>\n",
              "      <th>5</th>\n",
              "      <td>6</td>\n",
              "      <td>1733079.000</td>\n",
              "      <td>144</td>\n",
              "      <td>1509</td>\n",
              "      <td>141</td>\n",
              "      <td>2009</td>\n",
              "    </tr>\n",
              "    <tr>\n",
              "      <th>6</th>\n",
              "      <td>7</td>\n",
              "      <td>1864555.000</td>\n",
              "      <td>151</td>\n",
              "      <td>1481</td>\n",
              "      <td>161</td>\n",
              "      <td>2139</td>\n",
              "    </tr>\n",
              "    <tr>\n",
              "      <th>7</th>\n",
              "      <td>8</td>\n",
              "      <td>2029143.000</td>\n",
              "      <td>162</td>\n",
              "      <td>1533</td>\n",
              "      <td>153</td>\n",
              "      <td>2299</td>\n",
              "    </tr>\n",
              "    <tr>\n",
              "      <th>8</th>\n",
              "      <td>9</td>\n",
              "      <td>2047289.536</td>\n",
              "      <td>143</td>\n",
              "      <td>1424</td>\n",
              "      <td>242</td>\n",
              "      <td>2191</td>\n",
              "    </tr>\n",
              "    <tr>\n",
              "      <th>9</th>\n",
              "      <td>10</td>\n",
              "      <td>2228154.648</td>\n",
              "      <td>179</td>\n",
              "      <td>1803</td>\n",
              "      <td>265</td>\n",
              "      <td>2518</td>\n",
              "    </tr>\n",
              "    <tr>\n",
              "      <th>10</th>\n",
              "      <td>11</td>\n",
              "      <td>1876015.920</td>\n",
              "      <td>150</td>\n",
              "      <td>1448</td>\n",
              "      <td>226</td>\n",
              "      <td>2062</td>\n",
              "    </tr>\n",
              "    <tr>\n",
              "      <th>11</th>\n",
              "      <td>12</td>\n",
              "      <td>2102859.224</td>\n",
              "      <td>149</td>\n",
              "      <td>1339</td>\n",
              "      <td>261</td>\n",
              "      <td>2257</td>\n",
              "    </tr>\n",
              "    <tr>\n",
              "      <th>12</th>\n",
              "      <td>13</td>\n",
              "      <td>2079287.344</td>\n",
              "      <td>155</td>\n",
              "      <td>1240</td>\n",
              "      <td>257</td>\n",
              "      <td>2248</td>\n",
              "    </tr>\n",
              "    <tr>\n",
              "      <th>13</th>\n",
              "      <td>14</td>\n",
              "      <td>2127954.032</td>\n",
              "      <td>166</td>\n",
              "      <td>1397</td>\n",
              "      <td>256</td>\n",
              "      <td>2215</td>\n",
              "    </tr>\n",
              "    <tr>\n",
              "      <th>14</th>\n",
              "      <td>15</td>\n",
              "      <td>1887384.920</td>\n",
              "      <td>161</td>\n",
              "      <td>1488</td>\n",
              "      <td>224</td>\n",
              "      <td>2015</td>\n",
              "    </tr>\n",
              "    <tr>\n",
              "      <th>15</th>\n",
              "      <td>16</td>\n",
              "      <td>2082370.200</td>\n",
              "      <td>159</td>\n",
              "      <td>1469</td>\n",
              "      <td>273</td>\n",
              "      <td>2287</td>\n",
              "    </tr>\n",
              "  </tbody>\n",
              "</table>\n",
              "</div>"
            ],
            "text/plain": [
              "    group_id  metric_value  users  visits  churn_users  churn_visits\n",
              "0          1   1875345.000    155    1419          151          2207\n",
              "1          2   1662237.000    138    1320          127          1853\n",
              "2          3   1784372.000    128    1281          159          2032\n",
              "3          4   1876826.000    163    1644          168          2172\n",
              "4          5   1913180.000    156    1675          174          2273\n",
              "5          6   1733079.000    144    1509          141          2009\n",
              "6          7   1864555.000    151    1481          161          2139\n",
              "7          8   2029143.000    162    1533          153          2299\n",
              "8          9   2047289.536    143    1424          242          2191\n",
              "9         10   2228154.648    179    1803          265          2518\n",
              "10        11   1876015.920    150    1448          226          2062\n",
              "11        12   2102859.224    149    1339          261          2257\n",
              "12        13   2079287.344    155    1240          257          2248\n",
              "13        14   2127954.032    166    1397          256          2215\n",
              "14        15   1887384.920    161    1488          224          2015\n",
              "15        16   2082370.200    159    1469          273          2287"
            ]
          },
          "metadata": {},
          "execution_count": 126
        }
      ]
    },
    {
      "cell_type": "code",
      "metadata": {
        "colab": {
          "base_uri": "https://localhost:8080/",
          "height": 363
        },
        "id": "th_hyLnh2Yup",
        "outputId": "1f0158b9-5cbf-41e9-9aca-0249f60a5231"
      },
      "source": [
        "users.head(10)"
      ],
      "execution_count": null,
      "outputs": [
        {
          "output_type": "execute_result",
          "data": {
            "text/html": [
              "<div>\n",
              "<style scoped>\n",
              "    .dataframe tbody tr th:only-of-type {\n",
              "        vertical-align: middle;\n",
              "    }\n",
              "\n",
              "    .dataframe tbody tr th {\n",
              "        vertical-align: top;\n",
              "    }\n",
              "\n",
              "    .dataframe thead th {\n",
              "        text-align: right;\n",
              "    }\n",
              "</style>\n",
              "<table border=\"1\" class=\"dataframe\">\n",
              "  <thead>\n",
              "    <tr style=\"text-align: right;\">\n",
              "      <th></th>\n",
              "      <th>group_id</th>\n",
              "      <th>metric_value</th>\n",
              "      <th>users</th>\n",
              "      <th>visits</th>\n",
              "      <th>churn_users</th>\n",
              "      <th>churn_visits</th>\n",
              "      <th>group</th>\n",
              "    </tr>\n",
              "  </thead>\n",
              "  <tbody>\n",
              "    <tr>\n",
              "      <th>0</th>\n",
              "      <td>8</td>\n",
              "      <td>6630.000</td>\n",
              "      <td>0</td>\n",
              "      <td>0</td>\n",
              "      <td>0</td>\n",
              "      <td>8</td>\n",
              "      <td>A</td>\n",
              "    </tr>\n",
              "    <tr>\n",
              "      <th>1</th>\n",
              "      <td>13</td>\n",
              "      <td>6933.976</td>\n",
              "      <td>0</td>\n",
              "      <td>0</td>\n",
              "      <td>1</td>\n",
              "      <td>6</td>\n",
              "      <td>B</td>\n",
              "    </tr>\n",
              "    <tr>\n",
              "      <th>2</th>\n",
              "      <td>10</td>\n",
              "      <td>8261.976</td>\n",
              "      <td>1</td>\n",
              "      <td>10</td>\n",
              "      <td>1</td>\n",
              "      <td>8</td>\n",
              "      <td>B</td>\n",
              "    </tr>\n",
              "    <tr>\n",
              "      <th>3</th>\n",
              "      <td>4</td>\n",
              "      <td>5522.000</td>\n",
              "      <td>1</td>\n",
              "      <td>9</td>\n",
              "      <td>1</td>\n",
              "      <td>7</td>\n",
              "      <td>A</td>\n",
              "    </tr>\n",
              "    <tr>\n",
              "      <th>4</th>\n",
              "      <td>16</td>\n",
              "      <td>5075.976</td>\n",
              "      <td>1</td>\n",
              "      <td>6</td>\n",
              "      <td>0</td>\n",
              "      <td>8</td>\n",
              "      <td>B</td>\n",
              "    </tr>\n",
              "    <tr>\n",
              "      <th>5</th>\n",
              "      <td>2</td>\n",
              "      <td>8539.000</td>\n",
              "      <td>0</td>\n",
              "      <td>0</td>\n",
              "      <td>0</td>\n",
              "      <td>8</td>\n",
              "      <td>A</td>\n",
              "    </tr>\n",
              "    <tr>\n",
              "      <th>6</th>\n",
              "      <td>8</td>\n",
              "      <td>5714.000</td>\n",
              "      <td>0</td>\n",
              "      <td>0</td>\n",
              "      <td>0</td>\n",
              "      <td>7</td>\n",
              "      <td>A</td>\n",
              "    </tr>\n",
              "    <tr>\n",
              "      <th>7</th>\n",
              "      <td>3</td>\n",
              "      <td>7330.000</td>\n",
              "      <td>0</td>\n",
              "      <td>0</td>\n",
              "      <td>0</td>\n",
              "      <td>6</td>\n",
              "      <td>A</td>\n",
              "    </tr>\n",
              "    <tr>\n",
              "      <th>8</th>\n",
              "      <td>2</td>\n",
              "      <td>6759.000</td>\n",
              "      <td>1</td>\n",
              "      <td>4</td>\n",
              "      <td>1</td>\n",
              "      <td>7</td>\n",
              "      <td>A</td>\n",
              "    </tr>\n",
              "    <tr>\n",
              "      <th>9</th>\n",
              "      <td>12</td>\n",
              "      <td>6963.976</td>\n",
              "      <td>1</td>\n",
              "      <td>1</td>\n",
              "      <td>0</td>\n",
              "      <td>6</td>\n",
              "      <td>B</td>\n",
              "    </tr>\n",
              "  </tbody>\n",
              "</table>\n",
              "</div>"
            ],
            "text/plain": [
              "   group_id  metric_value  users  visits  churn_users  churn_visits group\n",
              "0         8      6630.000      0       0            0             8     A\n",
              "1        13      6933.976      0       0            1             6     B\n",
              "2        10      8261.976      1      10            1             8     B\n",
              "3         4      5522.000      1       9            1             7     A\n",
              "4        16      5075.976      1       6            0             8     B\n",
              "5         2      8539.000      0       0            0             8     A\n",
              "6         8      5714.000      0       0            0             7     A\n",
              "7         3      7330.000      0       0            0             6     A\n",
              "8         2      6759.000      1       4            1             7     A\n",
              "9        12      6963.976      1       1            0             6     B"
            ]
          },
          "metadata": {},
          "execution_count": 127
        }
      ]
    },
    {
      "cell_type": "markdown",
      "metadata": {
        "id": "1T6cz-cBGEwr"
      },
      "source": [
        "В таблице пользователей сразу бросается в глаза ситуация, когда visits = 0, а metric_value > 0. То есть, у этих пользователей не было успешных целевых сессий, однако metric_value для них не равно 0. Несколько предположений по этому поводу мы рассмотрели в ABT-2, и в итоге остановились на версии \"успешность сессии может определяться последним действием пользователя, тогда пользователь за одну и ту же сессию может сначала совершить целевое действие (сделать заказ), а потом отказаться от выполнения целевого действия (отменить другой созданный заказ)\"."
      ]
    },
    {
      "cell_type": "markdown",
      "metadata": {
        "id": "gxqI7D3ZiTF2"
      },
      "source": [
        "Также поясним некоторые не совсем очевидные моменты (на основе наших предположений и допущений): <br>\n",
        "- visits = 0, users != 0 - пользователь только создал аккаунт либо перекрыл успешное действие неуспешным во время сессии \n",
        "- churn_visits = 0, churn_users != 0 - пользователь удалил аккаунт сразу после создания (в той же сессии)\n",
        "- churn_visits != 0, churn_users = 0 - пользователь не ушел в отток, но периодически совершает неудачные действия"
      ]
    },
    {
      "cell_type": "markdown",
      "metadata": {
        "id": "RnLQIPUkOvyL"
      },
      "source": [
        "Размеры выборок:"
      ]
    },
    {
      "cell_type": "code",
      "metadata": {
        "colab": {
          "base_uri": "https://localhost:8080/"
        },
        "id": "A_sh2UQvOFbM",
        "outputId": "9cc60f5c-5709-4bbd-a056-783772fd7f80"
      },
      "source": [
        "print('Group A size: {}'.format(users.loc[users['group'] == 'A'].shape[0]))\n",
        "print('Group B size: {}'.format(users.loc[users['group'] == 'B'].shape[0]))\n",
        "print('Size ratio: {}'.format(users.loc[users['group'] == 'A'].shape[0] / \n",
        "                              users.loc[users['group'] == 'B'].shape[0]))"
      ],
      "execution_count": null,
      "outputs": [
        {
          "output_type": "stream",
          "name": "stdout",
          "text": [
            "Group A size: 2451\n",
            "Group B size: 2549\n",
            "Size ratio: 0.9615535504119262\n"
          ]
        }
      ]
    },
    {
      "cell_type": "markdown",
      "metadata": {
        "id": "yykXjoBAbhzw"
      },
      "source": [
        "Метрики, которые мы будем исследовать при сравнении групп A и B:\n",
        "1. Среднее значение metric_value\n",
        "2. Среднее количество сессий (и удачных, и неудачных)\n",
        "3. Доля churn_users (ratio-метрика) в рамках групп"
      ]
    },
    {
      "cell_type": "markdown",
      "metadata": {
        "id": "zp9j0CvyXkng"
      },
      "source": [
        "<a name=\"metric_value\"></a>\n",
        "#Среднее значение metric_value"
      ]
    },
    {
      "cell_type": "markdown",
      "metadata": {
        "id": "QhlbfS5FcJli"
      },
      "source": [
        "**Нулевая гипотеза**: <br>\n",
        "H0 - раличия в средних значениях metric_value для групп A и B вызваны лишь случайными причинами <br>\n",
        "**Альтернативная гипотеза**: <br>\n",
        "H1 -  между средними значениями metric_value для групп A и B действительно существуют значимые различия"
      ]
    },
    {
      "cell_type": "code",
      "metadata": {
        "id": "PuZIDe7Fnw0P"
      },
      "source": [
        "metric_group_a = users.loc[users['group'] == 'A']['metric_value']\n",
        "metric_group_b = users.loc[users['group'] == 'B']['metric_value']"
      ],
      "execution_count": null,
      "outputs": []
    },
    {
      "cell_type": "code",
      "metadata": {
        "colab": {
          "base_uri": "https://localhost:8080/"
        },
        "id": "pFDobF_zwsBb",
        "outputId": "5d176a24-4b47-4f9e-fdb7-92e323b8d3d9"
      },
      "source": [
        "metric_mean_a = metric_group_a.mean()\n",
        "metric_mean_b = metric_group_b.mean()\n",
        "\n",
        "print('Group A Metric Value mean: ', metric_mean_a, sep='')\n",
        "print('Group B Metric Value mean: ', metric_mean_b, sep='')"
      ],
      "execution_count": null,
      "outputs": [
        {
          "output_type": "stream",
          "name": "stdout",
          "text": [
            "Group A Metric Value mean: 6013.356589147287\n",
            "Group B Metric Value mean: 6446.181178501194\n"
          ]
        }
      ]
    },
    {
      "cell_type": "code",
      "source": [
        "lift = (metric_mean_b - metric_mean_a) / metric_mean_a * 100\n",
        "print('Lift: {:.2}%'.format(lift))"
      ],
      "metadata": {
        "colab": {
          "base_uri": "https://localhost:8080/"
        },
        "id": "iZQxtdZADgzM",
        "outputId": "c99b0c16-1474-4eab-d761-917b3ea62e5f"
      },
      "execution_count": null,
      "outputs": [
        {
          "output_type": "stream",
          "name": "stdout",
          "text": [
            "Lift: 7.2%\n"
          ]
        }
      ]
    },
    {
      "cell_type": "markdown",
      "metadata": {
        "id": "JeA1lz9AXuRV"
      },
      "source": [
        "Распределения metric_value для каждой из групп:"
      ]
    },
    {
      "cell_type": "code",
      "metadata": {
        "colab": {
          "base_uri": "https://localhost:8080/",
          "height": 339
        },
        "id": "q2CLEJswbYKn",
        "outputId": "359546c5-3ab5-4e60-de8f-9e2ab82b9aca"
      },
      "source": [
        "sns.set_style(\"darkgrid\")\n",
        "sns.set(rc={'figure.figsize':(10, 5)})\n",
        "\n",
        "sns.histplot(data=users, x=\"metric_value\", hue='group')\n",
        "plt.show()"
      ],
      "execution_count": null,
      "outputs": [
        {
          "output_type": "display_data",
          "data": {
            "image/png": "[encoded data removed]",
            "text/plain": [
              "<Figure size 720x360 with 1 Axes>"
            ]
          },
          "metadata": {}
        }
      ]
    },
    {
      "cell_type": "markdown",
      "metadata": {
        "id": "nQ6w5sKusRmd"
      },
      "source": [
        "Диаграммы размаха:"
      ]
    },
    {
      "cell_type": "code",
      "metadata": {
        "colab": {
          "base_uri": "https://localhost:8080/",
          "height": 339
        },
        "id": "XKX9XeBepnVs",
        "outputId": "4d978eea-520b-4c8f-b53b-31a3bb755459"
      },
      "source": [
        "sns.set(rc={'figure.figsize':(10, 5)})\n",
        "\n",
        "sns.boxplot(x='group', y='metric_value', data=users)\n",
        "plt.show()"
      ],
      "execution_count": null,
      "outputs": [
        {
          "output_type": "display_data",
          "data": {
            "image/png": "[encoded data removed]",
            "text/plain": [
              "<Figure size 720x360 with 1 Axes>"
            ]
          },
          "metadata": {}
        }
      ]
    },
    {
      "cell_type": "markdown",
      "metadata": {
        "id": "Xki2OCpEX8Dr"
      },
      "source": [
        "###Проверка распределений на нормальность"
      ]
    },
    {
      "cell_type": "markdown",
      "metadata": {
        "id": "rt1lq7sBE1qa"
      },
      "source": [
        "**H0**: распределение является нормальным <br>\n",
        "**H1**: распределение не является нормальным"
      ]
    },
    {
      "cell_type": "code",
      "metadata": {
        "colab": {
          "base_uri": "https://localhost:8080/",
          "height": 355
        },
        "id": "Ef8B-Yl8gnRJ",
        "outputId": "fc6fc0d6-93c5-4de1-82a2-e94b0c22dddf"
      },
      "source": [
        "sns.set(rc={'figure.figsize':(20, 5)})\n",
        "fig, ax = plt.subplots(1, 2)\n",
        "\n",
        "sns.distplot(metric_group_a, fit=norm, ax=ax[0])\n",
        "ax[0].set_title('Group A Metric Values')\n",
        "sns.distplot(metric_group_b, fit=norm, ax=ax[1])\n",
        "ax[1].set_title('Group B Metric Values')\n",
        "\n",
        "fig.show()"
      ],
      "execution_count": null,
      "outputs": [
        {
          "output_type": "display_data",
          "data": {
            "image/png": "[encoded data removed]",
            "text/plain": [
              "<Figure size 1440x360 with 2 Axes>"
            ]
          },
          "metadata": {}
        }
      ]
    },
    {
      "cell_type": "code",
      "metadata": {
        "colab": {
          "base_uri": "https://localhost:8080/",
          "height": 577
        },
        "id": "fYAtAgJOcc9H",
        "outputId": "a411b325-4b54-40b7-c475-9a1f59a993f0"
      },
      "source": [
        "sns.set(rc={'figure.figsize':(10, 5)})\n",
        "\n",
        "tmp_a = pd.DataFrame(metric_group_a)\n",
        "pplot(tmp_a, x='metric_value', y=norm, kind='qq', height=4, aspect=2, \n",
        "      display_kws={'identity':True})\n",
        "\n",
        "tmp_b = pd.DataFrame(metric_group_b)\n",
        "pplot(tmp_b, x='metric_value', y=norm, kind='qq', height=4, aspect=2, \n",
        "      display_kws={'identity':True})\n",
        "\n",
        "plt.show()"
      ],
      "execution_count": null,
      "outputs": [
        {
          "output_type": "display_data",
          "data": {
            "image/png": "[encoded data removed]",
            "text/plain": [
              "<Figure size 576x288 with 1 Axes>"
            ]
          },
          "metadata": {}
        },
        {
          "output_type": "display_data",
          "data": {
            "image/png": "[encoded data removed]",
            "text/plain": [
              "<Figure size 576x288 with 1 Axes>"
            ]
          },
          "metadata": {}
        }
      ]
    },
    {
      "cell_type": "markdown",
      "metadata": {
        "id": "fw873xLsgIT8"
      },
      "source": [
        "Визуально распределения напоминают нормальные, но с отклонениями.<br>\n",
        "Проведем формальный тест, чтобы проверить нормальность распределений."
      ]
    },
    {
      "cell_type": "markdown",
      "metadata": {
        "id": "G00j5AvqbfS8"
      },
      "source": [
        "Воспользуемся критерием Шапиро-Уилка для проверки распределений на нормальность. <br>\n",
        "Используем данный критерий, т.к. нам необходимо проверить соответствие закона распределения именно нормальному, а свойства данного критерия обладают большей мощностью перед широким выбором альтернативных критериев согласия. "
      ]
    },
    {
      "cell_type": "code",
      "metadata": {
        "id": "Mznkiu0W_JwE",
        "colab": {
          "base_uri": "https://localhost:8080/"
        },
        "outputId": "8b77fd8e-20c4-48b3-fcda-3d18721ff173"
      },
      "source": [
        "from scipy.stats import shapiro\n",
        "\n",
        "alpha = 0.05\n",
        "\n",
        "p_value = shapiro(metric_group_a)[1]\n",
        "\n",
        "print('Distribution A is {}normal (p-value = {:.2})'.\n",
        "      format({True:'not ', False:''}[p_value < alpha], \n",
        "             p_value))\n",
        "\n",
        "p_value = shapiro(metric_group_b)[1]\n",
        "\n",
        "print('Distribution B is {}normal (p-value = {:.2})'.\n",
        "      format({True:'not ', False:''}[p_value < alpha], p_value))"
      ],
      "execution_count": null,
      "outputs": [
        {
          "output_type": "stream",
          "name": "stdout",
          "text": [
            "Distribution A is not normal (p-value = 3.5e-07)\n",
            "Distribution B is not normal (p-value = 2.5e-10)\n"
          ]
        }
      ]
    },
    {
      "cell_type": "markdown",
      "metadata": {
        "id": "W_RDNW-WGA8h"
      },
      "source": [
        "Мы ошиблись с нашей визуальной оценкой: p-value получилось намного меньше заданного уровня значимости, а значит, мы **отвергаем нулевую гипотезу H0**, утверждающую, что распределение значений metric_value является нормальным (как для группы A, так и для группы B)."
      ]
    },
    {
      "cell_type": "markdown",
      "metadata": {
        "id": "IZ_ty7grGTwa"
      },
      "source": [
        "###Проверка равенства дисперсий"
      ]
    },
    {
      "cell_type": "markdown",
      "metadata": {
        "id": "7HFnSmf3Icg_"
      },
      "source": [
        "**H0**: Var(X1) = Var(X2) <br>\n",
        "**H1**: Var(X1) != Var(X2)"
      ]
    },
    {
      "cell_type": "markdown",
      "metadata": {
        "id": "o5sijihFIBEw"
      },
      "source": [
        "В качестве критерия однородности используем критерий Левена, т.к. он менее чувствителен к отклонению распределения от нормального, чем другие критерии однородности (такие как F-критерий Фишера или критерий Бартлетта)."
      ]
    },
    {
      "cell_type": "code",
      "metadata": {
        "id": "wOFtEVgQ3gqU",
        "colab": {
          "base_uri": "https://localhost:8080/"
        },
        "outputId": "1ea3f1d2-0d89-4f5f-b60e-85c604500aa7"
      },
      "source": [
        "from scipy.stats import levene\n",
        " \n",
        "alpha = 0.05 \n",
        "\n",
        "p_value = levene(metric_group_a, metric_group_b)[1] \n",
        "\n",
        "print('{} the H0: Var(X1) = Var(X2) (p-value = {:.2})\\n'.\n",
        "      format({True:'Reject', False:'Confirm'}[p_value < alpha], p_value))"
      ],
      "execution_count": null,
      "outputs": [
        {
          "output_type": "stream",
          "name": "stdout",
          "text": [
            "Confirm the H0: Var(X1) = Var(X2) (p-value = 0.35)\n",
            "\n"
          ]
        }
      ]
    },
    {
      "cell_type": "markdown",
      "metadata": {
        "id": "7jawrXUkde1K"
      },
      "source": [
        "На основании полученного значения p-value мы **не можем отвергнуть нулевую гипотезу H0** о равенстве дисперсий групп A и B."
      ]
    },
    {
      "cell_type": "markdown",
      "metadata": {
        "id": "OLocRTF5cc-A"
      },
      "source": [
        "###Проверка статистической значимости различий "
      ]
    },
    {
      "cell_type": "markdown",
      "source": [
        "Воспользуемся методом bootstrap для проверки статистической значимости различий"
      ],
      "metadata": {
        "id": "FSS6m1tjI-C1"
      }
    },
    {
      "cell_type": "code",
      "source": [
        "metric_bs = bs.bootstrap_ab(np.array(metric_group_b), np.array(metric_group_a), \n",
        "                            bs_stats.mean,\n",
        "                            bs_compare.percent_change, \n",
        "                            num_iterations=5000, iteration_batch_size=100, \n",
        "                            alpha=0.05,\n",
        "                            scale_test_by=1, num_threads=4)\n",
        "\n",
        "metric_bs"
      ],
      "metadata": {
        "id": "GQhZ0JQSzCyH",
        "colab": {
          "base_uri": "https://localhost:8080/"
        },
        "outputId": "0b15a7cb-dd3f-4668-89e8-e5652378db89"
      },
      "execution_count": null,
      "outputs": [
        {
          "output_type": "execute_result",
          "data": {
            "text/plain": [
              "7.197720323707961    (5.5661004440145465, 8.83936492989364)"
            ]
          },
          "metadata": {},
          "execution_count": 138
        }
      ]
    },
    {
      "cell_type": "markdown",
      "source": [
        "Получили, что 95-процентный доверительный интервал не содержит 0, а значит, мы можем **отвергнуть H0**.<br><br>\n",
        "То есть различия между средними значениями metric_value для групп A и B статистически значимы. Средняя сумма целевых действий пользователей в экспериментальной группе больше по сравнению с контрольной, следовательно, **нововведение имело положительный эффект в плане увеличения среднего показателя metric_value**."
      ],
      "metadata": {
        "id": "PpAJ1n2BKkZ0"
      }
    },
    {
      "cell_type": "markdown",
      "metadata": {
        "id": "AmDRjCuVNKyA"
      },
      "source": [
        "<a name=\"sessions_num\"></a>\n",
        "#Среднее количество сессий"
      ]
    },
    {
      "cell_type": "markdown",
      "source": [
        "Берем общее количество сессий для данной метрики, так как, в соответствии с нашим предположением, определить \"чистое\" количество успешных и неуспешных сессий (в которых неудачное действие не перекрывало бы удачное) достаточно трудно"
      ],
      "metadata": {
        "id": "idrjXcCSUMC7"
      }
    },
    {
      "cell_type": "markdown",
      "metadata": {
        "id": "Dlzhqp6wpLaA"
      },
      "source": [
        "**Нулевая гипотеза**: <br>\n",
        "H0 - различия в средних количествах сессий для групп A и B вызваны лишь случайными причинами <br>\n",
        "**Альтернативная гипотеза**: <br>\n",
        "H1 -  между средними количествами сессий для групп A и B действительно существуют значимые различия"
      ]
    },
    {
      "cell_type": "markdown",
      "metadata": {
        "id": "fhkGmzVdd5CF"
      },
      "source": [
        "Создадим в таблице дополнительную колонку с общим количеством сессий для каждого пользователя:"
      ]
    },
    {
      "cell_type": "code",
      "metadata": {
        "colab": {
          "base_uri": "https://localhost:8080/",
          "height": 206
        },
        "id": "Lpp1uWgpGmpn",
        "outputId": "1472f497-4e40-45cb-d768-f1937a51598c"
      },
      "source": [
        "users['total_visits'] = users['churn_visits'] + users['visits']\n",
        "users.head()"
      ],
      "execution_count": null,
      "outputs": [
        {
          "output_type": "execute_result",
          "data": {
            "text/html": [
              "<div>\n",
              "<style scoped>\n",
              "    .dataframe tbody tr th:only-of-type {\n",
              "        vertical-align: middle;\n",
              "    }\n",
              "\n",
              "    .dataframe tbody tr th {\n",
              "        vertical-align: top;\n",
              "    }\n",
              "\n",
              "    .dataframe thead th {\n",
              "        text-align: right;\n",
              "    }\n",
              "</style>\n",
              "<table border=\"1\" class=\"dataframe\">\n",
              "  <thead>\n",
              "    <tr style=\"text-align: right;\">\n",
              "      <th></th>\n",
              "      <th>group_id</th>\n",
              "      <th>metric_value</th>\n",
              "      <th>users</th>\n",
              "      <th>visits</th>\n",
              "      <th>churn_users</th>\n",
              "      <th>churn_visits</th>\n",
              "      <th>group</th>\n",
              "      <th>total_visits</th>\n",
              "    </tr>\n",
              "  </thead>\n",
              "  <tbody>\n",
              "    <tr>\n",
              "      <th>0</th>\n",
              "      <td>8</td>\n",
              "      <td>6630.000</td>\n",
              "      <td>0</td>\n",
              "      <td>0</td>\n",
              "      <td>0</td>\n",
              "      <td>8</td>\n",
              "      <td>A</td>\n",
              "      <td>8</td>\n",
              "    </tr>\n",
              "    <tr>\n",
              "      <th>1</th>\n",
              "      <td>13</td>\n",
              "      <td>6933.976</td>\n",
              "      <td>0</td>\n",
              "      <td>0</td>\n",
              "      <td>1</td>\n",
              "      <td>6</td>\n",
              "      <td>B</td>\n",
              "      <td>6</td>\n",
              "    </tr>\n",
              "    <tr>\n",
              "      <th>2</th>\n",
              "      <td>10</td>\n",
              "      <td>8261.976</td>\n",
              "      <td>1</td>\n",
              "      <td>10</td>\n",
              "      <td>1</td>\n",
              "      <td>8</td>\n",
              "      <td>B</td>\n",
              "      <td>18</td>\n",
              "    </tr>\n",
              "    <tr>\n",
              "      <th>3</th>\n",
              "      <td>4</td>\n",
              "      <td>5522.000</td>\n",
              "      <td>1</td>\n",
              "      <td>9</td>\n",
              "      <td>1</td>\n",
              "      <td>7</td>\n",
              "      <td>A</td>\n",
              "      <td>16</td>\n",
              "    </tr>\n",
              "    <tr>\n",
              "      <th>4</th>\n",
              "      <td>16</td>\n",
              "      <td>5075.976</td>\n",
              "      <td>1</td>\n",
              "      <td>6</td>\n",
              "      <td>0</td>\n",
              "      <td>8</td>\n",
              "      <td>B</td>\n",
              "      <td>14</td>\n",
              "    </tr>\n",
              "  </tbody>\n",
              "</table>\n",
              "</div>"
            ],
            "text/plain": [
              "   group_id  metric_value  users  ...  churn_visits  group  total_visits\n",
              "0         8      6630.000      0  ...             8      A             8\n",
              "1        13      6933.976      0  ...             6      B             6\n",
              "2        10      8261.976      1  ...             8      B            18\n",
              "3         4      5522.000      1  ...             7      A            16\n",
              "4        16      5075.976      1  ...             8      B            14\n",
              "\n",
              "[5 rows x 8 columns]"
            ]
          },
          "metadata": {},
          "execution_count": 139
        }
      ]
    },
    {
      "cell_type": "code",
      "metadata": {
        "id": "jFej7ttyUYZN"
      },
      "source": [
        "visits_group_a = users.loc[users['group'] == 'A']['total_visits']\n",
        "visits_group_b = users.loc[users['group'] == 'B']['total_visits']"
      ],
      "execution_count": null,
      "outputs": []
    },
    {
      "cell_type": "code",
      "metadata": {
        "colab": {
          "base_uri": "https://localhost:8080/"
        },
        "id": "VSrSJWOIv4xN",
        "outputId": "a8822fcb-0f05-47cd-e014-1b3ad414fec7"
      },
      "source": [
        "print('Group A Total Visits mean: ', visits_group_a.mean(), sep='')\n",
        "print('Group B Total Visits mean: ', visits_group_b.mean(), sep='')"
      ],
      "execution_count": null,
      "outputs": [
        {
          "output_type": "stream",
          "name": "stdout",
          "text": [
            "Group A Total Visits mean: 11.76907384740922\n",
            "Group B Total Visits mean: 11.53432718713221\n"
          ]
        }
      ]
    },
    {
      "cell_type": "code",
      "source": [
        "lift = (visits_group_b.mean() - visits_group_a.mean()) / visits_group_b.mean() * 100\n",
        "print('Lift: {:.2}%'.format(lift))"
      ],
      "metadata": {
        "colab": {
          "base_uri": "https://localhost:8080/"
        },
        "id": "n-SQW7xANGiN",
        "outputId": "73ff0e4c-0011-4c15-9754-b65a2fb769f9"
      },
      "execution_count": null,
      "outputs": [
        {
          "output_type": "stream",
          "name": "stdout",
          "text": [
            "Lift: -2.0%\n"
          ]
        }
      ]
    },
    {
      "cell_type": "markdown",
      "metadata": {
        "id": "Ru_w93ftsssU"
      },
      "source": [
        "Распределения total_visits для каждой из групп:"
      ]
    },
    {
      "cell_type": "code",
      "metadata": {
        "colab": {
          "base_uri": "https://localhost:8080/",
          "height": 339
        },
        "id": "cWbjXvLCbpoY",
        "outputId": "93852e2e-1f39-4621-8f8a-10fbeb4fd5f6"
      },
      "source": [
        "sns.set_style(\"darkgrid\")\n",
        "sns.set(rc={'figure.figsize':(10, 5)})\n",
        "\n",
        "sns.histplot(data=users, x='total_visits', hue='group', binwidth=1)\n",
        "plt.show()"
      ],
      "execution_count": null,
      "outputs": [
        {
          "output_type": "display_data",
          "data": {
            "image/png": "[encoded data removed]",
            "text/plain": [
              "<Figure size 720x360 with 1 Axes>"
            ]
          },
          "metadata": {}
        }
      ]
    },
    {
      "cell_type": "markdown",
      "source": [
        "Распределения имеют длинный правый хвост. Это видно и на диаграммах размаха:"
      ],
      "metadata": {
        "id": "Vi7Ln7XsNoX1"
      }
    },
    {
      "cell_type": "code",
      "metadata": {
        "colab": {
          "base_uri": "https://localhost:8080/",
          "height": 339
        },
        "id": "A4CmDJOMtAi8",
        "outputId": "b548b7e3-6001-461a-aed2-74a3df4c7178"
      },
      "source": [
        "sns.set(rc={'figure.figsize':(10, 5)})\n",
        "\n",
        "sns.boxplot(x='group', y='total_visits', data=users)\n",
        "plt.show()"
      ],
      "execution_count": null,
      "outputs": [
        {
          "output_type": "display_data",
          "data": {
            "image/png": "[encoded data removed]",
            "text/plain": [
              "<Figure size 720x360 with 1 Axes>"
            ]
          },
          "metadata": {}
        }
      ]
    },
    {
      "cell_type": "markdown",
      "source": [
        "Сформируем подвыборки из наших выборок с помощью метода bootstrap"
      ],
      "metadata": {
        "id": "o9sBwhxDOemG"
      }
    },
    {
      "cell_type": "code",
      "source": [
        "visits_bs_a = bs.bootstrap(np.array(visits_group_a),\n",
        "                           stat_func=bs_stats.mean, num_iterations=10000,\n",
        "                           iteration_batch_size=100,\n",
        "                           return_distribution=True)\n",
        "visits_bs_b = bs.bootstrap(np.array(visits_group_b),\n",
        "                           stat_func=bs_stats.mean, num_iterations=10000,\n",
        "                           iteration_batch_size=100,\n",
        "                           return_distribution=True)"
      ],
      "metadata": {
        "id": "0gFKOYeGOfCX"
      },
      "execution_count": null,
      "outputs": []
    },
    {
      "cell_type": "code",
      "source": [
        "sns.set_style(\"darkgrid\")\n",
        "sns.set(rc={'figure.figsize':(10, 5)})\n",
        "\n",
        "sns.histplot(data=visits_bs_a)\n",
        "sns.histplot(data=visits_bs_b, color='#de8551')\n",
        "plt.show()"
      ],
      "metadata": {
        "colab": {
          "base_uri": "https://localhost:8080/",
          "height": 322
        },
        "id": "lhCQW8O3O522",
        "outputId": "ba18d78e-c965-4db1-9f40-490e2cbaa2e6"
      },
      "execution_count": null,
      "outputs": [
        {
          "output_type": "display_data",
          "data": {
            "image/png": "[encoded data removed]",
            "text/plain": [
              "<Figure size 720x360 with 1 Axes>"
            ]
          },
          "metadata": {}
        }
      ]
    },
    {
      "cell_type": "markdown",
      "source": [
        "Как и ожидалось, длинный правый хвост исчез. Новые распределения, полученные с помощью метода bootstrap, стали близки к нормальным. Для полученных распределений теперь можно использовать T-тест, но в данной работе мы будем использовать bootstrap для построения доверительного интервала и проверки статистической значимости различий на его основе"
      ],
      "metadata": {
        "id": "t1zkGcI0QC2i"
      }
    },
    {
      "cell_type": "markdown",
      "metadata": {
        "id": "kXXomRHitXpM"
      },
      "source": [
        "###Проверка распределений на нормальность"
      ]
    },
    {
      "cell_type": "markdown",
      "source": [
        "*Проверяем исходные выборки: visits_group_a и visits_group_b"
      ],
      "metadata": {
        "id": "jThM3WtUQaeC"
      }
    },
    {
      "cell_type": "markdown",
      "metadata": {
        "id": "VHEpt7mXtvH_"
      },
      "source": [
        "**H0**: распределение является нормальным <br>\n",
        "**H1**: распределение не является нормальным"
      ]
    },
    {
      "cell_type": "code",
      "metadata": {
        "colab": {
          "base_uri": "https://localhost:8080/",
          "height": 577
        },
        "id": "U_Hsl7XCUVnr",
        "outputId": "a0101e83-b3d4-4fab-8128-bf7947360057"
      },
      "source": [
        "tmp_a = pd.DataFrame(visits_group_a)\n",
        "pplot(tmp_a, x='total_visits', y=norm, kind='qq', height=4, aspect=2, display_kws={'identity':True})\n",
        "\n",
        "tmp_b = pd.DataFrame(visits_group_b)\n",
        "pplot(tmp_b, x='total_visits', y=norm, kind='qq', height=4, aspect=2, display_kws={'identity':True})\n",
        "\n",
        "plt.show()"
      ],
      "execution_count": null,
      "outputs": [
        {
          "output_type": "display_data",
          "data": {
            "image/png": "[encoded data removed]",
            "text/plain": [
              "<Figure size 576x288 with 1 Axes>"
            ]
          },
          "metadata": {}
        },
        {
          "output_type": "display_data",
          "data": {
            "image/png": "[encoded data removed]",
            "text/plain": [
              "<Figure size 576x288 with 1 Axes>"
            ]
          },
          "metadata": {}
        }
      ]
    },
    {
      "cell_type": "markdown",
      "metadata": {
        "id": "KZWF-NM6tzB4"
      },
      "source": [
        "Как мы указали выше, у распределений есть длинный правый хвост, что делает их совсем не похожими на нормальные. Однако в любом случае проведем формальный тест."
      ]
    },
    {
      "cell_type": "markdown",
      "metadata": {
        "id": "B1dMm1alt0W_"
      },
      "source": [
        "Воспользуемся критерием Шапиро-Уилка для проверки распределений на нормальность. "
      ]
    },
    {
      "cell_type": "code",
      "metadata": {
        "colab": {
          "base_uri": "https://localhost:8080/"
        },
        "id": "VPTBeU6HUt0J",
        "outputId": "56d1f4fb-28c1-4eb1-e9f0-b41859b025b5"
      },
      "source": [
        "from scipy.stats import shapiro\n",
        "\n",
        "alpha = 0.05\n",
        "\n",
        "p_value = shapiro(visits_group_a)[1]\n",
        "\n",
        "print('Distribution A is {}normal (p-value = {})'.\n",
        "      format({True:'not ', False:''}[p_value < alpha], \n",
        "             p_value))\n",
        "\n",
        "p_value = shapiro(visits_group_b)[1]\n",
        "\n",
        "print('Distribution B is {}normal (p-value = {})'.\n",
        "      format({True:'not ', False:''}[p_value < alpha],\n",
        "             p_value))"
      ],
      "execution_count": null,
      "outputs": [
        {
          "output_type": "stream",
          "name": "stdout",
          "text": [
            "Distribution A is not normal (p-value = 0.0)\n",
            "Distribution B is not normal (p-value = 0.0)\n"
          ]
        }
      ]
    },
    {
      "cell_type": "markdown",
      "metadata": {
        "id": "cOgFyurlt2Xx"
      },
      "source": [
        "Наши предположения оказались верны: **отвергаем нулевую гипотезу H0**, утверждающую, что распределение значений total_visits является нормальным (как для группы A, так и для группы B)."
      ]
    },
    {
      "cell_type": "markdown",
      "metadata": {
        "id": "NVsvoD6Su57o"
      },
      "source": [
        "###Проверка равенства дисперсий"
      ]
    },
    {
      "cell_type": "markdown",
      "metadata": {
        "id": "SFDfKi0Xu9E7"
      },
      "source": [
        "**H0**: Var(X1) = Var(X2) <br>\n",
        "**H1**: Var(X1) != Var(X2)"
      ]
    },
    {
      "cell_type": "markdown",
      "metadata": {
        "id": "e4FSEEeSu_NJ"
      },
      "source": [
        "В качестве критерия однородности используем критерий Левена, т.к. он менее чувствителен к отклонению распределения от нормального, чем другие критерии однородности (такие как F-критерий Фишера и критерий Бартлетта)."
      ]
    },
    {
      "cell_type": "code",
      "metadata": {
        "colab": {
          "base_uri": "https://localhost:8080/"
        },
        "id": "NF1W6a1FvIdK",
        "outputId": "870059ee-d866-4e22-ecae-0d0322e02a94"
      },
      "source": [
        "from scipy.stats import levene\n",
        " \n",
        "alpha = 0.05 \n",
        "\n",
        "p_value = levene(visits_group_a, visits_group_b)[1]\n",
        "\n",
        "print('{} the H0: Var(X1) = Var(X2) (p-value = {})\\n'.\n",
        "      format({True:'Reject', False:'Confirm'}[p_value < alpha],\n",
        "             p_value))"
      ],
      "execution_count": null,
      "outputs": [
        {
          "output_type": "stream",
          "name": "stdout",
          "text": [
            "Confirm the H0: Var(X1) = Var(X2) (p-value = 0.29144064110820345)\n",
            "\n"
          ]
        }
      ]
    },
    {
      "cell_type": "markdown",
      "metadata": {
        "id": "nlp-WxmIvDRK"
      },
      "source": [
        "На основании полученного значения p-value мы **не можем отвергнуть нулевую гипотезу H0** о равенстве дисперсий групп A и B."
      ]
    },
    {
      "cell_type": "markdown",
      "metadata": {
        "id": "zQIK6j0TvFJR"
      },
      "source": [
        "###Проверка статистической значимости различий "
      ]
    },
    {
      "cell_type": "markdown",
      "source": [
        "Воспользуемся методом bootstrap для проверки статистической значимости различий"
      ],
      "metadata": {
        "id": "xszUv1vhRhTl"
      }
    },
    {
      "cell_type": "code",
      "source": [
        "visits_bs = bs.bootstrap_ab(np.array(visits_group_b), np.array(visits_group_a), \n",
        "                            bs_stats.mean,\n",
        "                            bs_compare.percent_change, num_iterations=5000, \n",
        "                            alpha=0.05, iteration_batch_size=100, \n",
        "                            scale_test_by=1, num_threads=4)\n",
        "\n",
        "visits_bs"
      ],
      "metadata": {
        "colab": {
          "base_uri": "https://localhost:8080/"
        },
        "id": "D3mck-eegSAp",
        "outputId": "6f2ef955-b8d2-4b07-da53-04e5d6122dd0"
      },
      "execution_count": null,
      "outputs": [
        {
          "output_type": "execute_result",
          "data": {
            "text/plain": [
              "-1.9946060609407004    (-5.494843950001991, 1.3802416239233746)"
            ]
          },
          "metadata": {},
          "execution_count": 150
        }
      ]
    },
    {
      "cell_type": "markdown",
      "source": [
        "Получили, что 95-процентный доверительный интервал содержит 0, а значит, мы **не можем отвергнуть H0**.\n",
        "\n",
        "То есть различия различия в средних количествах сессий для групп A и B вызваны лишь случайными причинами и статистически не значимы. **Нововведение не оказало существенного влияния на среднее количество сессий пользователей.**"
      ],
      "metadata": {
        "id": "oqyhZC1ORmdz"
      }
    },
    {
      "cell_type": "markdown",
      "source": [
        "<a name=\"churn_ratio\"></a>\n",
        "#Доля churn_users в рамках групп"
      ],
      "metadata": {
        "id": "WflW_LKCDxZS"
      }
    },
    {
      "cell_type": "markdown",
      "source": [
        "**Нулевая гипотеза**: <br>\n",
        "H0 - различия в долях ушедших пользователей для групп A и B вызваны лишь случайными причинами <br>\n",
        "**Альтернативная гипотеза**: <br>\n",
        "H1 -  между долями ушедших пользователей для групп A и B действительно существуют значимые различия"
      ],
      "metadata": {
        "id": "NMLWyaiHYZ4m"
      }
    },
    {
      "cell_type": "markdown",
      "source": [
        "Создадим в таблице дополнительную колонку с долей churn_users для каждой группы. Также добавим колонку 'group' с названием группы (A или B) для удобства:"
      ],
      "metadata": {
        "id": "WCYlZJItUcD6"
      }
    },
    {
      "cell_type": "code",
      "source": [
        "buckets['churn_ratio'] = (buckets['churn_users'] / \n",
        "                          (buckets['users'] + buckets['churn_users']))\n",
        "\n",
        "buckets.loc[buckets['group_id'] <= 8, 'group'] = 'A'\n",
        "buckets.loc[buckets['group_id'] > 8, 'group'] = 'B'\n",
        "\n",
        "buckets"
      ],
      "metadata": {
        "colab": {
          "base_uri": "https://localhost:8080/",
          "height": 551
        },
        "id": "nAQs6xS7FF-R",
        "outputId": "e324dbf4-90d3-40bb-bbe7-881422fbca37"
      },
      "execution_count": null,
      "outputs": [
        {
          "output_type": "execute_result",
          "data": {
            "text/html": [
              "<div>\n",
              "<style scoped>\n",
              "    .dataframe tbody tr th:only-of-type {\n",
              "        vertical-align: middle;\n",
              "    }\n",
              "\n",
              "    .dataframe tbody tr th {\n",
              "        vertical-align: top;\n",
              "    }\n",
              "\n",
              "    .dataframe thead th {\n",
              "        text-align: right;\n",
              "    }\n",
              "</style>\n",
              "<table border=\"1\" class=\"dataframe\">\n",
              "  <thead>\n",
              "    <tr style=\"text-align: right;\">\n",
              "      <th></th>\n",
              "      <th>group_id</th>\n",
              "      <th>metric_value</th>\n",
              "      <th>users</th>\n",
              "      <th>visits</th>\n",
              "      <th>churn_users</th>\n",
              "      <th>churn_visits</th>\n",
              "      <th>churn_ratio</th>\n",
              "      <th>group</th>\n",
              "    </tr>\n",
              "  </thead>\n",
              "  <tbody>\n",
              "    <tr>\n",
              "      <th>0</th>\n",
              "      <td>1</td>\n",
              "      <td>1875345.000</td>\n",
              "      <td>155</td>\n",
              "      <td>1419</td>\n",
              "      <td>151</td>\n",
              "      <td>2207</td>\n",
              "      <td>0.493464</td>\n",
              "      <td>A</td>\n",
              "    </tr>\n",
              "    <tr>\n",
              "      <th>1</th>\n",
              "      <td>2</td>\n",
              "      <td>1662237.000</td>\n",
              "      <td>138</td>\n",
              "      <td>1320</td>\n",
              "      <td>127</td>\n",
              "      <td>1853</td>\n",
              "      <td>0.479245</td>\n",
              "      <td>A</td>\n",
              "    </tr>\n",
              "    <tr>\n",
              "      <th>2</th>\n",
              "      <td>3</td>\n",
              "      <td>1784372.000</td>\n",
              "      <td>128</td>\n",
              "      <td>1281</td>\n",
              "      <td>159</td>\n",
              "      <td>2032</td>\n",
              "      <td>0.554007</td>\n",
              "      <td>A</td>\n",
              "    </tr>\n",
              "    <tr>\n",
              "      <th>3</th>\n",
              "      <td>4</td>\n",
              "      <td>1876826.000</td>\n",
              "      <td>163</td>\n",
              "      <td>1644</td>\n",
              "      <td>168</td>\n",
              "      <td>2172</td>\n",
              "      <td>0.507553</td>\n",
              "      <td>A</td>\n",
              "    </tr>\n",
              "    <tr>\n",
              "      <th>4</th>\n",
              "      <td>5</td>\n",
              "      <td>1913180.000</td>\n",
              "      <td>156</td>\n",
              "      <td>1675</td>\n",
              "      <td>174</td>\n",
              "      <td>2273</td>\n",
              "      <td>0.527273</td>\n",
              "      <td>A</td>\n",
              "    </tr>\n",
              "    <tr>\n",
              "      <th>5</th>\n",
              "      <td>6</td>\n",
              "      <td>1733079.000</td>\n",
              "      <td>144</td>\n",
              "      <td>1509</td>\n",
              "      <td>141</td>\n",
              "      <td>2009</td>\n",
              "      <td>0.494737</td>\n",
              "      <td>A</td>\n",
              "    </tr>\n",
              "    <tr>\n",
              "      <th>6</th>\n",
              "      <td>7</td>\n",
              "      <td>1864555.000</td>\n",
              "      <td>151</td>\n",
              "      <td>1481</td>\n",
              "      <td>161</td>\n",
              "      <td>2139</td>\n",
              "      <td>0.516026</td>\n",
              "      <td>A</td>\n",
              "    </tr>\n",
              "    <tr>\n",
              "      <th>7</th>\n",
              "      <td>8</td>\n",
              "      <td>2029143.000</td>\n",
              "      <td>162</td>\n",
              "      <td>1533</td>\n",
              "      <td>153</td>\n",
              "      <td>2299</td>\n",
              "      <td>0.485714</td>\n",
              "      <td>A</td>\n",
              "    </tr>\n",
              "    <tr>\n",
              "      <th>8</th>\n",
              "      <td>9</td>\n",
              "      <td>2047289.536</td>\n",
              "      <td>143</td>\n",
              "      <td>1424</td>\n",
              "      <td>242</td>\n",
              "      <td>2191</td>\n",
              "      <td>0.628571</td>\n",
              "      <td>B</td>\n",
              "    </tr>\n",
              "    <tr>\n",
              "      <th>9</th>\n",
              "      <td>10</td>\n",
              "      <td>2228154.648</td>\n",
              "      <td>179</td>\n",
              "      <td>1803</td>\n",
              "      <td>265</td>\n",
              "      <td>2518</td>\n",
              "      <td>0.596847</td>\n",
              "      <td>B</td>\n",
              "    </tr>\n",
              "    <tr>\n",
              "      <th>10</th>\n",
              "      <td>11</td>\n",
              "      <td>1876015.920</td>\n",
              "      <td>150</td>\n",
              "      <td>1448</td>\n",
              "      <td>226</td>\n",
              "      <td>2062</td>\n",
              "      <td>0.601064</td>\n",
              "      <td>B</td>\n",
              "    </tr>\n",
              "    <tr>\n",
              "      <th>11</th>\n",
              "      <td>12</td>\n",
              "      <td>2102859.224</td>\n",
              "      <td>149</td>\n",
              "      <td>1339</td>\n",
              "      <td>261</td>\n",
              "      <td>2257</td>\n",
              "      <td>0.636585</td>\n",
              "      <td>B</td>\n",
              "    </tr>\n",
              "    <tr>\n",
              "      <th>12</th>\n",
              "      <td>13</td>\n",
              "      <td>2079287.344</td>\n",
              "      <td>155</td>\n",
              "      <td>1240</td>\n",
              "      <td>257</td>\n",
              "      <td>2248</td>\n",
              "      <td>0.623786</td>\n",
              "      <td>B</td>\n",
              "    </tr>\n",
              "    <tr>\n",
              "      <th>13</th>\n",
              "      <td>14</td>\n",
              "      <td>2127954.032</td>\n",
              "      <td>166</td>\n",
              "      <td>1397</td>\n",
              "      <td>256</td>\n",
              "      <td>2215</td>\n",
              "      <td>0.606635</td>\n",
              "      <td>B</td>\n",
              "    </tr>\n",
              "    <tr>\n",
              "      <th>14</th>\n",
              "      <td>15</td>\n",
              "      <td>1887384.920</td>\n",
              "      <td>161</td>\n",
              "      <td>1488</td>\n",
              "      <td>224</td>\n",
              "      <td>2015</td>\n",
              "      <td>0.581818</td>\n",
              "      <td>B</td>\n",
              "    </tr>\n",
              "    <tr>\n",
              "      <th>15</th>\n",
              "      <td>16</td>\n",
              "      <td>2082370.200</td>\n",
              "      <td>159</td>\n",
              "      <td>1469</td>\n",
              "      <td>273</td>\n",
              "      <td>2287</td>\n",
              "      <td>0.631944</td>\n",
              "      <td>B</td>\n",
              "    </tr>\n",
              "  </tbody>\n",
              "</table>\n",
              "</div>"
            ],
            "text/plain": [
              "    group_id  metric_value  users  ...  churn_visits  churn_ratio  group\n",
              "0          1   1875345.000    155  ...          2207     0.493464      A\n",
              "1          2   1662237.000    138  ...          1853     0.479245      A\n",
              "2          3   1784372.000    128  ...          2032     0.554007      A\n",
              "3          4   1876826.000    163  ...          2172     0.507553      A\n",
              "4          5   1913180.000    156  ...          2273     0.527273      A\n",
              "5          6   1733079.000    144  ...          2009     0.494737      A\n",
              "6          7   1864555.000    151  ...          2139     0.516026      A\n",
              "7          8   2029143.000    162  ...          2299     0.485714      A\n",
              "8          9   2047289.536    143  ...          2191     0.628571      B\n",
              "9         10   2228154.648    179  ...          2518     0.596847      B\n",
              "10        11   1876015.920    150  ...          2062     0.601064      B\n",
              "11        12   2102859.224    149  ...          2257     0.636585      B\n",
              "12        13   2079287.344    155  ...          2248     0.623786      B\n",
              "13        14   2127954.032    166  ...          2215     0.606635      B\n",
              "14        15   1887384.920    161  ...          2015     0.581818      B\n",
              "15        16   2082370.200    159  ...          2287     0.631944      B\n",
              "\n",
              "[16 rows x 8 columns]"
            ]
          },
          "metadata": {},
          "execution_count": 151
        }
      ]
    },
    {
      "cell_type": "code",
      "source": [
        "churn_ratio_group_a = buckets.loc[buckets['group_id'] <= 8]['churn_ratio']\n",
        "churn_ratio_group_b = buckets.loc[buckets['group_id'] > 8]['churn_ratio']"
      ],
      "metadata": {
        "id": "bvmUb8rDHXa1"
      },
      "execution_count": null,
      "outputs": []
    },
    {
      "cell_type": "markdown",
      "source": [
        "Распределения churn_ratio для каждой из групп:"
      ],
      "metadata": {
        "id": "v9dUVc_zZiya"
      }
    },
    {
      "cell_type": "code",
      "source": [
        "sns.set_style(\"darkgrid\")\n",
        "sns.set(rc={'figure.figsize':(10, 5)})\n",
        "\n",
        "sns.histplot(data=buckets, x=\"churn_ratio\", hue='group')\n",
        "plt.show()"
      ],
      "metadata": {
        "colab": {
          "base_uri": "https://localhost:8080/",
          "height": 339
        },
        "id": "qNM_FSJmUqGc",
        "outputId": "b26b50df-0679-489c-8e15-e35c5d1caebb"
      },
      "execution_count": null,
      "outputs": [
        {
          "output_type": "display_data",
          "data": {
            "image/png": "[encoded data removed]",
            "text/plain": [
              "<Figure size 720x360 with 1 Axes>"
            ]
          },
          "metadata": {}
        }
      ]
    },
    {
      "cell_type": "markdown",
      "source": [
        "Распределения выборок не являются нормальными, это может быть связано с их малыми размерами "
      ],
      "metadata": {
        "id": "OY8OQRmwdAC7"
      }
    },
    {
      "cell_type": "markdown",
      "source": [
        "Диаграммы размаха:"
      ],
      "metadata": {
        "id": "Uxfj_kjVcLT6"
      }
    },
    {
      "cell_type": "code",
      "source": [
        "sns.set(rc={'figure.figsize':(10, 5)})\n",
        "\n",
        "sns.boxplot(x='group', y='churn_ratio', data=buckets)\n",
        "plt.show()"
      ],
      "metadata": {
        "colab": {
          "base_uri": "https://localhost:8080/",
          "height": 339
        },
        "id": "gSs1Np_rZl5f",
        "outputId": "4c7876f7-6f8a-46d7-ae5c-5073080ee344"
      },
      "execution_count": null,
      "outputs": [
        {
          "output_type": "display_data",
          "data": {
            "image/png": "[encoded data removed]",
            "text/plain": [
              "<Figure size 720x360 with 1 Axes>"
            ]
          },
          "metadata": {}
        }
      ]
    },
    {
      "cell_type": "markdown",
      "source": [
        "Для ratio-метрик достаточно затруднительно использовать bootstrap, т.к. тогда бы пришлось учитывать и количество ушедших пользователей, и общее количество пользователей, и связь между ними<br><br>\n",
        "Поэтому применим **дельта-метод** для проверки статистической значимости различий ratio-метрик с помощью построения доверительного интервала <br>\n",
        "**Source**: Alex Deng, Ulf Knoblich and Jiannan Lu, Applying the Delta Method in Metric Analytics: A Practical Guide with Novel Ideas, 2018 https://arxiv.org/pdf/1803.06336.pdf<br>\n",
        "![image.jpg](https://drive.google.com/uc?export=view&id=1myneu_AkIamZC_BbzVi5M_ZzkPf59C08)"
      ],
      "metadata": {
        "id": "3pjQKTLyJNZY"
      }
    },
    {
      "cell_type": "code",
      "source": [
        "import scipy.stats as st\n",
        "\n",
        "def delta_method_ratio(control, test, alpha = 0.05):\n",
        "\n",
        "    n = 1/2 * (len(control) + len(test))\n",
        "    c_mean = np.mean(control)\n",
        "    t_mean = np.mean(test)\n",
        "    c_var = np.var(control)\n",
        "    t_var = np.var(test)\n",
        "    c_t_covariance = np.cov(control, test)[0][1]\n",
        "\n",
        "    pe = t_mean / c_mean - 1\n",
        "    ve = ((t_var ** 2) / (c_mean ** 2) - \n",
        "          (2 * t_mean * c_t_covariance) / (c_mean ** 3) +\n",
        "          (t_mean ** 2 * c_t_covariance) / (c_mean ** 4)) \n",
        "    \n",
        "    z = st.norm.ppf(1 - alpha / 2)\n",
        "    lower = pe - z * np.sqrt(ve / n)\n",
        "    upper = pe + z * np.sqrt(ve / n)\n",
        "\n",
        "    return pe, lower, upper\n",
        "\n",
        "delta_method_ratio(churn_ratio_group_a, churn_ratio_group_b)"
      ],
      "metadata": {
        "colab": {
          "base_uri": "https://localhost:8080/"
        },
        "id": "lP5C_5AWGwIx",
        "outputId": "56da5ba1-ab71-48e1-85e2-e7f757e8e3eb"
      },
      "execution_count": null,
      "outputs": [
        {
          "output_type": "execute_result",
          "data": {
            "text/plain": [
              "(0.20927279420083233, 0.1959134683860247, 0.22263212001563998)"
            ]
          },
          "metadata": {},
          "execution_count": 155
        }
      ]
    },
    {
      "cell_type": "markdown",
      "source": [
        "Получили, что 95-процентный доверительный интервал не содержит 0, а значит, мы можем **отвергнуть H0**.<br><br>\n",
        "То есть различия между долями ушедших пользователей для групп A и B статистически значимы. Процентное соотношение ушедших пользователей больше в тестовой группе, следовательно, **нововведение имело отрицательный эффект на отток пользователей: больше пользователей стало уходить**."
      ],
      "metadata": {
        "id": "GQ0aLAV-XrhI"
      }
    },
    {
      "cell_type": "markdown",
      "metadata": {
        "id": "rZTDw-4FsX-f"
      },
      "source": [
        "<a name=\"conclusion\"></a>\n",
        "#Общий вывод"
      ]
    },
    {
      "cell_type": "markdown",
      "metadata": {
        "id": "G971vFm3k4-s"
      },
      "source": [
        "Позитивный эффект нововведения: увеличение среднего показателя metric_value. <br>\n",
        "Отрицательный эффект нововведения: больший отток пользователей.<br>\n",
        "Не изменилось: среднее количество сессий пользователей."
      ]
    }
  ]
}